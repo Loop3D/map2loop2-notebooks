{
 "cells": [
  {
   "cell_type": "code",
   "execution_count": null,
   "id": "sticky-competition",
   "metadata": {},
   "outputs": [],
   "source": [
    "import os\n",
    "from map2loop.project import Project\n",
    "\n",
    "proj = Project(\n",
    "                  geology_file='C:/Users/00073294/Dropbox/1_Jupyter_notebooks/Peak_District/Peak_District_Bedrock.shp',\n",
    "                  fault_file='C:/Users/00073294/Dropbox/1_Jupyter_notebooks/Peak_District/Peak_District_Faults.shp',\n",
    "                  fold_file='C:/Users/00073294/Dropbox/1_Jupyter_notebooks/Peak_District/Peak_District_Faults.shp',\n",
    "                  structure_file='C:/Users/00073294/Dropbox/1_Jupyter_notebooks/Peak_District/Peak_District_Strike_dip.shp',\n",
    "                  mindep_file='C:/Users/00073294/Dropbox/1_Jupyter_notebooks/Peak_District/null_mindeps.shp',\n",
    "                  metadata='./outtest_config.hjson'\n",
    "                )\n",
    "\n",
    "proj.update_config(\n",
    "                    out_dir='outtest',\n",
    "                    overwrite='true',\n",
    "                    bbox_3d={\n",
    "                         minx: 396548 ,\n",
    "                         miny: 425778 ,\n",
    "                         maxx: 354923 ,\n",
    "                         maxy: 393751 ,\n",
    "                         base: -3200,\n",
    "                         top:  1200,\n",
    "                         local : True,\n",
    "                     },\n",
    "                    proj_crs={'init': 'epsg:27700'},\n",
    "                    quiet=True\n",
    "                  )\n",
    "\n",
    " proj.run(aus=False)"
   ]
  }
 ],
 "metadata": {
  "kernelspec": {
   "display_name": "Python 3",
   "language": "python",
   "name": "python3"
  },
  "language_info": {
   "codemirror_mode": {
    "name": "ipython",
    "version": 3
   },
   "file_extension": ".py",
   "mimetype": "text/x-python",
   "name": "python",
   "nbconvert_exporter": "python",
   "pygments_lexer": "ipython3",
   "version": "3.7.10"
  }
 },
 "nbformat": 4,
 "nbformat_minor": 5
}
