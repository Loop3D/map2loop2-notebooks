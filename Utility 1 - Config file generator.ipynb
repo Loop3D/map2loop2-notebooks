{
 "cells": [
  {
   "cell_type": "markdown",
   "metadata": {},
   "source": [
    "### Config file generator\n",
    "This simple notebook provides a tool for generating map2loop config hjson files and a minimum python script, one of the more annoying parts of the process.\n",
    "   \n",
    "1. It first gets the project name and destination projection system (as EPSG number)   \n",
    "   \n",
    "2. It then asks for the paths to the different shape files (for WFS you will have to edit this manually afterwards)   \n",
    "   \n",
    "3. Next for each input file, you have to define which fields to use, and which keywords to look for in some of these fields \n",
    "\n",
    "4. Finally you can alter the user definable parameters\n",
    "     \n",
    "5. This generates a minimum python script for your data with all the paths and parameters hopefully correctly configured.This can be run as is or pasted into a new notebook. \n"
   ]
  },
  {
   "cell_type": "code",
   "execution_count": 1,
   "metadata": {},
   "outputs": [],
   "source": [
    "#!conda install ipyfilechooser\n",
    "from ipyfilechooser import FileChooser\n",
    "import geopandas as gpd\n",
    "import ipywidgets as widgets\n",
    "import pandas as pd\n",
    "import os\n",
    "from IPython.display import Markdown, display\n",
    "\n",
    "def printmd(string):\n",
    "    display(Markdown(string))\n",
    "    \n",
    "pd.options.display.max_columns = None\n",
    "style = {'description_width': 'initial'}\n",
    "c_l= {\n",
    "#Orientations\n",
    "  \"d\": \"dip\",                  #field that contains dip information\n",
    "  \"dd\": \"azimuth\",             #field that contains dip direction information\n",
    "  \"sf\": 'codedescpt',             #field that contains information on type of structure\n",
    "  \"bedding\": 'bedding',            #text to search for in field defined by sf code to show that this is a bedding measurement\n",
    "  \"otype\": 'dip direction',            #flag to determine measurement convention (currently 'strike' or 'dip direction')\n",
    "  \"bo\": \"deform\",             #field that contains type of foliation\n",
    "  \"btype\": 'BEOI',            #text to search for in field defined by bo code to show that this is an overturned bedding measurement\n",
    "#stratigraphy\n",
    "  \"g\": 'sub_provin',               #field that contains coarser stratigraphic coding\n",
    "  \"g2\": 'province',              #field that contains alternate coarser stratigraphic coding if 'g' is blank\n",
    "  \"c\": 'unit_name',                 #field that contains finer stratigraphic coding\n",
    "  \"ds\": 'deposition',           #field that contains information about lithology\n",
    "  \"u\": 'nsw_code',             #field that contains alternate stratigraphic coding (not used??)\n",
    "  \"r1\": 'class',           #field that contains  extra lithology information\n",
    "  \"r2\": 'igneous_ty',           #field that contains even more lithology information\n",
    "  \"sill\": 'sill',              #text to search for in field defined by ds code to show that this is a sill\n",
    "  \"intrusive\": 'intrusive',    #text to search for in field defined by r1 code to show that this is an intrusion\n",
    "  \"volcanic\": 'volcanic',      #text to search for in field defined by ds code to show that this is an volcanic (not intrusion)\n",
    "#mineral deposits\n",
    "  \"msc\": 'SITE_CODE',          #field that contains site code of deposit\n",
    "  \"msn\": 'SHORT_NAME',         #field that contains short name of deposit\n",
    "  \"mst\": 'SITE_TYPE_',         #field that contains site type of deposit\n",
    "  \"mtc\": 'TARGET_COM',         #field that contains target commodity of deposit\n",
    "  \"mscm\": 'SITE_COMMO',        #field that contains site commodity of deposit\n",
    "  \"mcom\": 'COMMODITY_',        #field that contains commodity group of deposit\n",
    "  \"minf\": 'Infrastructure',    #text to search for in field defined by mst code that shows site to ignore\n",
    "#timing\n",
    "  \"min\": 'top_end_ag',         #field that contains minimum age of unit defined by ccode\n",
    "  \"max\": 'base_start',         #field that contains maximum age of unit defined by ccode\n",
    "#faults and folds\n",
    "  \"f\": 'boundaryty',              #field that contains information on type of structure\n",
    "  \"fault\": 'Fault',            #text to search for in field defined by f code to show that this is a fault\n",
    "  \"ff\": 'codedescpt',  # field that contains information on type of structure\n",
    "  \"fold\": 'cline',  #text to search for in field defined by ff code to show that this is a fold axial trace\n",
    "  \"fdip\": 'dip',               # field for numeric fault dip value\n",
    "  \"fdipnull\": '0',         # text to search for in field defined by fdip to show that this has no known dip\n",
    "  \"fdipdir\": 'faultdipdi',        # field for text fault dip direction value \n",
    "  \"fdipdir_flag\": 'alpha',        # flag for text fault dip direction type num e.g. 045 or alpha e.g. southeast    \n",
    "  \"fdipest\": 'faultdipan',        # field for text fault dip estimate value\n",
    "  \"fdipest_vals\": 'Moderate,Listric,Steep,Vertical',        # text to search for in field defined by fdipest to give fault dip estimate in increasing steepness\n",
    "  \"n\": 'name',                 #field that contains information on name of fault (not used??)\n",
    "  \"t\": 'codedescpt',                 #field that contains information on type of fold\n",
    "  \"syn\": 'Syncline',           #text to search for in field defined by t to show that this is a syncline\n",
    "#ids\n",
    "  \"o\": 'unique_id',             #field that contains unique id of geometry object\n",
    "  \"gi\": 'objectid',            #field that contains unique id of structure point\n",
    "  \"deposit_dist\":500           # dist between mindep and contact to be considered \"on contact\"\n",
    "}"
   ]
  },
  {
   "cell_type": "code",
   "execution_count": 2,
   "metadata": {},
   "outputs": [
    {
     "data": {
      "application/vnd.jupyter.widget-view+json": {
       "model_id": "963e72436665460d93cf3eb871584b02",
       "version_major": 2,
       "version_minor": 0
      },
      "text/plain": [
       "Text(value='Test', description='Project Name:', placeholder='Test', style=DescriptionStyle(description_width='…"
      ]
     },
     "metadata": {},
     "output_type": "display_data"
    },
    {
     "data": {
      "application/vnd.jupyter.widget-view+json": {
       "model_id": "ee665fba306c4463a317e25fa5b81d04",
       "version_major": 2,
       "version_minor": 0
      },
      "text/plain": [
       "Dropdown(description='CRS EPSG:', options=('28348: GDA94 // MGA zone 48', '28349: GDA94 // MGA zone 49', '2835…"
      ]
     },
     "metadata": {},
     "output_type": "display_data"
    }
   ],
   "source": [
    "test_data_name_choice=widgets.Text(\n",
    "    placeholder='Test',\n",
    "    value='Test',\n",
    "    description='Project Name:',\n",
    "    disabled=False,\n",
    "    style=style,\n",
    "    tooltip='Name of directory to hold config file (relative path)'\n",
    ")\n",
    "display(test_data_name_choice)\n",
    "\n",
    "epsg=pd.read_csv('source_data/epsg.csv')\n",
    "\n",
    "crs_choice=widgets.Dropdown(\n",
    "    options=epsg['epsg'],\n",
    "    description='CRS EPSG:',\n",
    "    disabled=False\n",
    ")\n",
    "display(crs_choice)\n"
   ]
  },
  {
   "cell_type": "code",
   "execution_count": 3,
   "metadata": {},
   "outputs": [
    {
     "data": {
      "text/markdown": [
       "**Paterson_1, epsg:28351**"
      ],
      "text/plain": [
       "<IPython.core.display.Markdown object>"
      ]
     },
     "metadata": {},
     "output_type": "display_data"
    }
   ],
   "source": [
    "test_data_name=test_data_name_choice.value\n",
    "epsg_code=crs_choice.value.split(\":\")\n",
    "dst_crs='epsg:'+epsg_code[0]\n",
    "printmd('**'+test_data_name+\", \"+dst_crs+'**')"
   ]
  },
  {
   "cell_type": "code",
   "execution_count": 4,
   "metadata": {},
   "outputs": [
    {
     "data": {
      "application/vnd.jupyter.widget-view+json": {
       "model_id": "8520abf9efe14e4cbcf2390c071200c7",
       "version_major": 2,
       "version_minor": 0
      },
      "text/plain": [
       "Text(value='0', description='min x:', placeholder='0', style=DescriptionStyle(description_width='initial'))"
      ]
     },
     "metadata": {},
     "output_type": "display_data"
    },
    {
     "data": {
      "application/vnd.jupyter.widget-view+json": {
       "model_id": "e46051683beb4c64936bb1e4f0701eca",
       "version_major": 2,
       "version_minor": 0
      },
      "text/plain": [
       "Text(value='1', description='max x:', placeholder='1', style=DescriptionStyle(description_width='initial'))"
      ]
     },
     "metadata": {},
     "output_type": "display_data"
    },
    {
     "data": {
      "application/vnd.jupyter.widget-view+json": {
       "model_id": "e1269eeb3ff340ada9fce83589c9e391",
       "version_major": 2,
       "version_minor": 0
      },
      "text/plain": [
       "Text(value='0', description='min y:', placeholder='0', style=DescriptionStyle(description_width='initial'))"
      ]
     },
     "metadata": {},
     "output_type": "display_data"
    },
    {
     "data": {
      "application/vnd.jupyter.widget-view+json": {
       "model_id": "3f27df1af8e24a9cb90135d879825f56",
       "version_major": 2,
       "version_minor": 0
      },
      "text/plain": [
       "Text(value='1', description='max y:', placeholder='1', style=DescriptionStyle(description_width='initial'))"
      ]
     },
     "metadata": {},
     "output_type": "display_data"
    },
    {
     "data": {
      "application/vnd.jupyter.widget-view+json": {
       "model_id": "32ead323313c438ab27af9ed5ab50aec",
       "version_major": 2,
       "version_minor": 0
      },
      "text/plain": [
       "Text(value='0', description='min z:', placeholder='0', style=DescriptionStyle(description_width='initial'))"
      ]
     },
     "metadata": {},
     "output_type": "display_data"
    },
    {
     "data": {
      "application/vnd.jupyter.widget-view+json": {
       "model_id": "e2a8011e08f7472680f4ecbe18405372",
       "version_major": 2,
       "version_minor": 0
      },
      "text/plain": [
       "Text(value='1', description='max z:', placeholder='1', style=DescriptionStyle(description_width='initial'))"
      ]
     },
     "metadata": {},
     "output_type": "display_data"
    }
   ],
   "source": [
    "minx_choice=widgets.Text(\n",
    "    placeholder='0',\n",
    "    value='0',\n",
    "    description='min x:',\n",
    "    disabled=False,\n",
    "    style=style\n",
    ")\n",
    "display(minx_choice)\n",
    "\n",
    "maxx_choice=widgets.Text(\n",
    "    placeholder='1',\n",
    "    value='1',\n",
    "    description='max x:',\n",
    "    disabled=False,\n",
    "    style=style\n",
    ")\n",
    "display(maxx_choice)\n",
    "\n",
    "miny_choice=widgets.Text(\n",
    "    placeholder='0',\n",
    "    value='0',\n",
    "    description='min y:',\n",
    "    disabled=False,\n",
    "    style=style\n",
    ")\n",
    "display(miny_choice)\n",
    "\n",
    "maxy_choice=widgets.Text(\n",
    "    placeholder='1',\n",
    "    value='1',\n",
    "    description='max y:',\n",
    "    disabled=False,\n",
    "    style=style\n",
    ")\n",
    "display(maxy_choice)\n",
    "\n",
    "minz_choice=widgets.Text(\n",
    "    placeholder='0',\n",
    "    value='0',\n",
    "    description='min z:',\n",
    "    disabled=False,\n",
    "    style=style\n",
    ")\n",
    "display(minz_choice)\n",
    "\n",
    "maxz_choice=widgets.Text(\n",
    "    placeholder='1',\n",
    "    value='1',\n",
    "    description='max z:',\n",
    "    disabled=False,\n",
    "    style=style\n",
    ")\n",
    "display(maxz_choice)\n"
   ]
  },
  {
   "cell_type": "code",
   "execution_count": 5,
   "metadata": {
    "scrolled": false
   },
   "outputs": [
    {
     "data": {
      "application/vnd.jupyter.widget-view+json": {
       "model_id": "0f3d9d3cc47b4ad8937bf00dc3d4b8b7",
       "version_major": 2,
       "version_minor": 0
      },
      "text/plain": [
       "FileChooser(path='../', filename='', title='HTML(value='<b>Choose Bedding Orientation point file</b>')', show_…"
      ]
     },
     "metadata": {},
     "output_type": "display_data"
    },
    {
     "data": {
      "application/vnd.jupyter.widget-view+json": {
       "model_id": "2d81dffad08d4e7f8762a154d907ce99",
       "version_major": 2,
       "version_minor": 0
      },
      "text/plain": [
       "FileChooser(path='../', filename='', title='HTML(value='<b>Choose Fault polyline file</b>')', show_hidden='Fal…"
      ]
     },
     "metadata": {},
     "output_type": "display_data"
    },
    {
     "data": {
      "application/vnd.jupyter.widget-view+json": {
       "model_id": "b270c10ea4a74a1cb808951835b4bd7d",
       "version_major": 2,
       "version_minor": 0
      },
      "text/plain": [
       "FileChooser(path='../', filename='', title='HTML(value='<b>Choose Fold polyline file</b>')', show_hidden='Fals…"
      ]
     },
     "metadata": {},
     "output_type": "display_data"
    },
    {
     "data": {
      "application/vnd.jupyter.widget-view+json": {
       "model_id": "4d2331cdb97542909a9a4ea3886fdd54",
       "version_major": 2,
       "version_minor": 0
      },
      "text/plain": [
       "FileChooser(path='../', filename='', title='HTML(value='<b>Choose Geology polygon file</b>')', show_hidden='Fa…"
      ]
     },
     "metadata": {},
     "output_type": "display_data"
    },
    {
     "data": {
      "application/vnd.jupyter.widget-view+json": {
       "model_id": "8e49451297e04eb0bfcbf260198a25af",
       "version_major": 2,
       "version_minor": 0
      },
      "text/plain": [
       "FileChooser(path='../', filename='null_mindeps.shp', title='HTML(value='<b>Choose Mineral Deposit point file (…"
      ]
     },
     "metadata": {},
     "output_type": "display_data"
    }
   ],
   "source": [
    "minx=minx_choice.value\n",
    "maxx=maxx_choice.value\n",
    "miny=miny_choice.value\n",
    "maxy=maxy_choice.value\n",
    "minz=minz_choice.value\n",
    "maxz=maxz_choice.value\n",
    "\n",
    "\n",
    "structure_file_m = FileChooser('../')\n",
    "structure_file_m.title = '<b>Choose Bedding Orientation point file</b>'\n",
    "display(structure_file_m)\n",
    "\n",
    "fault_file_m = FileChooser('../')\n",
    "fault_file_m.title = '<b>Choose Fault polyline file</b>'\n",
    "display(fault_file_m)\n",
    "\n",
    "fold_file_m = FileChooser('../')\n",
    "fold_file_m.title = '<b>Choose Fold polyline file</b>'\n",
    "display(fold_file_m)\n",
    "\n",
    "geology_file_m = FileChooser('../')\n",
    "geology_file_m.title = '<b>Choose Geology polygon file</b>'\n",
    "display(geology_file_m)\n",
    "\n",
    "mindep_file_m = FileChooser('../')\n",
    "mindep_file_m.title = '<b>Choose Mineral Deposit point file (or use null_mindeps.shp from source_data directory)</b>'\n",
    "#mindep_file_m.default_path = '../source_data/'\n",
    "mindep_file_m.default_filename = 'null_mindeps.shp'\n",
    "display(mindep_file_m)\n",
    "\n"
   ]
  },
  {
   "cell_type": "code",
   "execution_count": 6,
   "metadata": {},
   "outputs": [
    {
     "data": {
      "text/plain": [
       "'C:/Users/00077806/Dropbox/Loop_paterson/source_data/Layering dip and dip direction.shp'"
      ]
     },
     "metadata": {},
     "output_type": "display_data"
    },
    {
     "data": {
      "text/plain": [
       "'C:/Users/00077806/Dropbox/Loop_paterson/source_data/Faults_Polygons.shp'"
      ]
     },
     "metadata": {},
     "output_type": "display_data"
    },
    {
     "data": {
      "text/plain": [
       "'C:/Users/00077806/Dropbox/Loop_paterson/source_data/Faults_Polygons.shp'"
      ]
     },
     "metadata": {},
     "output_type": "display_data"
    },
    {
     "data": {
      "text/plain": [
       "'C:/Users/00077806/Dropbox/Loop_paterson/source_data/Paterson_Polygons_4.shp'"
      ]
     },
     "metadata": {},
     "output_type": "display_data"
    },
    {
     "data": {
      "text/plain": [
       "'C:/Users/00077806/Dropbox/Loop_paterson/map2loop2-notebooks/source_data/null_mindeps.shp'"
      ]
     },
     "metadata": {},
     "output_type": "display_data"
    }
   ],
   "source": [
    "if(str(structure_file_m.selected_path) =='None'):\n",
    "    structure_file=''\n",
    "else:\n",
    "    structure_file=structure_file_m.selected_path.replace('\\\\','/')+'/'+structure_file_m.selected_filename\n",
    "if(str(fault_file_m.selected_path) =='None'):\n",
    "    fault_file=''\n",
    "else:\n",
    "    fault_file=fault_file_m.selected_path.replace('\\\\','/')+'/'+fault_file_m.selected_filename\n",
    "if(str(fold_file_m.selected_path) =='None'):\n",
    "    fold_file=''\n",
    "else:\n",
    "    fold_file=fold_file_m.selected_path.replace('\\\\','/')+'/'+fold_file_m.selected_filename\n",
    "if(str(geology_file_m.selected_path) =='None'):\n",
    "    geology_file=''\n",
    "else:\n",
    "    geology_file=geology_file_m.selected_path.replace('\\\\','/')+'/'+geology_file_m.selected_filename\n",
    "if(str(mindep_file_m.selected_path) =='None'):\n",
    "    mindep_file=''\n",
    "else:\n",
    "    mindep_file=mindep_file_m.selected_path.replace('\\\\','/')+'/'+mindep_file_m.selected_filename\n",
    "\n",
    "display(structure_file,fault_file,fold_file,geology_file,mindep_file)"
   ]
  },
  {
   "cell_type": "code",
   "execution_count": 7,
   "metadata": {},
   "outputs": [
    {
     "data": {
      "text/html": [
       "<div>\n",
       "<style scoped>\n",
       "    .dataframe tbody tr th:only-of-type {\n",
       "        vertical-align: middle;\n",
       "    }\n",
       "\n",
       "    .dataframe tbody tr th {\n",
       "        vertical-align: top;\n",
       "    }\n",
       "\n",
       "    .dataframe thead th {\n",
       "        text-align: right;\n",
       "    }\n",
       "</style>\n",
       "<table border=\"1\" class=\"dataframe\">\n",
       "  <thead>\n",
       "    <tr style=\"text-align: right;\">\n",
       "      <th></th>\n",
       "      <th>Id</th>\n",
       "      <th>layer_type</th>\n",
       "      <th>dip</th>\n",
       "      <th>dip_direct</th>\n",
       "      <th>dip_num</th>\n",
       "      <th>dip_dir_nu</th>\n",
       "      <th>geometry</th>\n",
       "    </tr>\n",
       "  </thead>\n",
       "  <tbody>\n",
       "    <tr>\n",
       "      <th>0</th>\n",
       "      <td>0</td>\n",
       "      <td>bedding</td>\n",
       "      <td>46</td>\n",
       "      <td>355</td>\n",
       "      <td>46</td>\n",
       "      <td>355</td>\n",
       "      <td>POINT (123.25703 -23.04261)</td>\n",
       "    </tr>\n",
       "    <tr>\n",
       "      <th>1</th>\n",
       "      <td>0</td>\n",
       "      <td>bedding</td>\n",
       "      <td>70</td>\n",
       "      <td>175</td>\n",
       "      <td>70</td>\n",
       "      <td>175</td>\n",
       "      <td>POINT (123.24056 -23.02927)</td>\n",
       "    </tr>\n",
       "    <tr>\n",
       "      <th>2</th>\n",
       "      <td>0</td>\n",
       "      <td>bedding</td>\n",
       "      <td>15</td>\n",
       "      <td>120</td>\n",
       "      <td>15</td>\n",
       "      <td>120</td>\n",
       "      <td>POINT (123.30823 -23.07090)</td>\n",
       "    </tr>\n",
       "    <tr>\n",
       "      <th>3</th>\n",
       "      <td>0</td>\n",
       "      <td>bedding</td>\n",
       "      <td>20</td>\n",
       "      <td>180</td>\n",
       "      <td>20</td>\n",
       "      <td>180</td>\n",
       "      <td>POINT (123.31403 -23.21146)</td>\n",
       "    </tr>\n",
       "    <tr>\n",
       "      <th>4</th>\n",
       "      <td>0</td>\n",
       "      <td>bedding</td>\n",
       "      <td>20</td>\n",
       "      <td>045</td>\n",
       "      <td>20</td>\n",
       "      <td>45</td>\n",
       "      <td>POINT (123.28077 -23.24109)</td>\n",
       "    </tr>\n",
       "  </tbody>\n",
       "</table>\n",
       "</div>"
      ],
      "text/plain": [
       "   Id layer_type dip dip_direct  dip_num  dip_dir_nu  \\\n",
       "0   0    bedding  46        355       46         355   \n",
       "1   0    bedding  70        175       70         175   \n",
       "2   0    bedding  15        120       15         120   \n",
       "3   0    bedding  20        180       20         180   \n",
       "4   0    bedding  20        045       20          45   \n",
       "\n",
       "                      geometry  \n",
       "0  POINT (123.25703 -23.04261)  \n",
       "1  POINT (123.24056 -23.02927)  \n",
       "2  POINT (123.30823 -23.07090)  \n",
       "3  POINT (123.31403 -23.21146)  \n",
       "4  POINT (123.28077 -23.24109)  "
      ]
     },
     "metadata": {},
     "output_type": "display_data"
    },
    {
     "data": {
      "text/markdown": [
       "**Based on file: C:/Users/00077806/Dropbox/Loop_paterson/source_data/Layering dip and dip direction.shp**"
      ],
      "text/plain": [
       "<IPython.core.display.Markdown object>"
      ]
     },
     "metadata": {},
     "output_type": "display_data"
    },
    {
     "data": {
      "text/markdown": [
       "\n",
       "**Field that contains unique id of structure point**"
      ],
      "text/plain": [
       "<IPython.core.display.Markdown object>"
      ]
     },
     "metadata": {},
     "output_type": "display_data"
    },
    {
     "data": {
      "application/vnd.jupyter.widget-view+json": {
       "model_id": "00d61635652b42929d7fc66affa1a5a6",
       "version_major": 2,
       "version_minor": 0
      },
      "text/plain": [
       "Dropdown(description='Unique ID', options=('No_col', 'Id', 'layer_type', 'dip', 'dip_direct', 'dip_num', 'dip_…"
      ]
     },
     "metadata": {},
     "output_type": "display_data"
    },
    {
     "data": {
      "text/markdown": [
       "**Field that contains information on type of structure (e.g. bedding, cleavage etc.)**"
      ],
      "text/plain": [
       "<IPython.core.display.Markdown object>"
      ]
     },
     "metadata": {},
     "output_type": "display_data"
    },
    {
     "data": {
      "application/vnd.jupyter.widget-view+json": {
       "model_id": "2c8f6568839149bc923d5e8838983740",
       "version_major": 2,
       "version_minor": 0
      },
      "text/plain": [
       "Dropdown(description='Structure', options=('No_col', 'Id', 'layer_type', 'dip', 'dip_direct', 'dip_num', 'dip_…"
      ]
     },
     "metadata": {},
     "output_type": "display_data"
    },
    {
     "data": {
      "text/markdown": [
       "**Text to search for in field defined by type of structure code to show that this is a bedding measurement**"
      ],
      "text/plain": [
       "<IPython.core.display.Markdown object>"
      ]
     },
     "metadata": {},
     "output_type": "display_data"
    },
    {
     "data": {
      "application/vnd.jupyter.widget-view+json": {
       "model_id": "1ac429086fb94d41bd6efaabec831266",
       "version_major": 2,
       "version_minor": 0
      },
      "text/plain": [
       "Text(value='Bed', description='Bedding text', placeholder='Bed')"
      ]
     },
     "metadata": {},
     "output_type": "display_data"
    },
    {
     "data": {
      "text/markdown": [
       "**Field that contains dip information**"
      ],
      "text/plain": [
       "<IPython.core.display.Markdown object>"
      ]
     },
     "metadata": {},
     "output_type": "display_data"
    },
    {
     "data": {
      "application/vnd.jupyter.widget-view+json": {
       "model_id": "a98ba16ef77d4f2bb01766d984ae4011",
       "version_major": 2,
       "version_minor": 0
      },
      "text/plain": [
       "Dropdown(description='Dip', options=('No_col', 'Id', 'layer_type', 'dip', 'dip_direct', 'dip_num', 'dip_dir_nu…"
      ]
     },
     "metadata": {},
     "output_type": "display_data"
    },
    {
     "data": {
      "text/markdown": [
       "**Field that contains dip direction or strike information**"
      ],
      "text/plain": [
       "<IPython.core.display.Markdown object>"
      ]
     },
     "metadata": {},
     "output_type": "display_data"
    },
    {
     "data": {
      "application/vnd.jupyter.widget-view+json": {
       "model_id": "1461bf59bf4242cb94cfb5aaca9c3eb8",
       "version_major": 2,
       "version_minor": 0
      },
      "text/plain": [
       "Dropdown(description='Dip Direction', options=('No_col', 'Id', 'layer_type', 'dip', 'dip_direct', 'dip_num', '…"
      ]
     },
     "metadata": {},
     "output_type": "display_data"
    },
    {
     "data": {
      "text/markdown": [
       "**Flag to determine measurement convention**"
      ],
      "text/plain": [
       "<IPython.core.display.Markdown object>"
      ]
     },
     "metadata": {},
     "output_type": "display_data"
    },
    {
     "data": {
      "application/vnd.jupyter.widget-view+json": {
       "model_id": "4db93a9007ee486590cced358f1f049e",
       "version_major": 2,
       "version_minor": 0
      },
      "text/plain": [
       "Dropdown(description='Convention', options=('dip direction', 'strike'), value='dip direction')"
      ]
     },
     "metadata": {},
     "output_type": "display_data"
    },
    {
     "data": {
      "text/markdown": [
       "**Field that contains polarity of foliation (upward facing or not)**"
      ],
      "text/plain": [
       "<IPython.core.display.Markdown object>"
      ]
     },
     "metadata": {},
     "output_type": "display_data"
    },
    {
     "data": {
      "application/vnd.jupyter.widget-view+json": {
       "model_id": "19e41f71e6084313a55ba4f1969fe5b7",
       "version_major": 2,
       "version_minor": 0
      },
      "text/plain": [
       "Dropdown(description='Polarity', options=('No_col', 'Id', 'layer_type', 'dip', 'dip_direct', 'dip_num', 'dip_d…"
      ]
     },
     "metadata": {},
     "output_type": "display_data"
    },
    {
     "data": {
      "text/markdown": [
       "**Text to search for in field defined by Polarity code to show that this is an overturned bedding measurement**"
      ],
      "text/plain": [
       "<IPython.core.display.Markdown object>"
      ]
     },
     "metadata": {},
     "output_type": "display_data"
    },
    {
     "data": {
      "application/vnd.jupyter.widget-view+json": {
       "model_id": "7ce524ab235243918237abd0178b6513",
       "version_major": 2,
       "version_minor": 0
      },
      "text/plain": [
       "Text(value='Blah', description='Pol. text', placeholder='Blah')"
      ]
     },
     "metadata": {},
     "output_type": "display_data"
    }
   ],
   "source": [
    "if(not structure_file==''):\n",
    "    structure=gpd.read_file(structure_file)\n",
    "    display(structure.head())\n",
    "    \n",
    "    cols=['No_col']\n",
    "    for sc in structure.columns:\n",
    "        cols.append(sc)\n",
    "        \n",
    "    printmd('**Based on file: '+structure_file+'**')\n",
    "    printmd('\\n**Field that contains unique id of structure point**')\n",
    "    gi_choice=widgets.Dropdown(\n",
    "        options=cols,\n",
    "        description='Unique ID',\n",
    "        disabled=False\n",
    "\n",
    "    )\n",
    "    display(gi_choice)\n",
    "\n",
    "    printmd('**Field that contains information on type of structure (e.g. bedding, cleavage etc.)**')\n",
    "\n",
    "    sf_choice=widgets.Dropdown(\n",
    "        options=cols,\n",
    "        description='Structure',\n",
    "        disabled=False\n",
    "    )\n",
    "    display(sf_choice)\n",
    "\n",
    "    printmd('**Text to search for in field defined by type of structure code to show that this is a bedding measurement**')\n",
    "\n",
    "    bedding_choice=widgets.Text(\n",
    "        placeholder='Bed',\n",
    "        value='Bed',\n",
    "        description='Bedding text',\n",
    "        disabled=False\n",
    "    )\n",
    "    display(bedding_choice)\n",
    "\n",
    "    printmd('**Field that contains dip information**')\n",
    "\n",
    "    d_choice=widgets.Dropdown(\n",
    "        options=cols,\n",
    "        description='Dip',\n",
    "        disabled=False\n",
    "    )\n",
    "    display(d_choice)\n",
    "\n",
    "    printmd('**Field that contains dip direction or strike information**')\n",
    "\n",
    "    dd_choice=widgets.Dropdown(\n",
    "        options=cols,\n",
    "        description='Dip Direction',\n",
    "        disabled=False\n",
    "    )\n",
    "    display(dd_choice)\n",
    "\n",
    "    printmd('**Flag to determine measurement convention**')\n",
    "\n",
    "    otype_choice=widgets.Dropdown(\n",
    "        options=('dip direction','strike'),\n",
    "        description='Convention',\n",
    "        disabled=False\n",
    "    )\n",
    "    display(otype_choice)\n",
    "\n",
    "    printmd('**Field that contains polarity of foliation (upward facing or not)**')\n",
    "\n",
    "    bo_choice=widgets.Dropdown(\n",
    "        options=cols,\n",
    "        description='Polarity',\n",
    "        disabled=False\n",
    "    )\n",
    "    display(bo_choice)\n",
    "\n",
    "    printmd('**Text to search for in field defined by Polarity code to show that this is an overturned bedding measurement**')\n",
    "\n",
    "    btype_choice=widgets.Text(\n",
    "        placeholder='Blah',\n",
    "        value='Blah',\n",
    "        description='Pol. text',\n",
    "        disabled=False\n",
    "    )\n",
    "    display(btype_choice)\n",
    "\n"
   ]
  },
  {
   "cell_type": "code",
   "execution_count": 8,
   "metadata": {},
   "outputs": [
    {
     "data": {
      "text/html": [
       "<div>\n",
       "<style scoped>\n",
       "    .dataframe tbody tr th:only-of-type {\n",
       "        vertical-align: middle;\n",
       "    }\n",
       "\n",
       "    .dataframe tbody tr th {\n",
       "        vertical-align: top;\n",
       "    }\n",
       "\n",
       "    .dataframe thead th {\n",
       "        text-align: right;\n",
       "    }\n",
       "</style>\n",
       "<table border=\"1\" class=\"dataframe\">\n",
       "  <thead>\n",
       "    <tr style=\"text-align: right;\">\n",
       "      <th></th>\n",
       "      <th>Id</th>\n",
       "      <th>Type</th>\n",
       "      <th>Interp_fro</th>\n",
       "      <th>Comments</th>\n",
       "      <th>Dip_est</th>\n",
       "      <th>Dip_dir</th>\n",
       "      <th>Plunge_est</th>\n",
       "      <th>Plunge_dir</th>\n",
       "      <th>Max_age_ev</th>\n",
       "      <th>Min_age_ev</th>\n",
       "      <th>Name</th>\n",
       "      <th>geometry</th>\n",
       "    </tr>\n",
       "  </thead>\n",
       "  <tbody>\n",
       "    <tr>\n",
       "      <th>0</th>\n",
       "      <td>0</td>\n",
       "      <td>Fault - undivided</td>\n",
       "      <td>None</td>\n",
       "      <td>None</td>\n",
       "      <td>None</td>\n",
       "      <td>None</td>\n",
       "      <td>None</td>\n",
       "      <td>None</td>\n",
       "      <td>None</td>\n",
       "      <td>None</td>\n",
       "      <td>None</td>\n",
       "      <td>LINESTRING (420386.400 7655912.409, 419910.149...</td>\n",
       "    </tr>\n",
       "    <tr>\n",
       "      <th>1</th>\n",
       "      <td>0</td>\n",
       "      <td>Fault - undivided</td>\n",
       "      <td>None</td>\n",
       "      <td>None</td>\n",
       "      <td>None</td>\n",
       "      <td>None</td>\n",
       "      <td>None</td>\n",
       "      <td>None</td>\n",
       "      <td>None</td>\n",
       "      <td>None</td>\n",
       "      <td>None</td>\n",
       "      <td>LINESTRING (421516.702 7655474.258, 420735.651...</td>\n",
       "    </tr>\n",
       "    <tr>\n",
       "      <th>2</th>\n",
       "      <td>0</td>\n",
       "      <td>Fault - undivided</td>\n",
       "      <td>None</td>\n",
       "      <td>None</td>\n",
       "      <td>None</td>\n",
       "      <td>None</td>\n",
       "      <td>None</td>\n",
       "      <td>None</td>\n",
       "      <td>None</td>\n",
       "      <td>None</td>\n",
       "      <td>None</td>\n",
       "      <td>LINESTRING (424778.067 7650175.351, 423222.626...</td>\n",
       "    </tr>\n",
       "    <tr>\n",
       "      <th>3</th>\n",
       "      <td>0</td>\n",
       "      <td>Fault - undivided</td>\n",
       "      <td>None</td>\n",
       "      <td>None</td>\n",
       "      <td>None</td>\n",
       "      <td>None</td>\n",
       "      <td>None</td>\n",
       "      <td>None</td>\n",
       "      <td>None</td>\n",
       "      <td>None</td>\n",
       "      <td>None</td>\n",
       "      <td>LINESTRING (423342.275 7652872.900, 421852.096...</td>\n",
       "    </tr>\n",
       "    <tr>\n",
       "      <th>4</th>\n",
       "      <td>0</td>\n",
       "      <td>Fault - undivided</td>\n",
       "      <td>None</td>\n",
       "      <td>None</td>\n",
       "      <td>None</td>\n",
       "      <td>None</td>\n",
       "      <td>None</td>\n",
       "      <td>None</td>\n",
       "      <td>None</td>\n",
       "      <td>None</td>\n",
       "      <td>None</td>\n",
       "      <td>LINESTRING (411574.194 7642187.068, 411675.194...</td>\n",
       "    </tr>\n",
       "  </tbody>\n",
       "</table>\n",
       "</div>"
      ],
      "text/plain": [
       "   Id               Type Interp_fro Comments Dip_est Dip_dir Plunge_est  \\\n",
       "0   0  Fault - undivided       None     None    None    None       None   \n",
       "1   0  Fault - undivided       None     None    None    None       None   \n",
       "2   0  Fault - undivided       None     None    None    None       None   \n",
       "3   0  Fault - undivided       None     None    None    None       None   \n",
       "4   0  Fault - undivided       None     None    None    None       None   \n",
       "\n",
       "  Plunge_dir Max_age_ev Min_age_ev  Name  \\\n",
       "0       None       None       None  None   \n",
       "1       None       None       None  None   \n",
       "2       None       None       None  None   \n",
       "3       None       None       None  None   \n",
       "4       None       None       None  None   \n",
       "\n",
       "                                            geometry  \n",
       "0  LINESTRING (420386.400 7655912.409, 419910.149...  \n",
       "1  LINESTRING (421516.702 7655474.258, 420735.651...  \n",
       "2  LINESTRING (424778.067 7650175.351, 423222.626...  \n",
       "3  LINESTRING (423342.275 7652872.900, 421852.096...  \n",
       "4  LINESTRING (411574.194 7642187.068, 411675.194...  "
      ]
     },
     "metadata": {},
     "output_type": "display_data"
    },
    {
     "data": {
      "text/markdown": [
       "**Based on file: C:/Users/00077806/Dropbox/Loop_paterson/source_data/Faults_Polygons.shp**"
      ],
      "text/plain": [
       "<IPython.core.display.Markdown object>"
      ]
     },
     "metadata": {},
     "output_type": "display_data"
    },
    {
     "data": {
      "text/markdown": [
       "\n",
       "**Field that contains information on type of structure (fault, fold axial trace etc.)**"
      ],
      "text/plain": [
       "<IPython.core.display.Markdown object>"
      ]
     },
     "metadata": {},
     "output_type": "display_data"
    },
    {
     "data": {
      "application/vnd.jupyter.widget-view+json": {
       "model_id": "399080f4aaa04b04b90862b8e6c621f7",
       "version_major": 2,
       "version_minor": 0
      },
      "text/plain": [
       "Dropdown(description='Fault field:', options=('No_col', 'Id', 'Type', 'Interp_fro', 'Comments', 'Dip_est', 'Di…"
      ]
     },
     "metadata": {},
     "output_type": "display_data"
    },
    {
     "data": {
      "text/markdown": [
       "**Text to search for in field defined by Fault field code to show that this is a fault**"
      ],
      "text/plain": [
       "<IPython.core.display.Markdown object>"
      ]
     },
     "metadata": {},
     "output_type": "display_data"
    },
    {
     "data": {
      "application/vnd.jupyter.widget-view+json": {
       "model_id": "a98bb5df7e244827be843235f6168777",
       "version_major": 2,
       "version_minor": 0
      },
      "text/plain": [
       "Text(value='Fault', description='Fault text:', placeholder='Fault')"
      ]
     },
     "metadata": {},
     "output_type": "display_data"
    },
    {
     "data": {
      "text/markdown": [
       "**Field for numeric fault dip value**"
      ],
      "text/plain": [
       "<IPython.core.display.Markdown object>"
      ]
     },
     "metadata": {},
     "output_type": "display_data"
    },
    {
     "data": {
      "application/vnd.jupyter.widget-view+json": {
       "model_id": "e0e5f1c2e13e461da99e357bde646ae1",
       "version_major": 2,
       "version_minor": 0
      },
      "text/plain": [
       "Dropdown(description='Dip:', options=('No_col', 'Id', 'Type', 'Interp_fro', 'Comments', 'Dip_est', 'Dip_dir', …"
      ]
     },
     "metadata": {},
     "output_type": "display_data"
    },
    {
     "data": {
      "text/markdown": [
       "**Text to search for in field defined by Dip to show that this has no known dip**"
      ],
      "text/plain": [
       "<IPython.core.display.Markdown object>"
      ]
     },
     "metadata": {},
     "output_type": "display_data"
    },
    {
     "data": {
      "application/vnd.jupyter.widget-view+json": {
       "model_id": "e881264955234b829a545cf92f4e7a1b",
       "version_major": 2,
       "version_minor": 0
      },
      "text/plain": [
       "Text(value='0', description='NULL dip:', placeholder='0')"
      ]
     },
     "metadata": {},
     "output_type": "display_data"
    },
    {
     "data": {
      "text/markdown": [
       "**Field for text fault dip direction value (southeast etc.)**"
      ],
      "text/plain": [
       "<IPython.core.display.Markdown object>"
      ]
     },
     "metadata": {},
     "output_type": "display_data"
    },
    {
     "data": {
      "application/vnd.jupyter.widget-view+json": {
       "model_id": "fbd5f0e82adf439587d831c8ba7c0313",
       "version_major": 2,
       "version_minor": 0
      },
      "text/plain": [
       "Dropdown(description='Dip Direction:', options=('No_col', 'Id', 'Type', 'Interp_fro', 'Comments', 'Dip_est', '…"
      ]
     },
     "metadata": {},
     "output_type": "display_data"
    },
    {
     "data": {
      "text/markdown": [
       "**Flag for text fault dip direction type num e.g. 045 or alpha e.g. southeast**"
      ],
      "text/plain": [
       "<IPython.core.display.Markdown object>"
      ]
     },
     "metadata": {},
     "output_type": "display_data"
    },
    {
     "data": {
      "application/vnd.jupyter.widget-view+json": {
       "model_id": "15ce32431d1046e48b809f602619099f",
       "version_major": 2,
       "version_minor": 0
      },
      "text/plain": [
       "Dropdown(description='Dip Convention:', options=('alpha', 'num'), style=DescriptionStyle(description_width='in…"
      ]
     },
     "metadata": {},
     "output_type": "display_data"
    },
    {
     "data": {
      "text/markdown": [
       "**Field for text fault dip estimate value (Moderate, Steep etc.)**"
      ],
      "text/plain": [
       "<IPython.core.display.Markdown object>"
      ]
     },
     "metadata": {},
     "output_type": "display_data"
    },
    {
     "data": {
      "application/vnd.jupyter.widget-view+json": {
       "model_id": "47d9fbf138d34c8cba34903699952bfd",
       "version_major": 2,
       "version_minor": 0
      },
      "text/plain": [
       "Dropdown(description='Dip estimate:', options=('No_col', 'Id', 'Type', 'Interp_fro', 'Comments', 'Dip_est', 'D…"
      ]
     },
     "metadata": {},
     "output_type": "display_data"
    }
   ],
   "source": [
    "c_l['gi']=gi_choice.value\n",
    "c_l['sf']=sf_choice.value\n",
    "c_l['bedding']=bedding_choice.value\n",
    "c_l['d']=d_choice.value\n",
    "c_l['dd']=dd_choice.value\n",
    "c_l['otype']=otype_choice.value\n",
    "c_l['bo']=bo_choice.value\n",
    "c_l['btype']=btype_choice.value\n",
    "\n",
    "if(not fault_file==''):\n",
    "    fault=gpd.read_file(fault_file)\n",
    "    display(fault.head())\n",
    "    printmd('**Based on file: '+fault_file+'**')\n",
    "\n",
    "    cols=['No_col']\n",
    "    for sc in fault.columns:\n",
    "        cols.append(sc)\n",
    "        \n",
    "    printmd('\\n**Field that contains information on type of structure (fault, fold axial trace etc.)**')\n",
    "\n",
    "\n",
    "    f_choice=widgets.Dropdown(\n",
    "        options=cols,\n",
    "        description='Fault field:',\n",
    "        disabled=False\n",
    "    )\n",
    "    display(f_choice)\n",
    "\n",
    "    printmd('**Text to search for in field defined by Fault field code to show that this is a fault**')\n",
    "\n",
    "    fault_choice=widgets.Text(\n",
    "        placeholder='Fault',\n",
    "        value='Fault',\n",
    "        description='Fault text:',\n",
    "        disabled=False\n",
    "    )\n",
    "    display(fault_choice)\n",
    "\n",
    "    printmd('**Field for numeric fault dip value**')\n",
    "\n",
    "    fdip_choice=widgets.Dropdown(\n",
    "        options=cols,\n",
    "        description='Dip:',\n",
    "        disabled=False\n",
    "    )\n",
    "    display(fdip_choice)\n",
    "\n",
    "    printmd('**Text to search for in field defined by Dip to show that this has no known dip**')\n",
    "\n",
    "    fdipnull_choice=widgets.Text(\n",
    "        placeholder='0',\n",
    "        value='0',\n",
    "        description='NULL dip:',\n",
    "        disabled=False\n",
    "    )\n",
    "    display(fdipnull_choice)\n",
    "\n",
    "    printmd('**Field for text fault dip direction value (southeast etc.)**')\n",
    "\n",
    "    fdipdir_choice=widgets.Dropdown(\n",
    "        options=cols,\n",
    "        description='Dip Direction:',\n",
    "        disabled=False\n",
    "    )\n",
    "    display(fdipdir_choice)\n",
    "\n",
    "    printmd('**Flag for text fault dip direction type num e.g. 045 or alpha e.g. southeast**')\n",
    "\n",
    "    fdipdir_flag_choice=widgets.Dropdown(\n",
    "        options=('alpha','num'),\n",
    "        description='Dip Convention:',\n",
    "        disabled=False,\n",
    "        style=style\n",
    "    )\n",
    "    display(fdipdir_flag_choice)\n",
    "\n",
    "    printmd('**Field for text fault dip estimate value (Moderate, Steep etc.)**')\n",
    "\n",
    "    fdipest_choice=widgets.Dropdown(\n",
    "        options=cols,\n",
    "        description='Dip estimate:',\n",
    "        disabled=False\n",
    "    )\n",
    "    display(fdipest_choice)"
   ]
  },
  {
   "cell_type": "code",
   "execution_count": 9,
   "metadata": {},
   "outputs": [
    {
     "data": {
      "text/markdown": [
       "**Text to search for in field defined by fdipest to give fault dip estimate in increasing steepness**"
      ],
      "text/plain": [
       "<IPython.core.display.Markdown object>"
      ]
     },
     "metadata": {},
     "output_type": "display_data"
    },
    {
     "data": {
      "text/markdown": [
       "**Field that contains information on name of fault (not used??)**"
      ],
      "text/plain": [
       "<IPython.core.display.Markdown object>"
      ]
     },
     "metadata": {},
     "output_type": "display_data"
    },
    {
     "data": {
      "application/vnd.jupyter.widget-view+json": {
       "model_id": "11749a6ac1ed4735b3c3be0b10449d22",
       "version_major": 2,
       "version_minor": 0
      },
      "text/plain": [
       "Dropdown(description='Name:', options=('No_col', 'Id', 'Type', 'Interp_fro', 'Comments', 'Dip_est', 'Dip_dir',…"
      ]
     },
     "metadata": {},
     "output_type": "display_data"
    }
   ],
   "source": [
    "printmd('**Text to search for in field defined by fdipest to give fault dip estimate in increasing steepness**')\n",
    "\n",
    "if(fdipest_choice.value=='No_col'):\n",
    "    c_l['fdipest_vals']='No_col'\n",
    "else:\n",
    "    fdipest_vals_choice=widgets.Text(\n",
    "        placeholder='Sorted dip order (shallow to steep)',\n",
    "        value=str(fault[fdipest_choice.value].unique()).replace(\"[\",\"\").replace(\"]\",\"\").replace(\" \",\",\"),\n",
    "        description='Text Dips:',\n",
    "        disabled=False\n",
    "    )\n",
    "    #display(fdipest_vals)\n",
    "    c_l['fdipest_vals']=fdipest_vals_choice.value\n",
    "\n",
    "\n",
    "    \n",
    "printmd('**Field that contains information on name of fault (not used??)**')\n",
    "\n",
    "n_choice=widgets.Dropdown(\n",
    "    options=cols,\n",
    "    description='Name:',\n",
    "    disabled=False\n",
    ")\n",
    "display(n_choice)"
   ]
  },
  {
   "cell_type": "code",
   "execution_count": 10,
   "metadata": {},
   "outputs": [
    {
     "data": {
      "text/html": [
       "<div>\n",
       "<style scoped>\n",
       "    .dataframe tbody tr th:only-of-type {\n",
       "        vertical-align: middle;\n",
       "    }\n",
       "\n",
       "    .dataframe tbody tr th {\n",
       "        vertical-align: top;\n",
       "    }\n",
       "\n",
       "    .dataframe thead th {\n",
       "        text-align: right;\n",
       "    }\n",
       "</style>\n",
       "<table border=\"1\" class=\"dataframe\">\n",
       "  <thead>\n",
       "    <tr style=\"text-align: right;\">\n",
       "      <th></th>\n",
       "      <th>Id</th>\n",
       "      <th>Type</th>\n",
       "      <th>Interp_fro</th>\n",
       "      <th>Comments</th>\n",
       "      <th>Dip_est</th>\n",
       "      <th>Dip_dir</th>\n",
       "      <th>Plunge_est</th>\n",
       "      <th>Plunge_dir</th>\n",
       "      <th>Max_age_ev</th>\n",
       "      <th>Min_age_ev</th>\n",
       "      <th>Name</th>\n",
       "      <th>geometry</th>\n",
       "    </tr>\n",
       "  </thead>\n",
       "  <tbody>\n",
       "    <tr>\n",
       "      <th>0</th>\n",
       "      <td>0</td>\n",
       "      <td>Fault - undivided</td>\n",
       "      <td>None</td>\n",
       "      <td>None</td>\n",
       "      <td>None</td>\n",
       "      <td>None</td>\n",
       "      <td>None</td>\n",
       "      <td>None</td>\n",
       "      <td>None</td>\n",
       "      <td>None</td>\n",
       "      <td>None</td>\n",
       "      <td>LINESTRING (420386.400 7655912.409, 419910.149...</td>\n",
       "    </tr>\n",
       "    <tr>\n",
       "      <th>1</th>\n",
       "      <td>0</td>\n",
       "      <td>Fault - undivided</td>\n",
       "      <td>None</td>\n",
       "      <td>None</td>\n",
       "      <td>None</td>\n",
       "      <td>None</td>\n",
       "      <td>None</td>\n",
       "      <td>None</td>\n",
       "      <td>None</td>\n",
       "      <td>None</td>\n",
       "      <td>None</td>\n",
       "      <td>LINESTRING (421516.702 7655474.258, 420735.651...</td>\n",
       "    </tr>\n",
       "    <tr>\n",
       "      <th>2</th>\n",
       "      <td>0</td>\n",
       "      <td>Fault - undivided</td>\n",
       "      <td>None</td>\n",
       "      <td>None</td>\n",
       "      <td>None</td>\n",
       "      <td>None</td>\n",
       "      <td>None</td>\n",
       "      <td>None</td>\n",
       "      <td>None</td>\n",
       "      <td>None</td>\n",
       "      <td>None</td>\n",
       "      <td>LINESTRING (424778.067 7650175.351, 423222.626...</td>\n",
       "    </tr>\n",
       "    <tr>\n",
       "      <th>3</th>\n",
       "      <td>0</td>\n",
       "      <td>Fault - undivided</td>\n",
       "      <td>None</td>\n",
       "      <td>None</td>\n",
       "      <td>None</td>\n",
       "      <td>None</td>\n",
       "      <td>None</td>\n",
       "      <td>None</td>\n",
       "      <td>None</td>\n",
       "      <td>None</td>\n",
       "      <td>None</td>\n",
       "      <td>LINESTRING (423342.275 7652872.900, 421852.096...</td>\n",
       "    </tr>\n",
       "    <tr>\n",
       "      <th>4</th>\n",
       "      <td>0</td>\n",
       "      <td>Fault - undivided</td>\n",
       "      <td>None</td>\n",
       "      <td>None</td>\n",
       "      <td>None</td>\n",
       "      <td>None</td>\n",
       "      <td>None</td>\n",
       "      <td>None</td>\n",
       "      <td>None</td>\n",
       "      <td>None</td>\n",
       "      <td>None</td>\n",
       "      <td>LINESTRING (411574.194 7642187.068, 411675.194...</td>\n",
       "    </tr>\n",
       "  </tbody>\n",
       "</table>\n",
       "</div>"
      ],
      "text/plain": [
       "   Id               Type Interp_fro Comments Dip_est Dip_dir Plunge_est  \\\n",
       "0   0  Fault - undivided       None     None    None    None       None   \n",
       "1   0  Fault - undivided       None     None    None    None       None   \n",
       "2   0  Fault - undivided       None     None    None    None       None   \n",
       "3   0  Fault - undivided       None     None    None    None       None   \n",
       "4   0  Fault - undivided       None     None    None    None       None   \n",
       "\n",
       "  Plunge_dir Max_age_ev Min_age_ev  Name  \\\n",
       "0       None       None       None  None   \n",
       "1       None       None       None  None   \n",
       "2       None       None       None  None   \n",
       "3       None       None       None  None   \n",
       "4       None       None       None  None   \n",
       "\n",
       "                                            geometry  \n",
       "0  LINESTRING (420386.400 7655912.409, 419910.149...  \n",
       "1  LINESTRING (421516.702 7655474.258, 420735.651...  \n",
       "2  LINESTRING (424778.067 7650175.351, 423222.626...  \n",
       "3  LINESTRING (423342.275 7652872.900, 421852.096...  \n",
       "4  LINESTRING (411574.194 7642187.068, 411675.194...  "
      ]
     },
     "metadata": {},
     "output_type": "display_data"
    },
    {
     "data": {
      "text/markdown": [
       "**Based on file: C:/Users/00077806/Dropbox/Loop_paterson/source_data/Faults_Polygons.shp**"
      ],
      "text/plain": [
       "<IPython.core.display.Markdown object>"
      ]
     },
     "metadata": {},
     "output_type": "display_data"
    },
    {
     "data": {
      "text/markdown": [
       "\n",
       "**Field that contains information on type of structure (fold, fault etc.)**"
      ],
      "text/plain": [
       "<IPython.core.display.Markdown object>"
      ]
     },
     "metadata": {},
     "output_type": "display_data"
    },
    {
     "data": {
      "application/vnd.jupyter.widget-view+json": {
       "model_id": "40d98626129b4dd6b4e7485ddba81846",
       "version_major": 2,
       "version_minor": 0
      },
      "text/plain": [
       "Dropdown(description='Fold field:', options=('No_col', 'Id', 'Type', 'Interp_fro', 'Comments', 'Dip_est', 'Dip…"
      ]
     },
     "metadata": {},
     "output_type": "display_data"
    },
    {
     "data": {
      "text/markdown": [
       "**Text to search for in field defined by Fold field to show that this is a fold axial trace**"
      ],
      "text/plain": [
       "<IPython.core.display.Markdown object>"
      ]
     },
     "metadata": {},
     "output_type": "display_data"
    },
    {
     "data": {
      "application/vnd.jupyter.widget-view+json": {
       "model_id": "20878c9e7083451ba43a16a4a577892b",
       "version_major": 2,
       "version_minor": 0
      },
      "text/plain": [
       "Text(value='Fold', description='Fold text:', placeholder='Fold')"
      ]
     },
     "metadata": {},
     "output_type": "display_data"
    },
    {
     "data": {
      "text/markdown": [
       "**Field that contains information on type of fold (anticline, syncline)**"
      ],
      "text/plain": [
       "<IPython.core.display.Markdown object>"
      ]
     },
     "metadata": {},
     "output_type": "display_data"
    },
    {
     "data": {
      "application/vnd.jupyter.widget-view+json": {
       "model_id": "2f07799685a5495187a24b900895bb1c",
       "version_major": 2,
       "version_minor": 0
      },
      "text/plain": [
       "Dropdown(description='Polarity field:', options=('No_col', 'Id', 'Type', 'Interp_fro', 'Comments', 'Dip_est', …"
      ]
     },
     "metadata": {},
     "output_type": "display_data"
    },
    {
     "data": {
      "text/markdown": [
       "**Text to search for in field defined by Polarity Field to show that this is a syncline**"
      ],
      "text/plain": [
       "<IPython.core.display.Markdown object>"
      ]
     },
     "metadata": {},
     "output_type": "display_data"
    },
    {
     "data": {
      "application/vnd.jupyter.widget-view+json": {
       "model_id": "c1e63a63f1d043ffab2391fe8f27528e",
       "version_major": 2,
       "version_minor": 0
      },
      "text/plain": [
       "Text(value='syn', description='Syncline text:', placeholder='syn')"
      ]
     },
     "metadata": {},
     "output_type": "display_data"
    }
   ],
   "source": [
    "c_l['f']=f_choice.value\n",
    "c_l['fault']=fault_choice.value\n",
    "c_l['fdip']=fdip_choice.value\n",
    "c_l['fdipnull']=fdipnull_choice.value\n",
    "c_l['fdipdir']=fdipdir_choice.value\n",
    "c_l['fdipdir_flag']=fdipdir_flag_choice.value\n",
    "c_l['fdipest']=fdipest_choice.value\n",
    "c_l['n']=n_choice.value\n",
    "\n",
    "if(not fold_file==''):\n",
    "    fold=gpd.read_file(fold_file)\n",
    "    display(fold.head())\n",
    "    cols=['No_col']\n",
    "    for sc in fold.columns:\n",
    "        cols.append(sc)\n",
    "        \n",
    "    printmd('**Based on file:'+' '+fold_file+'**')\n",
    "\n",
    "    printmd('\\n**Field that contains information on type of structure (fold, fault etc.)**')\n",
    "\n",
    "    ff_choice=widgets.Dropdown(\n",
    "        options=cols,\n",
    "        description='Fold field:',\n",
    "        disabled=False\n",
    "    )\n",
    "    display(ff_choice)\n",
    "\n",
    "    printmd('**Text to search for in field defined by Fold field to show that this is a fold axial trace**')\n",
    "\n",
    "    fold_choice=widgets.Text(\n",
    "        placeholder='Fold',\n",
    "        value='Fold',\n",
    "        description='Fold text:',\n",
    "        disabled=False\n",
    "    )\n",
    "    display(fold_choice)\n",
    "\n",
    "    printmd('**Field that contains information on type of fold (anticline, syncline)**')\n",
    "\n",
    "    t_choice=widgets.Dropdown(\n",
    "        options=cols,\n",
    "        description='Polarity field:',\n",
    "        disabled=False\n",
    "    )\n",
    "    display(t_choice)\n",
    "\n",
    "    printmd('**Text to search for in field defined by Polarity Field to show that this is a syncline**')\n",
    "\n",
    "    syn_choice=widgets.Text(\n",
    "        placeholder='syn',\n",
    "        value='syn',\n",
    "        description='Syncline text:',\n",
    "        disabled=False\n",
    "    )\n",
    "    display(syn_choice)\n"
   ]
  },
  {
   "cell_type": "code",
   "execution_count": 12,
   "metadata": {},
   "outputs": [],
   "source": [
    "geology_file='C:/Users/00077806/Dropbox/Loop_paterson/source_data/Paterson_Polygons_4WG.shp'"
   ]
  },
  {
   "cell_type": "code",
   "execution_count": 13,
   "metadata": {
    "scrolled": false
   },
   "outputs": [
    {
     "data": {
      "text/html": [
       "<div>\n",
       "<style scoped>\n",
       "    .dataframe tbody tr th:only-of-type {\n",
       "        vertical-align: middle;\n",
       "    }\n",
       "\n",
       "    .dataframe tbody tr th {\n",
       "        vertical-align: top;\n",
       "    }\n",
       "\n",
       "    .dataframe thead th {\n",
       "        text-align: right;\n",
       "    }\n",
       "</style>\n",
       "<table border=\"1\" class=\"dataframe\">\n",
       "  <thead>\n",
       "    <tr style=\"text-align: right;\">\n",
       "      <th></th>\n",
       "      <th>Id</th>\n",
       "      <th>Formation</th>\n",
       "      <th>Interp_fro</th>\n",
       "      <th>Comments</th>\n",
       "      <th>LITHSTRTNO</th>\n",
       "      <th>TECTNO</th>\n",
       "      <th>Formatio_1</th>\n",
       "      <th>UNITNAME</th>\n",
       "      <th>CODE</th>\n",
       "      <th>TECTNAME</th>\n",
       "      <th>TECTCODE</th>\n",
       "      <th>Legend_nar</th>\n",
       "      <th>Lithology</th>\n",
       "      <th>ROCKTYPE1</th>\n",
       "      <th>LITHNAME1</th>\n",
       "      <th>ROCKTYPE2</th>\n",
       "      <th>LITHNAME2</th>\n",
       "      <th>Maximum_ag</th>\n",
       "      <th>Minimum_ag</th>\n",
       "      <th>Rank</th>\n",
       "      <th>GSWA_statu</th>\n",
       "      <th>Parent_uni</th>\n",
       "      <th>TOL_Tecton</th>\n",
       "      <th>SUBBASIN</th>\n",
       "      <th>BASIN</th>\n",
       "      <th>SUPERBASIN</th>\n",
       "      <th>Formatio_2</th>\n",
       "      <th>Relative_m</th>\n",
       "      <th>Relative_1</th>\n",
       "      <th>geometry</th>\n",
       "    </tr>\n",
       "  </thead>\n",
       "  <tbody>\n",
       "    <tr>\n",
       "      <th>0</th>\n",
       "      <td>0</td>\n",
       "      <td>Browne Formation</td>\n",
       "      <td>GSWA Rpt 93; mag</td>\n",
       "      <td>Salt tectonics in Browne Formation, which is e...</td>\n",
       "      <td>None</td>\n",
       "      <td>None</td>\n",
       "      <td>Browne Formation</td>\n",
       "      <td>Browne Formation</td>\n",
       "      <td>None</td>\n",
       "      <td>None</td>\n",
       "      <td>None</td>\n",
       "      <td>Dolomite, massive, bedded and vein-type evapor...</td>\n",
       "      <td>None</td>\n",
       "      <td>sedimentary siliciclastic</td>\n",
       "      <td>siliciclastic + lesser carbonate</td>\n",
       "      <td>None</td>\n",
       "      <td>None</td>\n",
       "      <td>850.0</td>\n",
       "      <td>720.0</td>\n",
       "      <td>Formation</td>\n",
       "      <td>Formal</td>\n",
       "      <td>Buldya Group</td>\n",
       "      <td>Centralian Superbasin</td>\n",
       "      <td>None</td>\n",
       "      <td>Officer Basin</td>\n",
       "      <td>Centralian Superbasin</td>\n",
       "      <td>Browne Formation</td>\n",
       "      <td>840</td>\n",
       "      <td>810</td>\n",
       "      <td>POLYGON ((517764.938 7441151.216, 519061.399 7...</td>\n",
       "    </tr>\n",
       "    <tr>\n",
       "      <th>1</th>\n",
       "      <td>0</td>\n",
       "      <td>Broadhurst Formation</td>\n",
       "      <td>None</td>\n",
       "      <td>None</td>\n",
       "      <td>1834</td>\n",
       "      <td>None</td>\n",
       "      <td>Broadhurst Formation</td>\n",
       "      <td>Broadhurst Formation</td>\n",
       "      <td>P_-THb-shh</td>\n",
       "      <td>None</td>\n",
       "      <td>None</td>\n",
       "      <td>Carbonaceous shale and siltstone, pyritic and ...</td>\n",
       "      <td>None</td>\n",
       "      <td>sedimentary siliciclastic</td>\n",
       "      <td>shale</td>\n",
       "      <td>None</td>\n",
       "      <td>None</td>\n",
       "      <td>911.0</td>\n",
       "      <td>650.0</td>\n",
       "      <td>Formation</td>\n",
       "      <td>Formal</td>\n",
       "      <td>Throssell Range Group</td>\n",
       "      <td>Centralian Superbasin</td>\n",
       "      <td>None</td>\n",
       "      <td>Yeneena Basin</td>\n",
       "      <td>Centralian Superbasin</td>\n",
       "      <td>Broadhurst Formation</td>\n",
       "      <td>840</td>\n",
       "      <td>810</td>\n",
       "      <td>POLYGON ((527698.905 7446034.264, 528032.517 7...</td>\n",
       "    </tr>\n",
       "    <tr>\n",
       "      <th>2</th>\n",
       "      <td>0</td>\n",
       "      <td>Tabletop Terrane</td>\n",
       "      <td>GSWA 100</td>\n",
       "      <td>overlain by Throssell Range Gp</td>\n",
       "      <td>None</td>\n",
       "      <td>PTRT</td>\n",
       "      <td>Tabletop Terrane</td>\n",
       "      <td>None</td>\n",
       "      <td>None</td>\n",
       "      <td>Tabletop Terrane</td>\n",
       "      <td>PTRT</td>\n",
       "      <td>igneous and metamorphic rocks</td>\n",
       "      <td>igneous and metamorphic rocks</td>\n",
       "      <td>None</td>\n",
       "      <td>None</td>\n",
       "      <td>None</td>\n",
       "      <td>None</td>\n",
       "      <td>2500.0</td>\n",
       "      <td>1291.0</td>\n",
       "      <td>Province terrane/zone</td>\n",
       "      <td>Formal</td>\n",
       "      <td>Rudall Province</td>\n",
       "      <td>Rudall Province</td>\n",
       "      <td>None</td>\n",
       "      <td>None</td>\n",
       "      <td>None</td>\n",
       "      <td>Tabletop Terrane</td>\n",
       "      <td>1300</td>\n",
       "      <td>1250</td>\n",
       "      <td>POLYGON ((528503.578 7446369.544, 528956.207 7...</td>\n",
       "    </tr>\n",
       "    <tr>\n",
       "      <th>3</th>\n",
       "      <td>0</td>\n",
       "      <td>Broadhurst Formation</td>\n",
       "      <td>None</td>\n",
       "      <td>None</td>\n",
       "      <td>1834</td>\n",
       "      <td>None</td>\n",
       "      <td>Broadhurst Formation</td>\n",
       "      <td>Broadhurst Formation</td>\n",
       "      <td>P_-THb-shh</td>\n",
       "      <td>None</td>\n",
       "      <td>None</td>\n",
       "      <td>Carbonaceous shale and siltstone, pyritic and ...</td>\n",
       "      <td>None</td>\n",
       "      <td>sedimentary siliciclastic</td>\n",
       "      <td>shale</td>\n",
       "      <td>None</td>\n",
       "      <td>None</td>\n",
       "      <td>911.0</td>\n",
       "      <td>650.0</td>\n",
       "      <td>Formation</td>\n",
       "      <td>Formal</td>\n",
       "      <td>Throssell Range Group</td>\n",
       "      <td>Centralian Superbasin</td>\n",
       "      <td>None</td>\n",
       "      <td>Yeneena Basin</td>\n",
       "      <td>Centralian Superbasin</td>\n",
       "      <td>Broadhurst Formation</td>\n",
       "      <td>840</td>\n",
       "      <td>810</td>\n",
       "      <td>POLYGON ((502727.350 7449565.504, 503173.835 7...</td>\n",
       "    </tr>\n",
       "    <tr>\n",
       "      <th>4</th>\n",
       "      <td>0</td>\n",
       "      <td>Choorun Formation</td>\n",
       "      <td>GSWA 250; mag</td>\n",
       "      <td>None</td>\n",
       "      <td>3824</td>\n",
       "      <td>None</td>\n",
       "      <td>Choorun Formation</td>\n",
       "      <td>Choorun Formation</td>\n",
       "      <td>P_-TAc-sg</td>\n",
       "      <td>None</td>\n",
       "      <td>None</td>\n",
       "      <td>Pebble to cobble conglomerate, pebbly sandston...</td>\n",
       "      <td>None</td>\n",
       "      <td>sedimentary siliciclastic</td>\n",
       "      <td>conglomerate + sandstone</td>\n",
       "      <td>None</td>\n",
       "      <td>None</td>\n",
       "      <td>1000.0</td>\n",
       "      <td>635.0</td>\n",
       "      <td>Formation</td>\n",
       "      <td>Formal</td>\n",
       "      <td>Tarcunyah Group</td>\n",
       "      <td>Centralian Superbasin</td>\n",
       "      <td>Gibson Sub-basin</td>\n",
       "      <td>Officer Basin</td>\n",
       "      <td>Centralian Superbasin</td>\n",
       "      <td>Choorun Formation</td>\n",
       "      <td>833</td>\n",
       "      <td>831</td>\n",
       "      <td>POLYGON ((514002.626 7451641.298, 514113.621 7...</td>\n",
       "    </tr>\n",
       "  </tbody>\n",
       "</table>\n",
       "</div>"
      ],
      "text/plain": [
       "   Id             Formation        Interp_fro  \\\n",
       "0   0      Browne Formation  GSWA Rpt 93; mag   \n",
       "1   0  Broadhurst Formation              None   \n",
       "2   0      Tabletop Terrane          GSWA 100   \n",
       "3   0  Broadhurst Formation              None   \n",
       "4   0     Choorun Formation     GSWA 250; mag   \n",
       "\n",
       "                                            Comments LITHSTRTNO TECTNO  \\\n",
       "0  Salt tectonics in Browne Formation, which is e...       None   None   \n",
       "1                                               None       1834   None   \n",
       "2                     overlain by Throssell Range Gp       None   PTRT   \n",
       "3                                               None       1834   None   \n",
       "4                                               None       3824   None   \n",
       "\n",
       "             Formatio_1              UNITNAME        CODE          TECTNAME  \\\n",
       "0      Browne Formation      Browne Formation        None              None   \n",
       "1  Broadhurst Formation  Broadhurst Formation  P_-THb-shh              None   \n",
       "2      Tabletop Terrane                  None        None  Tabletop Terrane   \n",
       "3  Broadhurst Formation  Broadhurst Formation  P_-THb-shh              None   \n",
       "4     Choorun Formation     Choorun Formation   P_-TAc-sg              None   \n",
       "\n",
       "  TECTCODE                                         Legend_nar  \\\n",
       "0     None  Dolomite, massive, bedded and vein-type evapor...   \n",
       "1     None  Carbonaceous shale and siltstone, pyritic and ...   \n",
       "2     PTRT                      igneous and metamorphic rocks   \n",
       "3     None  Carbonaceous shale and siltstone, pyritic and ...   \n",
       "4     None  Pebble to cobble conglomerate, pebbly sandston...   \n",
       "\n",
       "                       Lithology                  ROCKTYPE1  \\\n",
       "0                           None  sedimentary siliciclastic   \n",
       "1                           None  sedimentary siliciclastic   \n",
       "2  igneous and metamorphic rocks                       None   \n",
       "3                           None  sedimentary siliciclastic   \n",
       "4                           None  sedimentary siliciclastic   \n",
       "\n",
       "                          LITHNAME1 ROCKTYPE2 LITHNAME2  Maximum_ag  \\\n",
       "0  siliciclastic + lesser carbonate      None      None       850.0   \n",
       "1                             shale      None      None       911.0   \n",
       "2                              None      None      None      2500.0   \n",
       "3                             shale      None      None       911.0   \n",
       "4          conglomerate + sandstone      None      None      1000.0   \n",
       "\n",
       "   Minimum_ag                   Rank GSWA_statu             Parent_uni  \\\n",
       "0       720.0              Formation     Formal           Buldya Group   \n",
       "1       650.0              Formation     Formal  Throssell Range Group   \n",
       "2      1291.0  Province terrane/zone     Formal        Rudall Province   \n",
       "3       650.0              Formation     Formal  Throssell Range Group   \n",
       "4       635.0              Formation     Formal        Tarcunyah Group   \n",
       "\n",
       "              TOL_Tecton          SUBBASIN          BASIN  \\\n",
       "0  Centralian Superbasin              None  Officer Basin   \n",
       "1  Centralian Superbasin              None  Yeneena Basin   \n",
       "2        Rudall Province              None           None   \n",
       "3  Centralian Superbasin              None  Yeneena Basin   \n",
       "4  Centralian Superbasin  Gibson Sub-basin  Officer Basin   \n",
       "\n",
       "              SUPERBASIN            Formatio_2 Relative_m Relative_1  \\\n",
       "0  Centralian Superbasin      Browne Formation        840        810   \n",
       "1  Centralian Superbasin  Broadhurst Formation        840        810   \n",
       "2                   None      Tabletop Terrane       1300       1250   \n",
       "3  Centralian Superbasin  Broadhurst Formation        840        810   \n",
       "4  Centralian Superbasin     Choorun Formation        833        831   \n",
       "\n",
       "                                            geometry  \n",
       "0  POLYGON ((517764.938 7441151.216, 519061.399 7...  \n",
       "1  POLYGON ((527698.905 7446034.264, 528032.517 7...  \n",
       "2  POLYGON ((528503.578 7446369.544, 528956.207 7...  \n",
       "3  POLYGON ((502727.350 7449565.504, 503173.835 7...  \n",
       "4  POLYGON ((514002.626 7451641.298, 514113.621 7...  "
      ]
     },
     "metadata": {},
     "output_type": "display_data"
    },
    {
     "data": {
      "text/markdown": [
       "**Based on file: C:/Users/00077806/Dropbox/Loop_paterson/source_data/Paterson_Polygons_4WG.shp**"
      ],
      "text/plain": [
       "<IPython.core.display.Markdown object>"
      ]
     },
     "metadata": {},
     "output_type": "display_data"
    },
    {
     "data": {
      "text/markdown": [
       "\n",
       "**Field that contains unique ID**"
      ],
      "text/plain": [
       "<IPython.core.display.Markdown object>"
      ]
     },
     "metadata": {},
     "output_type": "display_data"
    },
    {
     "data": {
      "application/vnd.jupyter.widget-view+json": {
       "model_id": "282816ad4600402a8c3efaf0027607a6",
       "version_major": 2,
       "version_minor": 0
      },
      "text/plain": [
       "Dropdown(description='Unique ID', options=('No_col', 'Id', 'Formation', 'Interp_fro', 'Comments', 'LITHSTRTNO'…"
      ]
     },
     "metadata": {},
     "output_type": "display_data"
    },
    {
     "data": {
      "text/markdown": [
       "**Field that contains finer stratigraphic coding**"
      ],
      "text/plain": [
       "<IPython.core.display.Markdown object>"
      ]
     },
     "metadata": {},
     "output_type": "display_data"
    },
    {
     "data": {
      "application/vnd.jupyter.widget-view+json": {
       "model_id": "b17e5ad949ce486c9af092f988d6ff20",
       "version_major": 2,
       "version_minor": 0
      },
      "text/plain": [
       "Dropdown(description='Formation', options=('No_col', 'Id', 'Formation', 'Interp_fro', 'Comments', 'LITHSTRTNO'…"
      ]
     },
     "metadata": {},
     "output_type": "display_data"
    },
    {
     "data": {
      "text/markdown": [
       "\n",
       "**Field that contains coarser stratigraphic coding**"
      ],
      "text/plain": [
       "<IPython.core.display.Markdown object>"
      ]
     },
     "metadata": {},
     "output_type": "display_data"
    },
    {
     "data": {
      "application/vnd.jupyter.widget-view+json": {
       "model_id": "bc703a1c9bbc467e9a267101f6f334d1",
       "version_major": 2,
       "version_minor": 0
      },
      "text/plain": [
       "Dropdown(description='Group', options=('No_col', 'Id', 'Formation', 'Interp_fro', 'Comments', 'LITHSTRTNO', 'T…"
      ]
     },
     "metadata": {},
     "output_type": "display_data"
    },
    {
     "data": {
      "text/markdown": [
       "**Field that contains alternate coarser stratigraphic coding if Group is blank**"
      ],
      "text/plain": [
       "<IPython.core.display.Markdown object>"
      ]
     },
     "metadata": {},
     "output_type": "display_data"
    },
    {
     "data": {
      "application/vnd.jupyter.widget-view+json": {
       "model_id": "042bc2e308ba46d4ac2cf0f2bcbb6672",
       "version_major": 2,
       "version_minor": 0
      },
      "text/plain": [
       "Dropdown(description='Group alt', options=('No_col', 'Id', 'Formation', 'Interp_fro', 'Comments', 'LITHSTRTNO'…"
      ]
     },
     "metadata": {},
     "output_type": "display_data"
    },
    {
     "data": {
      "text/markdown": [
       "**Field that contains alternate stratigraphic coding (used to check for \"drift\" formations)**"
      ],
      "text/plain": [
       "<IPython.core.display.Markdown object>"
      ]
     },
     "metadata": {},
     "output_type": "display_data"
    },
    {
     "data": {
      "application/vnd.jupyter.widget-view+json": {
       "model_id": "3fb6d93a48b5491884bad5e5c215eb6e",
       "version_major": 2,
       "version_minor": 0
      },
      "text/plain": [
       "Dropdown(description='Strat alt', options=('No_col', 'Id', 'Formation', 'Interp_fro', 'Comments', 'LITHSTRTNO'…"
      ]
     },
     "metadata": {},
     "output_type": "display_data"
    },
    {
     "data": {
      "text/markdown": [
       "**Field that contains information about lithology**"
      ],
      "text/plain": [
       "<IPython.core.display.Markdown object>"
      ]
     },
     "metadata": {},
     "output_type": "display_data"
    },
    {
     "data": {
      "application/vnd.jupyter.widget-view+json": {
       "model_id": "6c4ce2936ee24af08033735f29a5b5e0",
       "version_major": 2,
       "version_minor": 0
      },
      "text/plain": [
       "Dropdown(description='Description:', options=('No_col', 'Id', 'Formation', 'Interp_fro', 'Comments', 'LITHSTRT…"
      ]
     },
     "metadata": {},
     "output_type": "display_data"
    },
    {
     "data": {
      "text/markdown": [
       "**Field that contains extra lithology information**"
      ],
      "text/plain": [
       "<IPython.core.display.Markdown object>"
      ]
     },
     "metadata": {},
     "output_type": "display_data"
    },
    {
     "data": {
      "application/vnd.jupyter.widget-view+json": {
       "model_id": "f25fc2cc7610470ea850e1a10345854c",
       "version_major": 2,
       "version_minor": 0
      },
      "text/plain": [
       "Dropdown(description='Litho', options=('No_col', 'Id', 'Formation', 'Interp_fro', 'Comments', 'LITHSTRTNO', 'T…"
      ]
     },
     "metadata": {},
     "output_type": "display_data"
    },
    {
     "data": {
      "text/markdown": [
       "**Field that contains even more lithology information**"
      ],
      "text/plain": [
       "<IPython.core.display.Markdown object>"
      ]
     },
     "metadata": {},
     "output_type": "display_data"
    },
    {
     "data": {
      "application/vnd.jupyter.widget-view+json": {
       "model_id": "17cadd3411954895a1999c3008816d45",
       "version_major": 2,
       "version_minor": 0
      },
      "text/plain": [
       "Dropdown(description='Litho alt', options=('No_col', 'Id', 'Formation', 'Interp_fro', 'Comments', 'LITHSTRTNO'…"
      ]
     },
     "metadata": {},
     "output_type": "display_data"
    },
    {
     "data": {
      "text/markdown": [
       "**Text to search for in field defined by Description code to show that this is a sill**"
      ],
      "text/plain": [
       "<IPython.core.display.Markdown object>"
      ]
     },
     "metadata": {},
     "output_type": "display_data"
    },
    {
     "data": {
      "application/vnd.jupyter.widget-view+json": {
       "model_id": "52c335c6b173436d90d244547015c57a",
       "version_major": 2,
       "version_minor": 0
      },
      "text/plain": [
       "Text(value='sill', description='Sill text', placeholder='sill')"
      ]
     },
     "metadata": {},
     "output_type": "display_data"
    },
    {
     "data": {
      "text/markdown": [
       "**Text to search for in field defined by Litho code to show that this is an intrusion**"
      ],
      "text/plain": [
       "<IPython.core.display.Markdown object>"
      ]
     },
     "metadata": {},
     "output_type": "display_data"
    },
    {
     "data": {
      "application/vnd.jupyter.widget-view+json": {
       "model_id": "598dde09cc9245bf9a5b837dde081d0a",
       "version_major": 2,
       "version_minor": 0
      },
      "text/plain": [
       "Text(value='intrusive', description='Intrusive text', placeholder='intrusive')"
      ]
     },
     "metadata": {},
     "output_type": "display_data"
    },
    {
     "data": {
      "text/markdown": [
       "**Text to search for in field defined by Description code to show that this is an volcanic (not intrusion)**"
      ],
      "text/plain": [
       "<IPython.core.display.Markdown object>"
      ]
     },
     "metadata": {},
     "output_type": "display_data"
    },
    {
     "data": {
      "application/vnd.jupyter.widget-view+json": {
       "model_id": "4392a7f14d674e158149b39418c2f256",
       "version_major": 2,
       "version_minor": 0
      },
      "text/plain": [
       "Text(value='volc', description='Volc text', placeholder='volc')"
      ]
     },
     "metadata": {},
     "output_type": "display_data"
    },
    {
     "data": {
      "text/markdown": [
       "**Field that contains minimum age of unit defined by Formation**"
      ],
      "text/plain": [
       "<IPython.core.display.Markdown object>"
      ]
     },
     "metadata": {},
     "output_type": "display_data"
    },
    {
     "data": {
      "application/vnd.jupyter.widget-view+json": {
       "model_id": "a5723931645a4f7c98bbbc0817de0d0c",
       "version_major": 2,
       "version_minor": 0
      },
      "text/plain": [
       "Dropdown(description='Min age', options=('No_col', 'Id', 'Formation', 'Interp_fro', 'Comments', 'LITHSTRTNO', …"
      ]
     },
     "metadata": {},
     "output_type": "display_data"
    },
    {
     "data": {
      "text/markdown": [
       "**Field that contains maximum age of unit defined by Formation**"
      ],
      "text/plain": [
       "<IPython.core.display.Markdown object>"
      ]
     },
     "metadata": {},
     "output_type": "display_data"
    },
    {
     "data": {
      "application/vnd.jupyter.widget-view+json": {
       "model_id": "07b868e11898486092f87e2a55b6a567",
       "version_major": 2,
       "version_minor": 0
      },
      "text/plain": [
       "Dropdown(description='Max age', options=('No_col', 'Id', 'Formation', 'Interp_fro', 'Comments', 'LITHSTRTNO', …"
      ]
     },
     "metadata": {},
     "output_type": "display_data"
    }
   ],
   "source": [
    "c_l['ff']=ff_choice.value\n",
    "c_l['fold']=fold_choice.value\n",
    "c_l['t']=t_choice.value\n",
    "c_l['syn']=syn_choice.value\n",
    "\n",
    "if(not geology_file==''):\n",
    "    geology=gpd.read_file(geology_file)\n",
    "    display(geology.head())\n",
    "    cols=['No_col']\n",
    "    for sc in geology.columns:\n",
    "        cols.append(sc)\n",
    "    printmd('**Based on file:'+' '+geology_file+'**')\n",
    "\n",
    "    printmd('\\n**Field that contains unique ID**')\n",
    "\n",
    "    o_choice=widgets.Dropdown(\n",
    "        options=cols,\n",
    "        description='Unique ID',\n",
    "        disabled=False\n",
    "    )\n",
    "    display(o_choice)\n",
    "\n",
    "    printmd('**Field that contains finer stratigraphic coding**')\n",
    "\n",
    "    c_choice=widgets.Dropdown(\n",
    "        options=cols,\n",
    "        description='Formation',\n",
    "        disabled=False\n",
    "    )\n",
    "    display(c_choice)\n",
    "\n",
    "    printmd('\\n**Field that contains coarser stratigraphic coding**')\n",
    "\n",
    "    g_choice=widgets.Dropdown(\n",
    "        options=cols,\n",
    "        description='Group',\n",
    "        disabled=False\n",
    "    )\n",
    "    display(g_choice)\n",
    "\n",
    "    printmd('**Field that contains alternate coarser stratigraphic coding if Group is blank**')\n",
    "\n",
    "    g2_choice=widgets.Dropdown(\n",
    "        options=cols,\n",
    "        description='Group alt',\n",
    "        disabled=False\n",
    "    )\n",
    "    display(g2_choice)\n",
    "\n",
    "\n",
    "    printmd('**Field that contains alternate stratigraphic coding (used to check for \"drift\" formations'')**')\n",
    "\n",
    "    u_choice=widgets.Dropdown(\n",
    "        options=cols,\n",
    "        description='Strat alt',\n",
    "        disabled=False\n",
    "    )\n",
    "    display(u_choice)\n",
    "\n",
    "    printmd('**Field that contains information about lithology**')\n",
    "\n",
    "    ds_choice=widgets.Dropdown(\n",
    "        options=cols,\n",
    "        description='Description:',\n",
    "        disabled=False\n",
    "    )\n",
    "    display(ds_choice)\n",
    "\n",
    "    printmd('**Field that contains extra lithology information**')\n",
    "\n",
    "    r1_choice=widgets.Dropdown(\n",
    "        options=cols,\n",
    "        description='Litho',\n",
    "        disabled=False\n",
    "    )\n",
    "    display(r1_choice)\n",
    "\n",
    "    printmd('**Field that contains even more lithology information**')\n",
    "\n",
    "    r2_choice=widgets.Dropdown(\n",
    "        options=cols,\n",
    "        description='Litho alt',\n",
    "        disabled=False\n",
    "    )\n",
    "    display(r2_choice)\n",
    "\n",
    "    printmd('**Text to search for in field defined by Description code to show that this is a sill**')\n",
    "\n",
    "    sill_choice=widgets.Text(\n",
    "        placeholder='sill',\n",
    "        value='sill',\n",
    "        description='Sill text',\n",
    "        disabled=False\n",
    "    )\n",
    "    display(sill_choice)\n",
    "\n",
    "    printmd('**Text to search for in field defined by Litho code to show that this is an intrusion**')\n",
    "\n",
    "    intrusive_choice=widgets.Text(\n",
    "        placeholder='intrusive',\n",
    "        value='intrusive',\n",
    "        description='Intrusive text',\n",
    "        disabled=False\n",
    "    )\n",
    "    display(intrusive_choice)\n",
    "\n",
    "    printmd('**Text to search for in field defined by Description code to show that this is an volcanic (not intrusion)**')\n",
    "\n",
    "\n",
    "    volcanic_choice=widgets.Text(\n",
    "        placeholder='volc',\n",
    "        value='volc',\n",
    "        description='Volc text',\n",
    "        disabled=False\n",
    "    )\n",
    "    display(volcanic_choice)\n",
    "\n",
    "    printmd('**Field that contains minimum age of unit defined by Formation**')\n",
    "\n",
    "    min_choice=widgets.Dropdown(\n",
    "        options=cols,\n",
    "        description='Min age',\n",
    "        disabled=False\n",
    "    )\n",
    "    display(min_choice)\n",
    "\n",
    "    printmd('**Field that contains maximum age of unit defined by Formation**')\n",
    "\n",
    "    max_choice=widgets.Dropdown(\n",
    "        options=cols,\n",
    "        description='Max age',\n",
    "        disabled=False\n",
    "    )\n",
    "    display(max_choice)\n",
    "\n"
   ]
  },
  {
   "cell_type": "code",
   "execution_count": 14,
   "metadata": {},
   "outputs": [
    {
     "data": {
      "text/html": [
       "<div>\n",
       "<style scoped>\n",
       "    .dataframe tbody tr th:only-of-type {\n",
       "        vertical-align: middle;\n",
       "    }\n",
       "\n",
       "    .dataframe tbody tr th {\n",
       "        vertical-align: top;\n",
       "    }\n",
       "\n",
       "    .dataframe thead th {\n",
       "        text-align: right;\n",
       "    }\n",
       "</style>\n",
       "<table border=\"1\" class=\"dataframe\">\n",
       "  <thead>\n",
       "    <tr style=\"text-align: right;\">\n",
       "      <th></th>\n",
       "      <th>SITE_CODE</th>\n",
       "      <th>SITE_TITLE</th>\n",
       "      <th>SHORT_NAME</th>\n",
       "      <th>SITE_COMMO</th>\n",
       "      <th>SITE_TYPE_</th>\n",
       "      <th>SITE_SUB_T</th>\n",
       "      <th>SITE_STAGE</th>\n",
       "      <th>TARGET_COM</th>\n",
       "      <th>COMMODITY_</th>\n",
       "      <th>PROJ_CODE</th>\n",
       "      <th>PROJ_TITLE</th>\n",
       "      <th>WEB_LINK</th>\n",
       "      <th>EXTRACT_DA</th>\n",
       "      <th>geometry</th>\n",
       "    </tr>\n",
       "  </thead>\n",
       "  <tbody>\n",
       "    <tr>\n",
       "      <th>0</th>\n",
       "      <td>S0001482</td>\n",
       "      <td>Vivash Gorge</td>\n",
       "      <td>Vivash Gorge</td>\n",
       "      <td>Fe</td>\n",
       "      <td>Deposit</td>\n",
       "      <td>Unspecified</td>\n",
       "      <td>Undeveloped</td>\n",
       "      <td>IRON ORE</td>\n",
       "      <td>IRON</td>\n",
       "      <td>J03931</td>\n",
       "      <td>Brockman 4 Area / Rio Tinto</td>\n",
       "      <td>http://minedexext.dmp.wa.gov.au/minedex/extern...</td>\n",
       "      <td>2018-05-07</td>\n",
       "      <td>POINT (505671.537 7495706.968)</td>\n",
       "    </tr>\n",
       "    <tr>\n",
       "      <th>1</th>\n",
       "      <td>S0231563</td>\n",
       "      <td>Eliwana Exploration Camp</td>\n",
       "      <td>Exploration camp</td>\n",
       "      <td>Fe</td>\n",
       "      <td>Infrastructure</td>\n",
       "      <td>Town/Village/Camp</td>\n",
       "      <td>Operating</td>\n",
       "      <td>IRON ORE</td>\n",
       "      <td>IRON</td>\n",
       "      <td>J03436</td>\n",
       "      <td>Western Hub / FMG</td>\n",
       "      <td>http://minedexext.dmp.wa.gov.au/minedex/extern...</td>\n",
       "      <td>2018-05-07</td>\n",
       "      <td>POINT (503344.199 7511681.103)</td>\n",
       "    </tr>\n",
       "    <tr>\n",
       "      <th>2</th>\n",
       "      <td>S0233921</td>\n",
       "      <td>Eliwana Far East 2 Marra Mamba</td>\n",
       "      <td>Eliwana Far East 2 Marra Mamba</td>\n",
       "      <td>Fe</td>\n",
       "      <td>Deposit</td>\n",
       "      <td>Unspecified</td>\n",
       "      <td>Undeveloped</td>\n",
       "      <td>IRON ORE</td>\n",
       "      <td>IRON</td>\n",
       "      <td>J03436</td>\n",
       "      <td>Western Hub / FMG</td>\n",
       "      <td>http://minedexext.dmp.wa.gov.au/minedex/extern...</td>\n",
       "      <td>2018-05-07</td>\n",
       "      <td>POINT (505699.008 7509917.737)</td>\n",
       "    </tr>\n",
       "  </tbody>\n",
       "</table>\n",
       "</div>"
      ],
      "text/plain": [
       "  SITE_CODE                      SITE_TITLE                      SHORT_NAME  \\\n",
       "0  S0001482                    Vivash Gorge                    Vivash Gorge   \n",
       "1  S0231563        Eliwana Exploration Camp                Exploration camp   \n",
       "2  S0233921  Eliwana Far East 2 Marra Mamba  Eliwana Far East 2 Marra Mamba   \n",
       "\n",
       "  SITE_COMMO      SITE_TYPE_         SITE_SUB_T   SITE_STAGE TARGET_COM  \\\n",
       "0         Fe         Deposit        Unspecified  Undeveloped   IRON ORE   \n",
       "1         Fe  Infrastructure  Town/Village/Camp    Operating   IRON ORE   \n",
       "2         Fe         Deposit        Unspecified  Undeveloped   IRON ORE   \n",
       "\n",
       "  COMMODITY_ PROJ_CODE                   PROJ_TITLE  \\\n",
       "0       IRON    J03931  Brockman 4 Area / Rio Tinto   \n",
       "1       IRON    J03436            Western Hub / FMG   \n",
       "2       IRON    J03436            Western Hub / FMG   \n",
       "\n",
       "                                            WEB_LINK  EXTRACT_DA  \\\n",
       "0  http://minedexext.dmp.wa.gov.au/minedex/extern...  2018-05-07   \n",
       "1  http://minedexext.dmp.wa.gov.au/minedex/extern...  2018-05-07   \n",
       "2  http://minedexext.dmp.wa.gov.au/minedex/extern...  2018-05-07   \n",
       "\n",
       "                         geometry  \n",
       "0  POINT (505671.537 7495706.968)  \n",
       "1  POINT (503344.199 7511681.103)  \n",
       "2  POINT (505699.008 7509917.737)  "
      ]
     },
     "metadata": {},
     "output_type": "display_data"
    },
    {
     "data": {
      "text/markdown": [
       "**Based on file: C:/Users/00077806/Dropbox/Loop_paterson/map2loop2-notebooks/source_data/null_mindeps.shp**"
      ],
      "text/plain": [
       "<IPython.core.display.Markdown object>"
      ]
     },
     "metadata": {},
     "output_type": "display_data"
    },
    {
     "data": {
      "text/markdown": [
       "\n",
       "**Field that contains site code of deposit**"
      ],
      "text/plain": [
       "<IPython.core.display.Markdown object>"
      ]
     },
     "metadata": {},
     "output_type": "display_data"
    },
    {
     "data": {
      "application/vnd.jupyter.widget-view+json": {
       "model_id": "443149cbf1454a479e9b43aa1b1376c4",
       "version_major": 2,
       "version_minor": 0
      },
      "text/plain": [
       "Dropdown(description='Site code', index=1, options=('No_col', 'SITE_CODE', 'SITE_TITLE', 'SHORT_NAME', 'SITE_C…"
      ]
     },
     "metadata": {},
     "output_type": "display_data"
    },
    {
     "data": {
      "text/markdown": [
       "**Field that contains short name of deposit (e.g. Jones deposit)**"
      ],
      "text/plain": [
       "<IPython.core.display.Markdown object>"
      ]
     },
     "metadata": {},
     "output_type": "display_data"
    },
    {
     "data": {
      "application/vnd.jupyter.widget-view+json": {
       "model_id": "6457624864134d009dd36096011856cd",
       "version_major": 2,
       "version_minor": 0
      },
      "text/plain": [
       "Dropdown(description='Short Name', index=3, options=('No_col', 'SITE_CODE', 'SITE_TITLE', 'SHORT_NAME', 'SITE_…"
      ]
     },
     "metadata": {},
     "output_type": "display_data"
    },
    {
     "data": {
      "text/markdown": [
       "**Field that contains site type of deposit (Mine, occurrence etc.)**"
      ],
      "text/plain": [
       "<IPython.core.display.Markdown object>"
      ]
     },
     "metadata": {},
     "output_type": "display_data"
    },
    {
     "data": {
      "application/vnd.jupyter.widget-view+json": {
       "model_id": "7a26d749dedb4eee9eb7972172326b34",
       "version_major": 2,
       "version_minor": 0
      },
      "text/plain": [
       "Dropdown(description='Site type', index=5, options=('No_col', 'SITE_CODE', 'SITE_TITLE', 'SHORT_NAME', 'SITE_C…"
      ]
     },
     "metadata": {},
     "output_type": "display_data"
    },
    {
     "data": {
      "text/markdown": [
       "**Field that contains target commodity of deposit (Commodity)**"
      ],
      "text/plain": [
       "<IPython.core.display.Markdown object>"
      ]
     },
     "metadata": {},
     "output_type": "display_data"
    },
    {
     "data": {
      "application/vnd.jupyter.widget-view+json": {
       "model_id": "81a3c34f6cb743269ff9c63bf5746d84",
       "version_major": 2,
       "version_minor": 0
      },
      "text/plain": [
       "Dropdown(description='Target Comm', index=8, options=('No_col', 'SITE_CODE', 'SITE_TITLE', 'SHORT_NAME', 'SITE…"
      ]
     },
     "metadata": {},
     "output_type": "display_data"
    },
    {
     "data": {
      "text/markdown": [
       "**Field that contains site commodity of deposit (ore Mineral)**"
      ],
      "text/plain": [
       "<IPython.core.display.Markdown object>"
      ]
     },
     "metadata": {},
     "output_type": "display_data"
    },
    {
     "data": {
      "application/vnd.jupyter.widget-view+json": {
       "model_id": "32647c1a8de3412881d1eb59514c362e",
       "version_major": 2,
       "version_minor": 0
      },
      "text/plain": [
       "Dropdown(description='Site Commodity', index=4, options=('No_col', 'SITE_CODE', 'SITE_TITLE', 'SHORT_NAME', 'S…"
      ]
     },
     "metadata": {},
     "output_type": "display_data"
    },
    {
     "data": {
      "text/markdown": [
       "**Field that contains commodity group of deposit (e.g. Metal)**"
      ],
      "text/plain": [
       "<IPython.core.display.Markdown object>"
      ]
     },
     "metadata": {},
     "output_type": "display_data"
    },
    {
     "data": {
      "application/vnd.jupyter.widget-view+json": {
       "model_id": "04f3cb707b7f4cffb869f9169befd419",
       "version_major": 2,
       "version_minor": 0
      },
      "text/plain": [
       "Dropdown(description='Commodity', index=9, options=('No_col', 'SITE_CODE', 'SITE_TITLE', 'SHORT_NAME', 'SITE_C…"
      ]
     },
     "metadata": {},
     "output_type": "display_data"
    },
    {
     "data": {
      "text/markdown": [
       "**Text to search for in field defined by Site type code that shows site to ignore**"
      ],
      "text/plain": [
       "<IPython.core.display.Markdown object>"
      ]
     },
     "metadata": {},
     "output_type": "display_data"
    },
    {
     "data": {
      "application/vnd.jupyter.widget-view+json": {
       "model_id": "2e26484a8c074f7380fafd42405e3fba",
       "version_major": 2,
       "version_minor": 0
      },
      "text/plain": [
       "Text(value='Cons', description='Not mine text', placeholder='Cons')"
      ]
     },
     "metadata": {},
     "output_type": "display_data"
    }
   ],
   "source": [
    "c_l['o']=o_choice.value\n",
    "c_l['g']=g_choice.value\n",
    "c_l['g2']=g2_choice.value\n",
    "c_l['c']=c_choice.value\n",
    "c_l['ds']=ds_choice.value\n",
    "c_l['u']=u_choice.value\n",
    "c_l['r1']=r1_choice.value\n",
    "c_l['r2']=r2_choice.value\n",
    "c_l['sill']=sill_choice.value\n",
    "c_l['intrusive']=intrusive_choice.value\n",
    "c_l['volcanic']=volcanic_choice.value\n",
    "c_l['min']=min_choice.value\n",
    "c_l['max']=max_choice.value\n",
    "\n",
    "mindep=gpd.read_file(mindep_file)\n",
    "display(mindep.head())\n",
    "cols=['No_col']\n",
    "for sc in mindep.columns:\n",
    "    cols.append(sc)\n",
    "\n",
    "printmd('**Based on file:'+' '+mindep_file+'**')\n",
    "\n",
    "printmd('\\n**Field that contains site code of deposit**')\n",
    "\n",
    "msc_choice=widgets.Dropdown(\n",
    "    options=cols,\n",
    "    value='SITE_CODE',\n",
    "    description='Site code',\n",
    "    disabled=False\n",
    ")\n",
    "display(msc_choice)\n",
    "\n",
    "printmd('**Field that contains short name of deposit (e.g. Jones deposit)**')\n",
    "\n",
    "msn_choice=widgets.Dropdown(\n",
    "    options=cols,\n",
    "    value='SHORT_NAME',\n",
    "    description='Short Name',\n",
    "    disabled=False\n",
    ")\n",
    "display(msn_choice)\n",
    "\n",
    "printmd('**Field that contains site type of deposit (Mine, occurrence etc.)**')\n",
    "\n",
    "mst_choice=widgets.Dropdown(\n",
    "    options=cols,\n",
    "    value='SITE_TYPE_',\n",
    "    description='Site type',\n",
    "    disabled=False\n",
    ")\n",
    "display(mst_choice)\n",
    "\n",
    "\n",
    "printmd('**Field that contains target commodity of deposit (Commodity)**')\n",
    "\n",
    "mtc_choice=widgets.Dropdown(\n",
    "    options=cols,\n",
    "    value='TARGET_COM',\n",
    "    description='Target Comm',\n",
    "    disabled=False\n",
    ")\n",
    "display(mtc_choice)\n",
    "\n",
    "printmd('**Field that contains site commodity of deposit (ore Mineral)**')\n",
    "\n",
    "mscm_choice=widgets.Dropdown(\n",
    "    options=cols,\n",
    "    value='SITE_COMMO',\n",
    "    description='Site Commodity',\n",
    "    disabled=False\n",
    ")\n",
    "display(mscm_choice)\n",
    "\n",
    "printmd('**Field that contains commodity group of deposit (e.g. Metal)**')\n",
    "\n",
    "mcom_choice=widgets.Dropdown(\n",
    "    options=cols,\n",
    "    value='COMMODITY_',\n",
    "    description='Commodity',\n",
    "    disabled=False,\n",
    "    style=style\n",
    ")\n",
    "display(mcom_choice)\n",
    "\n",
    "printmd('**Text to search for in field defined by Site type code that shows site to ignore**')\n",
    "\n",
    "minf_choice=widgets.Text(\n",
    "    placeholder='Cons',\n",
    "    value='Cons',\n",
    "    description='Not mine text',\n",
    "    disabled=False\n",
    ")\n",
    "display(minf_choice)\n"
   ]
  },
  {
   "cell_type": "code",
   "execution_count": 15,
   "metadata": {},
   "outputs": [],
   "source": [
    "c_l['msc']=msc_choice.value\n",
    "c_l['msn']=msn_choice.value\n",
    "c_l['mst']=mst_choice.value\n",
    "c_l['mtc']=mtc_choice.value\n",
    "c_l['mscm']=mscm_choice.value\n",
    "c_l['mcom']=mcom_choice.value\n",
    "c_l['minf']=minf_choice.value\n",
    "\n",
    "if(not os.path.isdir(test_data_name)):\n",
    "    os.mkdir(test_data_name)\n",
    "f=open(test_data_name+'/'+test_data_name+'_config.hjson',\"w\")\n",
    "f.write(str(c_l).replace('\\n',''))\n",
    "f.write(\"\\n\")\n",
    "\n",
    "f.close()"
   ]
  },
  {
   "cell_type": "code",
   "execution_count": 16,
   "metadata": {
    "scrolled": true
   },
   "outputs": [
    {
     "data": {
      "text/plain": [
       "{'d': 'dip',\n",
       " 'dd': 'dip_direct',\n",
       " 'sf': 'layer_type',\n",
       " 'bedding': 'bedding',\n",
       " 'otype': 'dip direction',\n",
       " 'bo': 'No_col',\n",
       " 'btype': 'normal',\n",
       " 'g': 'Parent_uni',\n",
       " 'g2': 'TOL_Tecton',\n",
       " 'c': 'Formation',\n",
       " 'ds': 'ROCKTYPE1',\n",
       " 'u': 'SUPERBASIN',\n",
       " 'r1': 'LITHNAME1',\n",
       " 'r2': 'Legend_nar',\n",
       " 'sill': 'sill',\n",
       " 'intrusive': 'granitic',\n",
       " 'volcanic': 'volc',\n",
       " 'msc': 'SITE_CODE',\n",
       " 'msn': 'SHORT_NAME',\n",
       " 'mst': 'SITE_TYPE_',\n",
       " 'mtc': 'TARGET_COM',\n",
       " 'mscm': 'SITE_COMMO',\n",
       " 'mcom': 'COMMODITY_',\n",
       " 'minf': 'Cons',\n",
       " 'min': 'Minimum_ag',\n",
       " 'max': 'Maximum_ag',\n",
       " 'f': 'Type',\n",
       " 'fault': 'Fault',\n",
       " 'ff': 'Type',\n",
       " 'fold': 'Fold',\n",
       " 'fdip': 'Dip_est',\n",
       " 'fdipnull': '-999',\n",
       " 'fdipdir': 'Dip_dir',\n",
       " 'fdipdir_flag': 'num',\n",
       " 'fdipest': 'No_col',\n",
       " 'fdipest_vals': 'No_col',\n",
       " 'n': 'Id',\n",
       " 't': 'No_col',\n",
       " 'syn': 'syn',\n",
       " 'o': 'Id',\n",
       " 'gi': 'Id',\n",
       " 'deposit_dist': 500}"
      ]
     },
     "execution_count": 16,
     "metadata": {},
     "output_type": "execute_result"
    }
   ],
   "source": [
    "c_l"
   ]
  },
  {
   "cell_type": "code",
   "execution_count": 72,
   "metadata": {
    "scrolled": true
   },
   "outputs": [
    {
     "data": {
      "text/markdown": [
       "**aus: Indicates if area is in Australia for using ASUD. Defaults to True.**"
      ],
      "text/plain": [
       "<IPython.core.display.Markdown object>"
      ]
     },
     "metadata": {},
     "output_type": "display_data"
    },
    {
     "data": {
      "application/vnd.jupyter.widget-view+json": {
       "model_id": "d22b0e8e582e4c28bfc6deb04c2edbbf",
       "version_major": 2,
       "version_minor": 0
      },
      "text/plain": [
       "Text(value='True', description='aus')"
      ]
     },
     "metadata": {},
     "output_type": "display_data"
    },
    {
     "data": {
      "text/markdown": [
       "**deposits: Mineral deposit names for focused topology extraction. Defaults to \"Fe,Cu,Au,NONE\".**"
      ],
      "text/plain": [
       "<IPython.core.display.Markdown object>"
      ]
     },
     "metadata": {},
     "output_type": "display_data"
    },
    {
     "data": {
      "application/vnd.jupyter.widget-view+json": {
       "model_id": "5cbf4f434718411392ff180fcf247d19",
       "version_major": 2,
       "version_minor": 0
      },
      "text/plain": [
       "Text(value='\"Fe,Cu,Au,NONE\"', description='deposits')"
      ]
     },
     "metadata": {},
     "output_type": "display_data"
    },
    {
     "data": {
      "text/markdown": [
       "**dtb: Path to depth to basement grid. Defaults to .**"
      ],
      "text/plain": [
       "<IPython.core.display.Markdown object>"
      ]
     },
     "metadata": {},
     "output_type": "display_data"
    },
    {
     "data": {
      "application/vnd.jupyter.widget-view+json": {
       "model_id": "9e759fb2637a430e81167a424ae24b29",
       "version_major": 2,
       "version_minor": 0
      },
      "text/plain": [
       "Text(value='', description='dtb')"
      ]
     },
     "metadata": {},
     "output_type": "display_data"
    },
    {
     "data": {
      "text/markdown": [
       "**orientation_decimate: Save every nth orientation data point. Defaults to 0.**"
      ],
      "text/plain": [
       "<IPython.core.display.Markdown object>"
      ]
     },
     "metadata": {},
     "output_type": "display_data"
    },
    {
     "data": {
      "application/vnd.jupyter.widget-view+json": {
       "model_id": "718ca2dbada7428ab26190950374c07a",
       "version_major": 2,
       "version_minor": 0
      },
      "text/plain": [
       "Text(value='0', description='orientation_decimate')"
      ]
     },
     "metadata": {},
     "output_type": "display_data"
    },
    {
     "data": {
      "text/markdown": [
       "**contact_decimate: Save every nth contact data point. Defaults to 5.**"
      ],
      "text/plain": [
       "<IPython.core.display.Markdown object>"
      ]
     },
     "metadata": {},
     "output_type": "display_data"
    },
    {
     "data": {
      "application/vnd.jupyter.widget-view+json": {
       "model_id": "9d1c4063039f440eb280ede7fa0fc878",
       "version_major": 2,
       "version_minor": 0
      },
      "text/plain": [
       "Text(value='5', description='contact_decimate')"
      ]
     },
     "metadata": {},
     "output_type": "display_data"
    },
    {
     "data": {
      "text/markdown": [
       "**intrusion_mode: 1 to exclude all intrusions from basal contacts, 0 to only exclude sills. Defaults to 0.**"
      ],
      "text/plain": [
       "<IPython.core.display.Markdown object>"
      ]
     },
     "metadata": {},
     "output_type": "display_data"
    },
    {
     "data": {
      "application/vnd.jupyter.widget-view+json": {
       "model_id": "626679c483f341a0a082f7318e3c2046",
       "version_major": 2,
       "version_minor": 0
      },
      "text/plain": [
       "Text(value='0', description='intrusion_mode')"
      ]
     },
     "metadata": {},
     "output_type": "display_data"
    },
    {
     "data": {
      "text/markdown": [
       "**interpolation_spacing: Interpolation grid spacing in meters. Defaults to 500.**"
      ],
      "text/plain": [
       "<IPython.core.display.Markdown object>"
      ]
     },
     "metadata": {},
     "output_type": "display_data"
    },
    {
     "data": {
      "application/vnd.jupyter.widget-view+json": {
       "model_id": "77e2615eddce459682a22e678855afa2",
       "version_major": 2,
       "version_minor": 0
      },
      "text/plain": [
       "Text(value='500', description='interpolation_spacing')"
      ]
     },
     "metadata": {},
     "output_type": "display_data"
    },
    {
     "data": {
      "text/markdown": [
       "**misorientation: maximimum misorientation between poles to bedding girdles to allow to be part of same supergroup. Defaults to 30.**"
      ],
      "text/plain": [
       "<IPython.core.display.Markdown object>"
      ]
     },
     "metadata": {},
     "output_type": "display_data"
    },
    {
     "data": {
      "application/vnd.jupyter.widget-view+json": {
       "model_id": "ea6a853dd2b5447485f2af659ca5f01a",
       "version_major": 2,
       "version_minor": 0
      },
      "text/plain": [
       "Text(value='30', description='misorientation')"
      ]
     },
     "metadata": {},
     "output_type": "display_data"
    },
    {
     "data": {
      "text/markdown": [
       "**interpolation_scheme: What interpolation function to use of scipy_rbf (radial basis) or scipy_idw (inverse distance weighted). Defaults to 'scipy_rbf'.**"
      ],
      "text/plain": [
       "<IPython.core.display.Markdown object>"
      ]
     },
     "metadata": {},
     "output_type": "display_data"
    },
    {
     "data": {
      "application/vnd.jupyter.widget-view+json": {
       "model_id": "4950849da34745e590be06eeb84c880a",
       "version_major": 2,
       "version_minor": 0
      },
      "text/plain": [
       "Text(value='scipy_rbf', description='interpolation_scheme')"
      ]
     },
     "metadata": {},
     "output_type": "display_data"
    },
    {
     "data": {
      "text/markdown": [
       "**fault_decimate: Save every nth fault data point. Defaults to 5.**"
      ],
      "text/plain": [
       "<IPython.core.display.Markdown object>"
      ]
     },
     "metadata": {},
     "output_type": "display_data"
    },
    {
     "data": {
      "application/vnd.jupyter.widget-view+json": {
       "model_id": "19e80ff6f42b434f8fb16dc75767f61b",
       "version_major": 2,
       "version_minor": 0
      },
      "text/plain": [
       "Text(value='5', description='fault_decimate')"
      ]
     },
     "metadata": {},
     "output_type": "display_data"
    },
    {
     "data": {
      "text/markdown": [
       "**min_fault_length: Min fault length to be considered. Defaults to 5000.**"
      ],
      "text/plain": [
       "<IPython.core.display.Markdown object>"
      ]
     },
     "metadata": {},
     "output_type": "display_data"
    },
    {
     "data": {
      "application/vnd.jupyter.widget-view+json": {
       "model_id": "87307252a5a64a9c913c1223a94cb317",
       "version_major": 2,
       "version_minor": 0
      },
      "text/plain": [
       "Text(value='5000', description='min_fault_length')"
      ]
     },
     "metadata": {},
     "output_type": "display_data"
    },
    {
     "data": {
      "text/markdown": [
       "**fault_dip: Defaults to 90.**"
      ],
      "text/plain": [
       "<IPython.core.display.Markdown object>"
      ]
     },
     "metadata": {},
     "output_type": "display_data"
    },
    {
     "data": {
      "application/vnd.jupyter.widget-view+json": {
       "model_id": "7fde150f56204a84bbf4bf266c8b3790",
       "version_major": 2,
       "version_minor": 0
      },
      "text/plain": [
       "Text(value='90', description='fault_dip')"
      ]
     },
     "metadata": {},
     "output_type": "display_data"
    },
    {
     "data": {
      "text/markdown": [
       "**pluton_dip: Dip of contacts. Defaults to 45.**"
      ],
      "text/plain": [
       "<IPython.core.display.Markdown object>"
      ]
     },
     "metadata": {},
     "output_type": "display_data"
    },
    {
     "data": {
      "application/vnd.jupyter.widget-view+json": {
       "model_id": "c53984f403724cfbb33965245db0a400",
       "version_major": 2,
       "version_minor": 0
      },
      "text/plain": [
       "Text(value='45', description='pluton_dip')"
      ]
     },
     "metadata": {},
     "output_type": "display_data"
    },
    {
     "data": {
      "text/markdown": [
       "**pluton_form: Possible forms from domes, saucers or pendant. Defaults to 'domes'.**"
      ],
      "text/plain": [
       "<IPython.core.display.Markdown object>"
      ]
     },
     "metadata": {},
     "output_type": "display_data"
    },
    {
     "data": {
      "application/vnd.jupyter.widget-view+json": {
       "model_id": "c0293cdd432f418a9082825ee2cc4fd0",
       "version_major": 2,
       "version_minor": 0
      },
      "text/plain": [
       "Text(value='domes', description='pluton_form')"
      ]
     },
     "metadata": {},
     "output_type": "display_data"
    },
    {
     "data": {
      "text/markdown": [
       "**dist_buffer: Buffer for processing plutons for faults that do not quite touch pluton. Defaults to 10.**"
      ],
      "text/plain": [
       "<IPython.core.display.Markdown object>"
      ]
     },
     "metadata": {},
     "output_type": "display_data"
    },
    {
     "data": {
      "application/vnd.jupyter.widget-view+json": {
       "model_id": "6428e36fdfaa49ed8d4dc374078178e7",
       "version_major": 2,
       "version_minor": 0
      },
      "text/plain": [
       "Text(value='10', description='dist_buffer')"
      ]
     },
     "metadata": {},
     "output_type": "display_data"
    },
    {
     "data": {
      "text/markdown": [
       "**contact_dip: Assign fixed dip to all contacts, -99 means interpolated local orientaiton field is used. Defaults to -999.**"
      ],
      "text/plain": [
       "<IPython.core.display.Markdown object>"
      ]
     },
     "metadata": {},
     "output_type": "display_data"
    },
    {
     "data": {
      "application/vnd.jupyter.widget-view+json": {
       "model_id": "208781e4053b41c5ab3b693f244a72fd",
       "version_major": 2,
       "version_minor": 0
      },
      "text/plain": [
       "Text(value='-999', description='contact_dip')"
      ]
     },
     "metadata": {},
     "output_type": "display_data"
    },
    {
     "data": {
      "text/markdown": [
       "**contact_orientation_decimate: Save every nth contact orientation point. Defaults to 5.**"
      ],
      "text/plain": [
       "<IPython.core.display.Markdown object>"
      ]
     },
     "metadata": {},
     "output_type": "display_data"
    },
    {
     "data": {
      "application/vnd.jupyter.widget-view+json": {
       "model_id": "058e62ef2a4a4d509c5437c245e43020",
       "version_major": 2,
       "version_minor": 0
      },
      "text/plain": [
       "Text(value='5', description='contact_orientation_decimate')"
      ]
     },
     "metadata": {},
     "output_type": "display_data"
    },
    {
     "data": {
      "text/markdown": [
       "**null_scheme: How null values present in the dtb. Defaults to 'null'.**"
      ],
      "text/plain": [
       "<IPython.core.display.Markdown object>"
      ]
     },
     "metadata": {},
     "output_type": "display_data"
    },
    {
     "data": {
      "application/vnd.jupyter.widget-view+json": {
       "model_id": "cad4575611d7416eac11637606b26486",
       "version_major": 2,
       "version_minor": 0
      },
      "text/plain": [
       "Text(value='null', description='null_scheme')"
      ]
     },
     "metadata": {},
     "output_type": "display_data"
    },
    {
     "data": {
      "text/markdown": [
       "**thickness_buffer: Maximum distance to search for next contact when calculating formation thickness. Defaults to 5000.**"
      ],
      "text/plain": [
       "<IPython.core.display.Markdown object>"
      ]
     },
     "metadata": {},
     "output_type": "display_data"
    },
    {
     "data": {
      "application/vnd.jupyter.widget-view+json": {
       "model_id": "ae6c098935494a138fb4e341aec1c74b",
       "version_major": 2,
       "version_minor": 0
      },
      "text/plain": [
       "Text(value='5000', description='thickness_buffer')"
      ]
     },
     "metadata": {},
     "output_type": "display_data"
    },
    {
     "data": {
      "text/markdown": [
       "**max_thickness_allowed: Maximum formation thickness allowed for calculation. Defaults to 10000.**"
      ],
      "text/plain": [
       "<IPython.core.display.Markdown object>"
      ]
     },
     "metadata": {},
     "output_type": "display_data"
    },
    {
     "data": {
      "application/vnd.jupyter.widget-view+json": {
       "model_id": "c8e1417b42bb4e5fad7e9fa0474bb05b",
       "version_major": 2,
       "version_minor": 0
      },
      "text/plain": [
       "Text(value='10000', description='max_thickness_allowed')"
      ]
     },
     "metadata": {},
     "output_type": "display_data"
    },
    {
     "data": {
      "text/markdown": [
       "**fold_decimate: Save every nth fold data point. Defaults to 5.**"
      ],
      "text/plain": [
       "<IPython.core.display.Markdown object>"
      ]
     },
     "metadata": {},
     "output_type": "display_data"
    },
    {
     "data": {
      "application/vnd.jupyter.widget-view+json": {
       "model_id": "57a93e33976a48bd9c0ae1691ee4214b",
       "version_major": 2,
       "version_minor": 0
      },
      "text/plain": [
       "Text(value='5', description='fold_decimate')"
      ]
     },
     "metadata": {},
     "output_type": "display_data"
    },
    {
     "data": {
      "text/markdown": [
       "**fat_step: How much to step out normal to the fold axial trace for limb orientations. Defaults to 750.**"
      ],
      "text/plain": [
       "<IPython.core.display.Markdown object>"
      ]
     },
     "metadata": {},
     "output_type": "display_data"
    },
    {
     "data": {
      "application/vnd.jupyter.widget-view+json": {
       "model_id": "488566d6e67846a8be4a4c54814154f2",
       "version_major": 2,
       "version_minor": 0
      },
      "text/plain": [
       "Text(value='750', description='fat_step')"
      ]
     },
     "metadata": {},
     "output_type": "display_data"
    },
    {
     "data": {
      "text/markdown": [
       "**close_dip: Dip to assign to all new orientations. Defaults to -999.**"
      ],
      "text/plain": [
       "<IPython.core.display.Markdown object>"
      ]
     },
     "metadata": {},
     "output_type": "display_data"
    },
    {
     "data": {
      "application/vnd.jupyter.widget-view+json": {
       "model_id": "273b545600844a3fa972b2c49b8f0bbf",
       "version_major": 2,
       "version_minor": 0
      },
      "text/plain": [
       "Text(value='-999', description='close_dip')"
      ]
     },
     "metadata": {},
     "output_type": "display_data"
    },
    {
     "data": {
      "text/markdown": [
       "**use_interpolations: Defaults to False.**"
      ],
      "text/plain": [
       "<IPython.core.display.Markdown object>"
      ]
     },
     "metadata": {},
     "output_type": "display_data"
    },
    {
     "data": {
      "application/vnd.jupyter.widget-view+json": {
       "model_id": "5a5f4ee555b04b0e9a29add57de26cb7",
       "version_major": 2,
       "version_minor": 0
      },
      "text/plain": [
       "Text(value='False', description='use_interpolations')"
      ]
     },
     "metadata": {},
     "output_type": "display_data"
    },
    {
     "data": {
      "text/markdown": [
       "**use_fat: Use fake limb orientation data around fold hinges Defaults to False.**"
      ],
      "text/plain": [
       "<IPython.core.display.Markdown object>"
      ]
     },
     "metadata": {},
     "output_type": "display_data"
    },
    {
     "data": {
      "application/vnd.jupyter.widget-view+json": {
       "model_id": "79588755e5194318be0b4fd790bb1a03",
       "version_major": 2,
       "version_minor": 0
      },
      "text/plain": [
       "Text(value='False', description='use_fat')"
      ]
     },
     "metadata": {},
     "output_type": "display_data"
    },
    {
     "data": {
      "text/markdown": [
       "**clut_path: User defined look up table for formation colours Default ''.**"
      ],
      "text/plain": [
       "<IPython.core.display.Markdown object>"
      ]
     },
     "metadata": {},
     "output_type": "display_data"
    },
    {
     "data": {
      "application/vnd.jupyter.widget-view+json": {
       "model_id": "f28672865a694e13a80cb325cc4fe061",
       "version_major": 2,
       "version_minor": 0
      },
      "text/plain": [
       "Text(value='', description='clut_path')"
      ]
     },
     "metadata": {},
     "output_type": "display_data"
    }
   ],
   "source": [
    "printmd('**aus: Indicates if area is in Australia for using ASUD. Defaults to True.**')\n",
    "\n",
    "aus_choice=widgets.Text(\n",
    "    options=cols,\n",
    "    value='True',\n",
    "    description='aus',\n",
    "    disabled=False\n",
    ")\n",
    "display(aus)\n",
    "\n",
    "printmd('**deposits: Mineral deposit names for focused topology extraction. Defaults to \"Fe,Cu,Au,NONE\".**')\n",
    "\n",
    "deposits_choice=widgets.Text(\n",
    "    options=cols,\n",
    "    value='\"Fe,Cu,Au,NONE\"',\n",
    "    description='deposits',\n",
    "    disabled=False\n",
    ")\n",
    "display(deposits)\n",
    "\n",
    "printmd('**dtb: Path to depth to basement grid. Defaults to ''.**')\n",
    "\n",
    "dtb_choice=widgets.Text(\n",
    "    options=cols,\n",
    "    value='',\n",
    "    description='dtb',\n",
    "    disabled=False\n",
    ")\n",
    "display(dtb)\n",
    "\n",
    "printmd('**orientation_decimate: Save every nth orientation data point. Defaults to 0.**')\n",
    "\n",
    "orientation_decimate_choice=widgets.Text(\n",
    "    options=cols,\n",
    "    value='0',\n",
    "    description='orientation_decimate',\n",
    "    disabled=False\n",
    ")\n",
    "display(orientation_decimate)\n",
    "\n",
    "printmd('**contact_decimate: Save every nth contact data point. Defaults to 5.**')\n",
    "\n",
    "contact_decimate_choice=widgets.Text(\n",
    "    options=cols,\n",
    "    value='5',\n",
    "    description='contact_decimate',\n",
    "    disabled=False\n",
    ")\n",
    "display(contact_decimate)\n",
    "\n",
    "printmd('**intrusion_mode: 1 to exclude all intrusions from basal contacts, 0 to only exclude sills. Defaults to 0.**')\n",
    "\n",
    "intrusion_mode_choice=widgets.Text(\n",
    "    options=cols,\n",
    "    value='0',\n",
    "    description='intrusion_mode',\n",
    "    disabled=False\n",
    ")\n",
    "display(intrusion_mode)\n",
    "\n",
    "printmd('**interpolation_spacing: Interpolation grid spacing in meters. Defaults to 500.**')\n",
    "interpolation_spacing_choice=widgets.Text(\n",
    "    options=cols,\n",
    "    value= '500',\n",
    "    description='interpolation_spacing',\n",
    "    disabled=False\n",
    ")\n",
    "display(interpolation_spacing)\n",
    "\n",
    "printmd('**misorientation: maximimum misorientation between poles to bedding girdles to allow to be part of same supergroup. Defaults to 30.**')\n",
    "\n",
    "misorientation_choice=widgets.Text(\n",
    "    options=cols,\n",
    "    value='30',\n",
    "    description='misorientation',\n",
    "    disabled=False\n",
    ")\n",
    "display(misorientation)\n",
    "\n",
    "printmd('**interpolation_scheme: What interpolation function to use of scipy_rbf (radial basis) or scipy_idw (inverse distance weighted). Defaults to \\'scipy_rbf\\'.**')\n",
    "\n",
    "interpolation_scheme_choice=widgets.Text(\n",
    "    options=cols,\n",
    "    value='scipy_rbf',\n",
    "    description='interpolation_scheme',\n",
    "    disabled=False\n",
    ")\n",
    "display(interpolation_scheme)\n",
    "\n",
    "printmd('**fault_decimate: Save every nth fault data point. Defaults to 5.**')\n",
    "\n",
    "fault_decimate_choice=widgets.Text(\n",
    "    options=cols,\n",
    "    value='5',\n",
    "    description='fault_decimate',\n",
    "    disabled=False\n",
    ")\n",
    "display(fault_decimate)\n",
    "\n",
    "printmd('**min_fault_length: Min fault length to be considered. Defaults to 5000.**')\n",
    "\n",
    "min_fault_length_choice=widgets.Text(\n",
    "    options=cols,\n",
    "    value='5000',\n",
    "    description='min_fault_length',\n",
    "    disabled=False\n",
    ")\n",
    "display(min_fault_length)\n",
    "\n",
    "printmd('**fault_dip: Defaults to 90.**')\n",
    "\n",
    "fault_dip_choice=widgets.Text(\n",
    "    options=cols,\n",
    "    value='90',\n",
    "    description='fault_dip',\n",
    "    disabled=False\n",
    ")\n",
    "display(fault_dip)\n",
    "\n",
    "printmd('**pluton_dip: Dip of contacts. Defaults to 45.**')\n",
    "\n",
    "pluton_dip_choice=widgets.Text(\n",
    "    options=cols,\n",
    "    value='45',\n",
    "    description='pluton_dip',\n",
    "    disabled=False\n",
    ")\n",
    "display(pluton_dip)\n",
    "\n",
    "printmd('**pluton_form: Possible forms from domes, saucers or pendant. Defaults to \\'domes\\'.**')\n",
    "\n",
    "pluton_form_choice=widgets.Text(\n",
    "    options=cols,\n",
    "    value='domes',\n",
    "    description='pluton_form',\n",
    "    disabled=False\n",
    ")\n",
    "display(pluton_form)\n",
    "\n",
    "printmd('**dist_buffer: Buffer for processing plutons for faults that do not quite touch pluton. Defaults to 10.**')\n",
    "\n",
    "dist_buffer_choice=widgets.Text(\n",
    "    options=cols,\n",
    "    value='10',\n",
    "    description='dist_buffer',\n",
    "    disabled=False\n",
    ")\n",
    "display(dist_buffer)\n",
    "\n",
    "printmd('**contact_dip: Assign fixed dip to all contacts, -99 means interpolated local orientaiton field is used. Defaults to -999.**')\n",
    "\n",
    "contact_dip_choice=widgets.Text(\n",
    "    options=cols,\n",
    "    value='-999',\n",
    "    description='contact_dip',\n",
    "    disabled=False\n",
    ")\n",
    "display(contact_dip)\n",
    "\n",
    "printmd('**contact_orientation_decimate: Save every nth contact orientation point. Defaults to 5.**')\n",
    "\n",
    "contact_orientation_decimate_choice=widgets.Text(\n",
    "    options=cols,\n",
    "    value='5',\n",
    "    description='contact_orientation_decimate',\n",
    "    disabled=False\n",
    ")\n",
    "display(contact_orientation_decimate)\n",
    "\n",
    "printmd('**null_scheme: How null values present in the dtb. Defaults to \\'null\\'.**')\n",
    "\n",
    "null_scheme_choice=widgets.Text(\n",
    "    options=cols,\n",
    "    value='null',\n",
    "    description='null_scheme',\n",
    "    disabled=False\n",
    ")\n",
    "display(null_scheme)\n",
    "\n",
    "printmd('**thickness_buffer: Maximum distance to search for next contact when calculating formation thickness. Defaults to 5000.**')\n",
    "\n",
    "thickness_buffer_choice=widgets.Text(\n",
    "    options=cols,\n",
    "    value='5000',\n",
    "    description='thickness_buffer',\n",
    "    disabled=False\n",
    ")\n",
    "display(thickness_buffer)\n",
    "\n",
    "printmd('**max_thickness_allowed: Maximum formation thickness allowed for calculation. Defaults to 10000.**')\n",
    "\n",
    "max_thickness_allowed_choice=widgets.Text(\n",
    "    options=cols,\n",
    "    value='10000',\n",
    "    description='max_thickness_allowed',\n",
    "    disabled=False\n",
    ")\n",
    "display(max_thickness_allowed)\n",
    "\n",
    "printmd('**fold_decimate: Save every nth fold data point. Defaults to 5.**')\n",
    "\n",
    "fold_decimate_choice=widgets.Text(\n",
    "    options=cols,\n",
    "    value='5',\n",
    "    description='fold_decimate',\n",
    "    disabled=False\n",
    ")\n",
    "display(fold_decimate)\n",
    "\n",
    "printmd('**fat_step: How much to step out normal to the fold axial trace for limb orientations. Defaults to 750.**')\n",
    "\n",
    "fat_step_choice=widgets.Text(\n",
    "    options=cols,\n",
    "    value='750',\n",
    "    description='fat_step',\n",
    "    disabled=False\n",
    ")\n",
    "display(fat_step)\n",
    "\n",
    "printmd('**close_dip: Dip to assign to all new orientations. Defaults to -999.**')\n",
    "\n",
    "close_dip_choice=widgets.Text(\n",
    "    options=cols,\n",
    "    value='-999',\n",
    "    description='close_dip',\n",
    "    disabled=False\n",
    ")\n",
    "display(close_dip)\n",
    "\n",
    "printmd('**use_interpolations: Defaults to False.**')\n",
    "\n",
    "use_interpolations_choice=widgets.Text(\n",
    "    options=cols,\n",
    "    value='False',\n",
    "    description='use_interpolations',\n",
    "    disabled=False\n",
    ")\n",
    "display(use_interpolations)\n",
    "\n",
    "printmd('**use_fat: Use fake limb orientation data around fold hinges Defaults to False.**')\n",
    "\n",
    "use_fat_choice=widgets.Text(\n",
    "    options=cols,\n",
    "    value='False',\n",
    "    description='use_fat',\n",
    "    disabled=False\n",
    ")\n",
    "display(use_fat)\n",
    "\n",
    "printmd('**clut_path: User defined look up table for formation colours Default \\'\\'.**')\n",
    "\n",
    "clut_path_choice=widgets.Text(\n",
    "    options=cols,\n",
    "    value='',\n",
    "    description='clut_path',\n",
    "    disabled=False\n",
    ")\n",
    "display(clut_path)\n",
    "\n",
    "\n",
    "\n"
   ]
  },
  {
   "cell_type": "code",
   "execution_count": 74,
   "metadata": {},
   "outputs": [],
   "source": [
    "aus=aus_choice.value\n",
    "deposits=deposits_choice.value\n",
    "dtb=dtb.value\n",
    "orientation_decimate=orientation_decimate.value\n",
    "contact_decimate=contact_decimate.value\n",
    "intrusion_mode=intrusion_mode.value\n",
    "interpolation_spacing=interpolation_spacing.value\n",
    "misorientation=misorientation.value\n",
    "interpolation_scheme=interpolation_scheme.value\n",
    "fault_decimate=fault_decimate.value\n",
    "min_fault_length=min_fault_length.value\n",
    "fault_dip=fault_dip.value\n",
    "pluton_dip=pluton_dip.value\n",
    "pluton_form=pluton_form.value\n",
    "dist_buffer=dist_buffer.value\n",
    "contact_dip=contact_dip.value\n",
    "contact_orientation_decimate=contact_orientation_decimate.value\n",
    "null_scheme=null_scheme.value\n",
    "thickness_buffer=thickness_buffer.value\n",
    "max_thickness_allowed=max_thickness_allowed.value\n",
    "fold_decimate=fold_decimate.value\n",
    "fat_step=fat_step.value\n",
    "close_dip=close_dip.value\n",
    "use_interpolations=use_interpolations.value\n",
    "use_fat=use_fat.value\n",
    "clut_path=clut_path.value\n"
   ]
  },
  {
   "cell_type": "code",
   "execution_count": 80,
   "metadata": {},
   "outputs": [],
   "source": [
    "f=open(test_data_name+'/run_m2l.py',\"w\")\n",
    "f.write(\"\\\n",
    "\\\n",
    "import os\\n\\\n",
    "from map2loop.project import Project\\n\\\n",
    "\\n\\\n",
    "proj = Project(\\n\\\n",
    "                  geology_file='\"+geology_file+\"',\\n\\\n",
    "                  fault_file='\"+fault_file+\"',\\n\\\n",
    "                  fold_file='\"+fold_file+\"',\\n\\\n",
    "                  structure_file='\"+structure_file+\"',\\n\\\n",
    "                  mindep_file='\"+mindep_file+\"',\\n\\\n",
    "                  metadata='./\"+test_data_name+\"_config.hjson'\\n\\\n",
    "                )\\n\\\n",
    "\\n\\\n",
    "proj.update_config(\\n\\\n",
    "                    out_dir='\"+test_data_name+\"',\\n\\\n",
    "                    overwrite='true',\\n\\\n",
    "                    bbox_3d={\\n\\\n",
    "                        'minx': \"+minx+\" ,\\n\\\n",
    "                        'miny': \"+miny+\" ,\\n\\\n",
    "                        'maxx': \"+maxx+\" ,\\n\\\n",
    "                        'maxy': \"+maxy+\" ,\\n\\\n",
    "                        'base': \"+minz+\",\\n\\\n",
    "                        'top':  \"+maxz+\",\\n\\\n",
    "                        'local' : True,\\n\\\n",
    "                        'aus': \"+aus+\",\\n\\\n",
    "                        'close_dip': \"+close_dip+\",\\n\\\n",
    "                        'contact_decimate': \"+contact_decimate+\",\\n\\\n",
    "                        'contact_dip': \"+contact_dip+\",\\n\\\n",
    "                        'contact_orientation_decimate': \"+contact_orientation_decimate+\",\\n\\\n",
    "                        'deposits': \"+deposits+\",\\n\\\n",
    "                        'dist_buffer': \"+dist_buffer+\",\\n\\\n",
    "                        'dtb': '\"+dtb+\"',\\n\\\n",
    "                        'fat_step': \"+fat_step+\",\\n\\\n",
    "                        'fault_decimate': \"+fault_decimate+\",\\n\\\n",
    "                        'fault_dip': \"+fault_dip+\",\\n\\\n",
    "                        'fold_decimate': \"+fold_decimate+\",\\n\\\n",
    "                        'interpolation_scheme': '\"+interpolation_scheme+\"',\\n\\\n",
    "                        'interpolation_spacing': \"+interpolation_spacing+\",\\n\\\n",
    "                        'intrusion_mode': \"+intrusion_mode+\",\\n\\\n",
    "                        'max_thickness_allowed': \"+max_thickness_allowed+\",\\n\\\n",
    "                        'min_fault_length': \"+min_fault_length+\",\\n\\\n",
    "                        'misorientation': \"+misorientation+\",\\n\\\n",
    "                        'null_scheme': '\"+null_scheme+\"',\\n\\\n",
    "                        'orientation_decimate': \"+orientation_decimate+\",\\n\\\n",
    "                        'pluton_dip': \"+pluton_dip+\",\\n\\\n",
    "                        'pluton_form': '\"+pluton_form+\"',\\n\\\n",
    "                        'thickness_buffer': \"+thickness_buffer+\",\\n\\\n",
    "                        'use_fat': \"+use_fat+\",\\n\\\n",
    "                        'use_interpolations': \"+use_interpolations+\",\\n\\\n",
    "                        'clut_path': '\"+clut_path+\"',\\n\\\n",
    "                     },\\n\\\n",
    "                    proj_crs={'init': '\"+dst_crs+\"'},\\n\\\n",
    "                    quiet=True\\n\\\n",
    "                  )\\n\\\n",
    "\\nproj.run()\\n\"   \n",
    "        \n",
    ")\n",
    "f.write(\"\\n\")\n",
    "f.close()"
   ]
  },
  {
   "cell_type": "code",
   "execution_count": 65,
   "metadata": {},
   "outputs": [
    {
     "data": {
      "application/vnd.jupyter.widget-view+json": {
       "model_id": "d22b0e8e582e4c28bfc6deb04c2edbbf",
       "version_major": 2,
       "version_minor": 0
      },
      "text/plain": [
       "Text(value='True', description='aus')"
      ]
     },
     "metadata": {},
     "output_type": "display_data"
    }
   ],
   "source": [
    "aus"
   ]
  },
  {
   "cell_type": "code",
   "execution_count": 66,
   "metadata": {},
   "outputs": [],
   "source": [
    "dst_crs='epsg:'+epsg_code[0]"
   ]
  },
  {
   "cell_type": "code",
   "execution_count": 67,
   "metadata": {},
   "outputs": [
    {
     "data": {
      "text/plain": [
       "'epsg:28351'"
      ]
     },
     "execution_count": 67,
     "metadata": {},
     "output_type": "execute_result"
    }
   ],
   "source": [
    "dst_crs"
   ]
  },
  {
   "cell_type": "code",
   "execution_count": null,
   "metadata": {},
   "outputs": [],
   "source": []
  }
 ],
 "metadata": {
  "kernelspec": {
   "display_name": "Python 3 (ipykernel)",
   "language": "python",
   "name": "python3"
  },
  "language_info": {
   "codemirror_mode": {
    "name": "ipython",
    "version": 3
   },
   "file_extension": ".py",
   "mimetype": "text/x-python",
   "name": "python",
   "nbconvert_exporter": "python",
   "pygments_lexer": "ipython3",
   "version": "3.7.10"
  }
 },
 "nbformat": 4,
 "nbformat_minor": 4
}
