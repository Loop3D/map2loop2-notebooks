{
 "cells": [
  {
   "cell_type": "markdown",
   "metadata": {},
   "source": [
    "### Config file generator\n",
    "This simple notebook provides a tool for generating map2loop config hjson files, one of the more annoying parts of the process.\n",
    "   \n",
    "1. It first gets the project name and destination projection system (as EPSG number)   \n",
    "   \n",
    "2. It then asks for the paths to the different shape files (for WFS you will have to edit this manually afterwards)   \n",
    "   \n",
    "3. Finally for each input file, you have to define which fields to use, and which keywords to look for in some of these fields   \n",
    "     \n",
    "4. Finally, make a copy of the <a href=\"Example 3 - Local Source Data.ipynb\" target=\"_blank\">Generic local file notebook</a> and on line 14 of the second cell change **metadata='path_to_your_new_hjson_file'**) \n"
   ]
  },
  {
   "cell_type": "code",
   "execution_count": 50,
   "metadata": {},
   "outputs": [],
   "source": [
    "#!conda install ipyfilechooser\n",
    "from ipyfilechooser import FileChooser\n",
    "import geopandas as gpd\n",
    "import ipywidgets as widgets\n",
    "import pandas as pd\n",
    "import os\n",
    "from IPython.display import Markdown, display\n",
    "\n",
    "def printmd(string):\n",
    "    display(Markdown(string))\n",
    "    \n",
    "pd.options.display.max_columns = None\n",
    "style = {'description_width': 'initial'}\n",
    "c_l= {\n",
    "#Orientations\n",
    "  \"d\": \"dip\",                  #field that contains dip information\n",
    "  \"dd\": \"azimuth\",             #field that contains dip direction information\n",
    "  \"sf\": 'codedescpt',             #field that contains information on type of structure\n",
    "  \"bedding\": 'bedding',            #text to search for in field defined by sf code to show that this is a bedding measurement\n",
    "  \"otype\": 'dip direction',            #flag to determine measurement convention (currently 'strike' or 'dip direction')\n",
    "  \"bo\": \"deform\",             #field that contains type of foliation\n",
    "  \"btype\": 'BEOI',            #text to search for in field defined by bo code to show that this is an overturned bedding measurement\n",
    "#stratigraphy\n",
    "  \"g\": 'sub_provin',               #field that contains coarser stratigraphic coding\n",
    "  \"g2\": 'province',              #field that contains alternate coarser stratigraphic coding if 'g' is blank\n",
    "  \"c\": 'unit_name',                 #field that contains finer stratigraphic coding\n",
    "  \"ds\": 'deposition',           #field that contains information about lithology\n",
    "  \"u\": 'nsw_code',             #field that contains alternate stratigraphic coding (not used??)\n",
    "  \"r1\": 'class',           #field that contains  extra lithology information\n",
    "  \"r2\": 'igneous_ty',           #field that contains even more lithology information\n",
    "  \"sill\": 'sill',              #text to search for in field defined by ds code to show that this is a sill\n",
    "  \"intrusive\": 'intrusive',    #text to search for in field defined by r1 code to show that this is an intrusion\n",
    "  \"volcanic\": 'volcanic',      #text to search for in field defined by ds code to show that this is an volcanic (not intrusion)\n",
    "#mineral deposits\n",
    "  \"msc\": 'SITE_CODE',          #field that contains site code of deposit\n",
    "  \"msn\": 'SHORT_NAME',         #field that contains short name of deposit\n",
    "  \"mst\": 'SITE_TYPE_',         #field that contains site type of deposit\n",
    "  \"mtc\": 'TARGET_COM',         #field that contains target commodity of deposit\n",
    "  \"mscm\": 'SITE_COMMO',        #field that contains site commodity of deposit\n",
    "  \"mcom\": 'COMMODITY_',        #field that contains commodity group of deposit\n",
    "  \"minf\": 'Infrastructure',    #text to search for in field defined by mst code that shows site to ignore\n",
    "#timing\n",
    "  \"min\": 'top_end_ag',         #field that contains minimum age of unit defined by ccode\n",
    "  \"max\": 'base_start',         #field that contains maximum age of unit defined by ccode\n",
    "#faults and folds\n",
    "  \"f\": 'boundaryty',              #field that contains information on type of structure\n",
    "  \"fault\": 'Fault',            #text to search for in field defined by f code to show that this is a fault\n",
    "  \"ff\": 'codedescpt',  # field that contains information on type of structure\n",
    "  \"fold\": 'cline',  #text to search for in field defined by ff code to show that this is a fold axial trace\n",
    "  \"fdip\": 'dip',               # field for numeric fault dip value\n",
    "  \"fdipnull\": '0',         # text to search for in field defined by fdip to show that this has no known dip\n",
    "  \"fdipdir\": 'faultdipdi',        # field for text fault dip direction value \n",
    "  \"fdipdir_flag\": 'alpha',        # flag for text fault dip direction type num e.g. 045 or alpha e.g. southeast    \n",
    "  \"fdipest\": 'faultdipan',        # field for text fault dip estimate value\n",
    "  \"fdipest_vals\": 'Moderate,Listric,Steep,Vertical',        # text to search for in field defined by fdipest to give fault dip estimate in increasing steepness\n",
    "  \"n\": 'name',                 #field that contains information on name of fault (not used??)\n",
    "  \"t\": 'codedescpt',                 #field that contains information on type of fold\n",
    "  \"syn\": 'Syncline',           #text to search for in field defined by t to show that this is a syncline\n",
    "#ids\n",
    "  \"o\": 'unique_id',             #field that contains unique id of geometry object\n",
    "  \"gi\": 'objectid',            #field that contains unique id of structure point\n",
    "  \"deposit_dist\":500           # dist between mindep and contact to be considered \"on contact\"\n",
    "}"
   ]
  },
  {
   "cell_type": "code",
   "execution_count": 2,
   "metadata": {},
   "outputs": [
    {
     "data": {
      "application/vnd.jupyter.widget-view+json": {
       "model_id": "de99ff1adc404524a7f4235e4ccf5b3f",
       "version_major": 2,
       "version_minor": 0
      },
      "text/plain": [
       "Text(value='Test', description='Project Name:', placeholder='Test', style=DescriptionStyle(description_width='…"
      ]
     },
     "metadata": {},
     "output_type": "display_data"
    },
    {
     "data": {
      "application/vnd.jupyter.widget-view+json": {
       "model_id": "ca207231ed3949e1a36d5bf7bedddaa2",
       "version_major": 2,
       "version_minor": 0
      },
      "text/plain": [
       "Dropdown(description='CRS EPSG:', options=('28348: GDA94 // MGA zone 48', '28349: GDA94 // MGA zone 49', '2835…"
      ]
     },
     "metadata": {},
     "output_type": "display_data"
    }
   ],
   "source": [
    "test_data_name_choice=widgets.Text(\n",
    "    placeholder='Test',\n",
    "    value='Test',\n",
    "    description='Project Name:',\n",
    "    disabled=False,\n",
    "    style=style,\n",
    "    tooltip='Name of directory to hold config file (relative path)'\n",
    ")\n",
    "display(test_data_name_choice)\n",
    "\n",
    "epsg=pd.read_csv('source_data/epsg.csv')\n",
    "\n",
    "crs_choice=widgets.Dropdown(\n",
    "    options=epsg['epsg'],\n",
    "    description='CRS EPSG:',\n",
    "    disabled=False\n",
    ")\n",
    "display(crs_choice)\n"
   ]
  },
  {
   "cell_type": "code",
   "execution_count": 52,
   "metadata": {},
   "outputs": [
    {
     "data": {
      "text/markdown": [
       "**outtest2, epsg:27700**"
      ],
      "text/plain": [
       "<IPython.core.display.Markdown object>"
      ]
     },
     "metadata": {},
     "output_type": "display_data"
    }
   ],
   "source": [
    "test_data_name=test_data_name_choice.value\n",
    "epsg_code=crs_choice.value.split(\":\")\n",
    "dst_crs='epsg:'+epsg_code[0]\n",
    "printmd('**'+test_data_name+\", \"+dst_crs+'**')"
   ]
  },
  {
   "cell_type": "code",
   "execution_count": 53,
   "metadata": {},
   "outputs": [
    {
     "data": {
      "application/vnd.jupyter.widget-view+json": {
       "model_id": "d7ce89b3950243fc9fe015b57c225ae3",
       "version_major": 2,
       "version_minor": 0
      },
      "text/plain": [
       "Text(value='0', description='min x:', placeholder='0', style=DescriptionStyle(description_width='initial'))"
      ]
     },
     "metadata": {},
     "output_type": "display_data"
    },
    {
     "data": {
      "application/vnd.jupyter.widget-view+json": {
       "model_id": "07b83e59e8e74bf698053c20c671d20e",
       "version_major": 2,
       "version_minor": 0
      },
      "text/plain": [
       "Text(value='1', description='max x:', placeholder='1', style=DescriptionStyle(description_width='initial'))"
      ]
     },
     "metadata": {},
     "output_type": "display_data"
    },
    {
     "data": {
      "application/vnd.jupyter.widget-view+json": {
       "model_id": "7a167b5ee31d4c4f8ff07f7b3b2d0f50",
       "version_major": 2,
       "version_minor": 0
      },
      "text/plain": [
       "Text(value='0', description='min y:', placeholder='0', style=DescriptionStyle(description_width='initial'))"
      ]
     },
     "metadata": {},
     "output_type": "display_data"
    },
    {
     "data": {
      "application/vnd.jupyter.widget-view+json": {
       "model_id": "273fead728d54e89b54c87e90e33a412",
       "version_major": 2,
       "version_minor": 0
      },
      "text/plain": [
       "Text(value='1', description='max y:', placeholder='1', style=DescriptionStyle(description_width='initial'))"
      ]
     },
     "metadata": {},
     "output_type": "display_data"
    },
    {
     "data": {
      "application/vnd.jupyter.widget-view+json": {
       "model_id": "06b86c4c38884047800fcc0ba78f6b80",
       "version_major": 2,
       "version_minor": 0
      },
      "text/plain": [
       "Text(value='0', description='min z:', placeholder='0', style=DescriptionStyle(description_width='initial'))"
      ]
     },
     "metadata": {},
     "output_type": "display_data"
    },
    {
     "data": {
      "application/vnd.jupyter.widget-view+json": {
       "model_id": "e9f0357fbbb94f7499332017f3681594",
       "version_major": 2,
       "version_minor": 0
      },
      "text/plain": [
       "Text(value='1', description='max z:', placeholder='1', style=DescriptionStyle(description_width='initial'))"
      ]
     },
     "metadata": {},
     "output_type": "display_data"
    }
   ],
   "source": [
    "minx_choice=widgets.Text(\n",
    "    placeholder='0',\n",
    "    value='0',\n",
    "    description='min x:',\n",
    "    disabled=False,\n",
    "    style=style\n",
    ")\n",
    "display(minx_choice)\n",
    "\n",
    "maxx_choice=widgets.Text(\n",
    "    placeholder='1',\n",
    "    value='1',\n",
    "    description='max x:',\n",
    "    disabled=False,\n",
    "    style=style\n",
    ")\n",
    "display(maxx_choice)\n",
    "\n",
    "miny_choice=widgets.Text(\n",
    "    placeholder='0',\n",
    "    value='0',\n",
    "    description='min y:',\n",
    "    disabled=False,\n",
    "    style=style\n",
    ")\n",
    "display(miny_choice)\n",
    "\n",
    "maxy_choice=widgets.Text(\n",
    "    placeholder='1',\n",
    "    value='1',\n",
    "    description='max y:',\n",
    "    disabled=False,\n",
    "    style=style\n",
    ")\n",
    "display(maxy_choice)\n",
    "\n",
    "minz_choice=widgets.Text(\n",
    "    placeholder='0',\n",
    "    value='0',\n",
    "    description='min z:',\n",
    "    disabled=False,\n",
    "    style=style\n",
    ")\n",
    "display(minz_choice)\n",
    "\n",
    "maxz_choice=widgets.Text(\n",
    "    placeholder='1',\n",
    "    value='1',\n",
    "    description='max z:',\n",
    "    disabled=False,\n",
    "    style=style\n",
    ")\n",
    "display(maxz_choice)\n"
   ]
  },
  {
   "cell_type": "code",
   "execution_count": 54,
   "metadata": {
    "scrolled": false
   },
   "outputs": [
    {
     "data": {
      "application/vnd.jupyter.widget-view+json": {
       "model_id": "f99e9b2453084735ad4252b619b1ba4a",
       "version_major": 2,
       "version_minor": 0
      },
      "text/plain": [
       "FileChooser(path='../', filename='', title='HTML(value='<b>Choose Bedding Orientation point file</b>')', show_…"
      ]
     },
     "metadata": {},
     "output_type": "display_data"
    },
    {
     "data": {
      "application/vnd.jupyter.widget-view+json": {
       "model_id": "1ff04f8f53b440d3aa8c4489dea86a51",
       "version_major": 2,
       "version_minor": 0
      },
      "text/plain": [
       "FileChooser(path='../', filename='', title='HTML(value='<b>Choose Fault polyline file</b>')', show_hidden='Fal…"
      ]
     },
     "metadata": {},
     "output_type": "display_data"
    },
    {
     "data": {
      "application/vnd.jupyter.widget-view+json": {
       "model_id": "e4e92a9a85154aa294a35b2858649f6b",
       "version_major": 2,
       "version_minor": 0
      },
      "text/plain": [
       "FileChooser(path='../', filename='', title='HTML(value='<b>Choose Fold polyline file</b>')', show_hidden='Fals…"
      ]
     },
     "metadata": {},
     "output_type": "display_data"
    },
    {
     "data": {
      "application/vnd.jupyter.widget-view+json": {
       "model_id": "e125e7d25397422d9e5f8956ea3cfda6",
       "version_major": 2,
       "version_minor": 0
      },
      "text/plain": [
       "FileChooser(path='../', filename='', title='HTML(value='<b>Choose Geology polygon file</b>')', show_hidden='Fa…"
      ]
     },
     "metadata": {},
     "output_type": "display_data"
    },
    {
     "data": {
      "application/vnd.jupyter.widget-view+json": {
       "model_id": "9a6173c0f6994509b232e2effc9ddfcd",
       "version_major": 2,
       "version_minor": 0
      },
      "text/plain": [
       "FileChooser(path='../', filename='null_mindeps.shp', title='HTML(value='<b>Choose Mineral Deposit point file (…"
      ]
     },
     "metadata": {},
     "output_type": "display_data"
    }
   ],
   "source": [
    "minx=minx_choice.value\n",
    "maxx=maxx_choice.value\n",
    "miny=miny_choice.value\n",
    "maxy=maxy_choice.value\n",
    "minz=minz_choice.value\n",
    "maxz=maxz_choice.value\n",
    "\n",
    "\n",
    "structure_file_m = FileChooser('../')\n",
    "structure_file_m.title = '<b>Choose Bedding Orientation point file</b>'\n",
    "display(structure_file_m)\n",
    "\n",
    "fault_file_m = FileChooser('../')\n",
    "fault_file_m.title = '<b>Choose Fault polyline file</b>'\n",
    "display(fault_file_m)\n",
    "\n",
    "fold_file_m = FileChooser('../')\n",
    "fold_file_m.title = '<b>Choose Fold polyline file</b>'\n",
    "display(fold_file_m)\n",
    "\n",
    "geology_file_m = FileChooser('../')\n",
    "geology_file_m.title = '<b>Choose Geology polygon file</b>'\n",
    "display(geology_file_m)\n",
    "\n",
    "mindep_file_m = FileChooser('../')\n",
    "mindep_file_m.title = '<b>Choose Mineral Deposit point file (or use null_mindeps.shp from source_data directory)</b>'\n",
    "#mindep_file_m.default_path = '../source_data/'\n",
    "mindep_file_m.default_filename = 'null_mindeps.shp'\n",
    "display(mindep_file_m)\n",
    "\n"
   ]
  },
  {
   "cell_type": "code",
   "execution_count": 55,
   "metadata": {},
   "outputs": [
    {
     "data": {
      "text/plain": [
       "'C:/Users/00073294/Dropbox/1_Jupyter_notebooks/Peak_District/Peak_District_Strike_dip.shp'"
      ]
     },
     "metadata": {},
     "output_type": "display_data"
    },
    {
     "data": {
      "text/plain": [
       "'C:/Users/00073294/Dropbox/1_Jupyter_notebooks/Peak_District/Peak_District_Faults.shp'"
      ]
     },
     "metadata": {},
     "output_type": "display_data"
    },
    {
     "data": {
      "text/plain": [
       "'C:/Users/00073294/Dropbox/1_Jupyter_notebooks/Peak_District/Peak_District_Faults.shp'"
      ]
     },
     "metadata": {},
     "output_type": "display_data"
    },
    {
     "data": {
      "text/plain": [
       "'C:/Users/00073294/Dropbox/1_Jupyter_notebooks/Peak_District/Peak_District_Bedrock.shp'"
      ]
     },
     "metadata": {},
     "output_type": "display_data"
    },
    {
     "data": {
      "text/plain": [
       "'C:/Users/00073294/Dropbox/1_Jupyter_notebooks/Peak_District/null_mindeps.shp'"
      ]
     },
     "metadata": {},
     "output_type": "display_data"
    }
   ],
   "source": [
    "if(str(structure_file_m.selected_path) =='None'):\n",
    "    structure_file=''\n",
    "else:\n",
    "    structure_file=structure_file_m.selected_path.replace('\\\\','/')+'/'+structure_file_m.selected_filename\n",
    "if(str(fault_file_m.selected_path) =='None'):\n",
    "    fault_file=''\n",
    "else:\n",
    "    fault_file=fault_file_m.selected_path.replace('\\\\','/')+'/'+fault_file_m.selected_filename\n",
    "if(str(fold_file_m.selected_path) =='None'):\n",
    "    fold_file=''\n",
    "else:\n",
    "    fold_file=fold_file_m.selected_path.replace('\\\\','/')+'/'+fold_file_m.selected_filename\n",
    "if(str(geology_file_m.selected_path) =='None'):\n",
    "    geology_file=''\n",
    "else:\n",
    "    geology_file=geology_file_m.selected_path.replace('\\\\','/')+'/'+geology_file_m.selected_filename\n",
    "if(str(mindep_file_m.selected_path) =='None'):\n",
    "    mindep_file=''\n",
    "else:\n",
    "    mindep_file=mindep_file_m.selected_path.replace('\\\\','/')+'/'+mindep_file_m.selected_filename\n",
    "\n",
    "display(structure_file,fault_file,fold_file,geology_file,mindep_file)"
   ]
  },
  {
   "cell_type": "code",
   "execution_count": 56,
   "metadata": {},
   "outputs": [
    {
     "data": {
      "text/html": [
       "<div>\n",
       "<style scoped>\n",
       "    .dataframe tbody tr th:only-of-type {\n",
       "        vertical-align: middle;\n",
       "    }\n",
       "\n",
       "    .dataframe tbody tr th {\n",
       "        vertical-align: top;\n",
       "    }\n",
       "\n",
       "    .dataframe thead th {\n",
       "        text-align: right;\n",
       "    }\n",
       "</style>\n",
       "<table border=\"1\" class=\"dataframe\">\n",
       "  <thead>\n",
       "    <tr style=\"text-align: right;\">\n",
       "      <th></th>\n",
       "      <th>OBJECTID</th>\n",
       "      <th>AZIMUTH</th>\n",
       "      <th>DIP</th>\n",
       "      <th>X</th>\n",
       "      <th>Y</th>\n",
       "      <th>FEATURE</th>\n",
       "      <th>MINERAL</th>\n",
       "      <th>SYMBOL</th>\n",
       "      <th>NEWBGSVS2</th>\n",
       "      <th>geometry</th>\n",
       "    </tr>\n",
       "  </thead>\n",
       "  <tbody>\n",
       "    <tr>\n",
       "      <th>0</th>\n",
       "      <td>18906</td>\n",
       "      <td>0.0</td>\n",
       "      <td>0</td>\n",
       "      <td>401553.0</td>\n",
       "      <td>374480.0</td>\n",
       "      <td>Strata_Horizontal</td>\n",
       "      <td>No Mineral</td>\n",
       "      <td>S_HS</td>\n",
       "      <td>Horizontal strata</td>\n",
       "      <td>POINT Z (401553.000 374480.000 0.000)</td>\n",
       "    </tr>\n",
       "    <tr>\n",
       "      <th>1</th>\n",
       "      <td>18907</td>\n",
       "      <td>0.0</td>\n",
       "      <td>0</td>\n",
       "      <td>401879.0</td>\n",
       "      <td>372018.0</td>\n",
       "      <td>Strata_Horizontal</td>\n",
       "      <td>No Mineral</td>\n",
       "      <td>S_HS</td>\n",
       "      <td>Horizontal strata</td>\n",
       "      <td>POINT Z (401879.000 372018.000 0.000)</td>\n",
       "    </tr>\n",
       "    <tr>\n",
       "      <th>2</th>\n",
       "      <td>18908</td>\n",
       "      <td>0.0</td>\n",
       "      <td>0</td>\n",
       "      <td>404052.0</td>\n",
       "      <td>373527.0</td>\n",
       "      <td>Strata_Horizontal</td>\n",
       "      <td>No Mineral</td>\n",
       "      <td>S_HS</td>\n",
       "      <td>Horizontal strata</td>\n",
       "      <td>POINT Z (404052.000 373527.000 0.000)</td>\n",
       "    </tr>\n",
       "    <tr>\n",
       "      <th>3</th>\n",
       "      <td>18910</td>\n",
       "      <td>0.0</td>\n",
       "      <td>0</td>\n",
       "      <td>401567.0</td>\n",
       "      <td>372615.0</td>\n",
       "      <td>Strata_Horizontal</td>\n",
       "      <td>No Mineral</td>\n",
       "      <td>S_HS</td>\n",
       "      <td>Horizontal strata</td>\n",
       "      <td>POINT Z (401567.000 372615.000 0.000)</td>\n",
       "    </tr>\n",
       "    <tr>\n",
       "      <th>4</th>\n",
       "      <td>18911</td>\n",
       "      <td>0.0</td>\n",
       "      <td>0</td>\n",
       "      <td>408178.0</td>\n",
       "      <td>367292.0</td>\n",
       "      <td>Strata_Horizontal</td>\n",
       "      <td>No Mineral</td>\n",
       "      <td>S_HS</td>\n",
       "      <td>Horizontal strata</td>\n",
       "      <td>POINT Z (408178.000 367292.000 0.000)</td>\n",
       "    </tr>\n",
       "  </tbody>\n",
       "</table>\n",
       "</div>"
      ],
      "text/plain": [
       "   OBJECTID  AZIMUTH  DIP         X         Y            FEATURE     MINERAL  \\\n",
       "0     18906      0.0    0  401553.0  374480.0  Strata_Horizontal  No Mineral   \n",
       "1     18907      0.0    0  401879.0  372018.0  Strata_Horizontal  No Mineral   \n",
       "2     18908      0.0    0  404052.0  373527.0  Strata_Horizontal  No Mineral   \n",
       "3     18910      0.0    0  401567.0  372615.0  Strata_Horizontal  No Mineral   \n",
       "4     18911      0.0    0  408178.0  367292.0  Strata_Horizontal  No Mineral   \n",
       "\n",
       "  SYMBOL          NEWBGSVS2                               geometry  \n",
       "0   S_HS  Horizontal strata  POINT Z (401553.000 374480.000 0.000)  \n",
       "1   S_HS  Horizontal strata  POINT Z (401879.000 372018.000 0.000)  \n",
       "2   S_HS  Horizontal strata  POINT Z (404052.000 373527.000 0.000)  \n",
       "3   S_HS  Horizontal strata  POINT Z (401567.000 372615.000 0.000)  \n",
       "4   S_HS  Horizontal strata  POINT Z (408178.000 367292.000 0.000)  "
      ]
     },
     "metadata": {},
     "output_type": "display_data"
    },
    {
     "data": {
      "text/markdown": [
       "**Based on file: C:/Users/00073294/Dropbox/1_Jupyter_notebooks/Peak_District/Peak_District_Strike_dip.shp**"
      ],
      "text/plain": [
       "<IPython.core.display.Markdown object>"
      ]
     },
     "metadata": {},
     "output_type": "display_data"
    },
    {
     "data": {
      "text/markdown": [
       "\n",
       "**Field that contains unique id of structure point**"
      ],
      "text/plain": [
       "<IPython.core.display.Markdown object>"
      ]
     },
     "metadata": {},
     "output_type": "display_data"
    },
    {
     "data": {
      "application/vnd.jupyter.widget-view+json": {
       "model_id": "30fef5be26384946bd91808a70a2ab0c",
       "version_major": 2,
       "version_minor": 0
      },
      "text/plain": [
       "Dropdown(description='Unique ID', options=('No_col', 'OBJECTID', 'AZIMUTH', 'DIP', 'X', 'Y', 'FEATURE', 'MINER…"
      ]
     },
     "metadata": {},
     "output_type": "display_data"
    },
    {
     "data": {
      "text/markdown": [
       "**Field that contains information on type of structure (e.g. bedding, cleavage etc.)**"
      ],
      "text/plain": [
       "<IPython.core.display.Markdown object>"
      ]
     },
     "metadata": {},
     "output_type": "display_data"
    },
    {
     "data": {
      "application/vnd.jupyter.widget-view+json": {
       "model_id": "6b2b7cb697cd420bb6ad47e9ccc55c88",
       "version_major": 2,
       "version_minor": 0
      },
      "text/plain": [
       "Dropdown(description='Structure', options=('No_col', 'OBJECTID', 'AZIMUTH', 'DIP', 'X', 'Y', 'FEATURE', 'MINER…"
      ]
     },
     "metadata": {},
     "output_type": "display_data"
    },
    {
     "data": {
      "text/markdown": [
       "**Text to search for in field defined by type of structure code to show that this is a bedding measurement**"
      ],
      "text/plain": [
       "<IPython.core.display.Markdown object>"
      ]
     },
     "metadata": {},
     "output_type": "display_data"
    },
    {
     "data": {
      "application/vnd.jupyter.widget-view+json": {
       "model_id": "99cf9d338a3145259d9c460bb9c25798",
       "version_major": 2,
       "version_minor": 0
      },
      "text/plain": [
       "Text(value='Bed', description='Bedding text', placeholder='Bed')"
      ]
     },
     "metadata": {},
     "output_type": "display_data"
    },
    {
     "data": {
      "text/markdown": [
       "**Field that contains dip information**"
      ],
      "text/plain": [
       "<IPython.core.display.Markdown object>"
      ]
     },
     "metadata": {},
     "output_type": "display_data"
    },
    {
     "data": {
      "application/vnd.jupyter.widget-view+json": {
       "model_id": "dbfc3f52a7224b6fa4e9811723a4768f",
       "version_major": 2,
       "version_minor": 0
      },
      "text/plain": [
       "Dropdown(description='Dip', options=('No_col', 'OBJECTID', 'AZIMUTH', 'DIP', 'X', 'Y', 'FEATURE', 'MINERAL', '…"
      ]
     },
     "metadata": {},
     "output_type": "display_data"
    },
    {
     "data": {
      "text/markdown": [
       "**Field that contains dip direction or strike information**"
      ],
      "text/plain": [
       "<IPython.core.display.Markdown object>"
      ]
     },
     "metadata": {},
     "output_type": "display_data"
    },
    {
     "data": {
      "application/vnd.jupyter.widget-view+json": {
       "model_id": "2b0dcfbd8b6240eb9c82521fd0ee8827",
       "version_major": 2,
       "version_minor": 0
      },
      "text/plain": [
       "Dropdown(description='Dip Direction', options=('No_col', 'OBJECTID', 'AZIMUTH', 'DIP', 'X', 'Y', 'FEATURE', 'M…"
      ]
     },
     "metadata": {},
     "output_type": "display_data"
    },
    {
     "data": {
      "text/markdown": [
       "**Flag to determine measurement convention**"
      ],
      "text/plain": [
       "<IPython.core.display.Markdown object>"
      ]
     },
     "metadata": {},
     "output_type": "display_data"
    },
    {
     "data": {
      "application/vnd.jupyter.widget-view+json": {
       "model_id": "4b7dd5ceef63457c802fb382b4200494",
       "version_major": 2,
       "version_minor": 0
      },
      "text/plain": [
       "Dropdown(description='Convention', options=('dip direction', 'strike'), value='dip direction')"
      ]
     },
     "metadata": {},
     "output_type": "display_data"
    },
    {
     "data": {
      "text/markdown": [
       "**Field that contains polarity of foliation (upward facing or not)**"
      ],
      "text/plain": [
       "<IPython.core.display.Markdown object>"
      ]
     },
     "metadata": {},
     "output_type": "display_data"
    },
    {
     "data": {
      "application/vnd.jupyter.widget-view+json": {
       "model_id": "d770695ac3ab47b799610612b9b3d0c8",
       "version_major": 2,
       "version_minor": 0
      },
      "text/plain": [
       "Dropdown(description='Polarity', options=('No_col', 'OBJECTID', 'AZIMUTH', 'DIP', 'X', 'Y', 'FEATURE', 'MINERA…"
      ]
     },
     "metadata": {},
     "output_type": "display_data"
    },
    {
     "data": {
      "text/markdown": [
       "**Text to search for in field defined by Polarity code to show that this is an overturned bedding measurement**"
      ],
      "text/plain": [
       "<IPython.core.display.Markdown object>"
      ]
     },
     "metadata": {},
     "output_type": "display_data"
    },
    {
     "data": {
      "application/vnd.jupyter.widget-view+json": {
       "model_id": "b431986306074f86aaab0bf1839fb563",
       "version_major": 2,
       "version_minor": 0
      },
      "text/plain": [
       "Text(value='Blah', description='Pol. text', placeholder='Blah')"
      ]
     },
     "metadata": {},
     "output_type": "display_data"
    }
   ],
   "source": [
    "if(not structure_file==''):\n",
    "    structure=gpd.read_file(structure_file)\n",
    "    display(structure.head())\n",
    "    \n",
    "    cols=['No_col']\n",
    "    for sc in structure.columns:\n",
    "        cols.append(sc)\n",
    "        \n",
    "    printmd('**Based on file: '+structure_file+'**')\n",
    "    printmd('\\n**Field that contains unique id of structure point**')\n",
    "    gi_choice=widgets.Dropdown(\n",
    "        options=cols,\n",
    "        description='Unique ID',\n",
    "        disabled=False\n",
    "\n",
    "    )\n",
    "    display(gi_choice)\n",
    "\n",
    "    printmd('**Field that contains information on type of structure (e.g. bedding, cleavage etc.)**')\n",
    "\n",
    "    sf_choice=widgets.Dropdown(\n",
    "        options=cols,\n",
    "        description='Structure',\n",
    "        disabled=False\n",
    "    )\n",
    "    display(sf_choice)\n",
    "\n",
    "    printmd('**Text to search for in field defined by type of structure code to show that this is a bedding measurement**')\n",
    "\n",
    "    bedding_choice=widgets.Text(\n",
    "        placeholder='Bed',\n",
    "        value='Bed',\n",
    "        description='Bedding text',\n",
    "        disabled=False\n",
    "    )\n",
    "    display(bedding_choice)\n",
    "\n",
    "    printmd('**Field that contains dip information**')\n",
    "\n",
    "    d_choice=widgets.Dropdown(\n",
    "        options=cols,\n",
    "        description='Dip',\n",
    "        disabled=False\n",
    "    )\n",
    "    display(d_choice)\n",
    "\n",
    "    printmd('**Field that contains dip direction or strike information**')\n",
    "\n",
    "    dd_choice=widgets.Dropdown(\n",
    "        options=cols,\n",
    "        description='Dip Direction',\n",
    "        disabled=False\n",
    "    )\n",
    "    display(dd_choice)\n",
    "\n",
    "    printmd('**Flag to determine measurement convention**')\n",
    "\n",
    "    otype_choice=widgets.Dropdown(\n",
    "        options=('dip direction','strike'),\n",
    "        description='Convention',\n",
    "        disabled=False\n",
    "    )\n",
    "    display(otype_choice)\n",
    "\n",
    "    printmd('**Field that contains polarity of foliation (upward facing or not)**')\n",
    "\n",
    "    bo_choice=widgets.Dropdown(\n",
    "        options=cols,\n",
    "        description='Polarity',\n",
    "        disabled=False\n",
    "    )\n",
    "    display(bo_choice)\n",
    "\n",
    "    printmd('**Text to search for in field defined by Polarity code to show that this is an overturned bedding measurement**')\n",
    "\n",
    "    btype_choice=widgets.Text(\n",
    "        placeholder='Blah',\n",
    "        value='Blah',\n",
    "        description='Pol. text',\n",
    "        disabled=False\n",
    "    )\n",
    "    display(btype_choice)\n",
    "\n"
   ]
  },
  {
   "cell_type": "code",
   "execution_count": 57,
   "metadata": {},
   "outputs": [
    {
     "data": {
      "text/html": [
       "<div>\n",
       "<style scoped>\n",
       "    .dataframe tbody tr th:only-of-type {\n",
       "        vertical-align: middle;\n",
       "    }\n",
       "\n",
       "    .dataframe tbody tr th {\n",
       "        vertical-align: top;\n",
       "    }\n",
       "\n",
       "    .dataframe thead th {\n",
       "        text-align: right;\n",
       "    }\n",
       "</style>\n",
       "<table border=\"1\" class=\"dataframe\">\n",
       "  <thead>\n",
       "    <tr style=\"text-align: right;\">\n",
       "      <th></th>\n",
       "      <th>CATEGORY</th>\n",
       "      <th>FEATURE</th>\n",
       "      <th>FEATURE_D</th>\n",
       "      <th>HWALL_ROSE</th>\n",
       "      <th>geometry</th>\n",
       "    </tr>\n",
       "  </thead>\n",
       "  <tbody>\n",
       "    <tr>\n",
       "      <th>0</th>\n",
       "      <td>FAULT</td>\n",
       "      <td>Fault_Inf_HW</td>\n",
       "      <td>Fault, inferred</td>\n",
       "      <td>NORTH_EAST</td>\n",
       "      <td>LINESTRING (415372.000 355736.000, 415462.000 ...</td>\n",
       "    </tr>\n",
       "    <tr>\n",
       "      <th>1</th>\n",
       "      <td>FAULT</td>\n",
       "      <td>Fault_Inf_HW</td>\n",
       "      <td>Fault, inferred</td>\n",
       "      <td>NORTH</td>\n",
       "      <td>LINESTRING (419427.000 359339.000, 419546.000 ...</td>\n",
       "    </tr>\n",
       "    <tr>\n",
       "      <th>2</th>\n",
       "      <td>FAULT</td>\n",
       "      <td>Fault_Inf_HW</td>\n",
       "      <td>Fault, inferred</td>\n",
       "      <td>NORTH_WEST</td>\n",
       "      <td>LINESTRING (421657.000 359077.000, 421802.000 ...</td>\n",
       "    </tr>\n",
       "    <tr>\n",
       "      <th>3</th>\n",
       "      <td>FAULT</td>\n",
       "      <td>Fault_Inf_HW</td>\n",
       "      <td>Fault, inferred</td>\n",
       "      <td>NORTH</td>\n",
       "      <td>LINESTRING (422552.000 370743.000, 422671.000 ...</td>\n",
       "    </tr>\n",
       "    <tr>\n",
       "      <th>4</th>\n",
       "      <td>FAULT</td>\n",
       "      <td>Fault_Inf_HW</td>\n",
       "      <td>Fault, inferred</td>\n",
       "      <td>EAST</td>\n",
       "      <td>LINESTRING (409016.000 364784.000, 409039.000 ...</td>\n",
       "    </tr>\n",
       "  </tbody>\n",
       "</table>\n",
       "</div>"
      ],
      "text/plain": [
       "  CATEGORY       FEATURE        FEATURE_D  HWALL_ROSE  \\\n",
       "0    FAULT  Fault_Inf_HW  Fault, inferred  NORTH_EAST   \n",
       "1    FAULT  Fault_Inf_HW  Fault, inferred       NORTH   \n",
       "2    FAULT  Fault_Inf_HW  Fault, inferred  NORTH_WEST   \n",
       "3    FAULT  Fault_Inf_HW  Fault, inferred       NORTH   \n",
       "4    FAULT  Fault_Inf_HW  Fault, inferred        EAST   \n",
       "\n",
       "                                            geometry  \n",
       "0  LINESTRING (415372.000 355736.000, 415462.000 ...  \n",
       "1  LINESTRING (419427.000 359339.000, 419546.000 ...  \n",
       "2  LINESTRING (421657.000 359077.000, 421802.000 ...  \n",
       "3  LINESTRING (422552.000 370743.000, 422671.000 ...  \n",
       "4  LINESTRING (409016.000 364784.000, 409039.000 ...  "
      ]
     },
     "metadata": {},
     "output_type": "display_data"
    },
    {
     "data": {
      "text/markdown": [
       "**Based on file: C:/Users/00073294/Dropbox/1_Jupyter_notebooks/Peak_District/Peak_District_Faults.shp**"
      ],
      "text/plain": [
       "<IPython.core.display.Markdown object>"
      ]
     },
     "metadata": {},
     "output_type": "display_data"
    },
    {
     "data": {
      "text/markdown": [
       "\n",
       "**Field that contains information on type of structure (fault, fold axial trace etc.)**"
      ],
      "text/plain": [
       "<IPython.core.display.Markdown object>"
      ]
     },
     "metadata": {},
     "output_type": "display_data"
    },
    {
     "data": {
      "application/vnd.jupyter.widget-view+json": {
       "model_id": "0f54809801694aadb2a0423f7982cb81",
       "version_major": 2,
       "version_minor": 0
      },
      "text/plain": [
       "Dropdown(description='Fault field:', options=('No_col', 'CATEGORY', 'FEATURE', 'FEATURE_D', 'HWALL_ROSE', 'geo…"
      ]
     },
     "metadata": {},
     "output_type": "display_data"
    },
    {
     "data": {
      "text/markdown": [
       "**Text to search for in field defined by Fault field code to show that this is a fault**"
      ],
      "text/plain": [
       "<IPython.core.display.Markdown object>"
      ]
     },
     "metadata": {},
     "output_type": "display_data"
    },
    {
     "data": {
      "application/vnd.jupyter.widget-view+json": {
       "model_id": "fb5aa5496a1942f58c397b0e8001545e",
       "version_major": 2,
       "version_minor": 0
      },
      "text/plain": [
       "Text(value='Fault', description='Fault text:', placeholder='Fault')"
      ]
     },
     "metadata": {},
     "output_type": "display_data"
    },
    {
     "data": {
      "text/markdown": [
       "**Field for numeric fault dip value**"
      ],
      "text/plain": [
       "<IPython.core.display.Markdown object>"
      ]
     },
     "metadata": {},
     "output_type": "display_data"
    },
    {
     "data": {
      "application/vnd.jupyter.widget-view+json": {
       "model_id": "fbaafcd7f3b844d49a7f6966dde17da0",
       "version_major": 2,
       "version_minor": 0
      },
      "text/plain": [
       "Dropdown(description='Dip:', options=('No_col', 'CATEGORY', 'FEATURE', 'FEATURE_D', 'HWALL_ROSE', 'geometry'),…"
      ]
     },
     "metadata": {},
     "output_type": "display_data"
    },
    {
     "data": {
      "text/markdown": [
       "**Text to search for in field defined by Dip to show that this has no known dip**"
      ],
      "text/plain": [
       "<IPython.core.display.Markdown object>"
      ]
     },
     "metadata": {},
     "output_type": "display_data"
    },
    {
     "data": {
      "application/vnd.jupyter.widget-view+json": {
       "model_id": "3d191c4a15f44b2c81a7eb6c8248ae75",
       "version_major": 2,
       "version_minor": 0
      },
      "text/plain": [
       "Text(value='0', description='NULL dip:', placeholder='0')"
      ]
     },
     "metadata": {},
     "output_type": "display_data"
    },
    {
     "data": {
      "text/markdown": [
       "**Field for text fault dip direction value (southeast etc.)**"
      ],
      "text/plain": [
       "<IPython.core.display.Markdown object>"
      ]
     },
     "metadata": {},
     "output_type": "display_data"
    },
    {
     "data": {
      "application/vnd.jupyter.widget-view+json": {
       "model_id": "5bd6d22aa6a548f4898ca1392b82aa01",
       "version_major": 2,
       "version_minor": 0
      },
      "text/plain": [
       "Dropdown(description='Dip Direction:', options=('No_col', 'CATEGORY', 'FEATURE', 'FEATURE_D', 'HWALL_ROSE', 'g…"
      ]
     },
     "metadata": {},
     "output_type": "display_data"
    },
    {
     "data": {
      "text/markdown": [
       "**Flag for text fault dip direction type num e.g. 045 or alpha e.g. southeast**"
      ],
      "text/plain": [
       "<IPython.core.display.Markdown object>"
      ]
     },
     "metadata": {},
     "output_type": "display_data"
    },
    {
     "data": {
      "application/vnd.jupyter.widget-view+json": {
       "model_id": "3ccfc42942794334b27a694de41dc829",
       "version_major": 2,
       "version_minor": 0
      },
      "text/plain": [
       "Dropdown(description='Dip Convention:', options=('alpha', 'num'), style=DescriptionStyle(description_width='in…"
      ]
     },
     "metadata": {},
     "output_type": "display_data"
    },
    {
     "data": {
      "text/markdown": [
       "**Field for text fault dip estimate value (Moderate, Steep etc.)**"
      ],
      "text/plain": [
       "<IPython.core.display.Markdown object>"
      ]
     },
     "metadata": {},
     "output_type": "display_data"
    },
    {
     "data": {
      "application/vnd.jupyter.widget-view+json": {
       "model_id": "d37b2300ab1b4750820d6ef0b31304ae",
       "version_major": 2,
       "version_minor": 0
      },
      "text/plain": [
       "Dropdown(description='Dip estimate:', options=('No_col', 'CATEGORY', 'FEATURE', 'FEATURE_D', 'HWALL_ROSE', 'ge…"
      ]
     },
     "metadata": {},
     "output_type": "display_data"
    }
   ],
   "source": [
    "c_l['gi']=gi_choice.value\n",
    "c_l['sf']=sf_choice.value\n",
    "c_l['bedding']=bedding_choice.value\n",
    "c_l['d']=d_choice.value\n",
    "c_l['dd']=dd_choice.value\n",
    "c_l['otype']=otype_choice.value\n",
    "c_l['bo']=bo_choice.value\n",
    "c_l['btype']=btype_choice.value\n",
    "\n",
    "if(not fault_file==''):\n",
    "    fault=gpd.read_file(fault_file)\n",
    "    display(fault.head())\n",
    "    printmd('**Based on file: '+fault_file+'**')\n",
    "\n",
    "    cols=['No_col']\n",
    "    for sc in fault.columns:\n",
    "        cols.append(sc)\n",
    "        \n",
    "    printmd('\\n**Field that contains information on type of structure (fault, fold axial trace etc.)**')\n",
    "\n",
    "\n",
    "    f_choice=widgets.Dropdown(\n",
    "        options=cols,\n",
    "        description='Fault field:',\n",
    "        disabled=False\n",
    "    )\n",
    "    display(f_choice)\n",
    "\n",
    "    printmd('**Text to search for in field defined by Fault field code to show that this is a fault**')\n",
    "\n",
    "    fault_choice=widgets.Text(\n",
    "        placeholder='Fault',\n",
    "        value='Fault',\n",
    "        description='Fault text:',\n",
    "        disabled=False\n",
    "    )\n",
    "    display(fault_choice)\n",
    "\n",
    "    printmd('**Field for numeric fault dip value**')\n",
    "\n",
    "    fdip_choice=widgets.Dropdown(\n",
    "        options=cols,\n",
    "        description='Dip:',\n",
    "        disabled=False\n",
    "    )\n",
    "    display(fdip_choice)\n",
    "\n",
    "    printmd('**Text to search for in field defined by Dip to show that this has no known dip**')\n",
    "\n",
    "    fdipnull_choice=widgets.Text(\n",
    "        placeholder='0',\n",
    "        value='0',\n",
    "        description='NULL dip:',\n",
    "        disabled=False\n",
    "    )\n",
    "    display(fdipnull_choice)\n",
    "\n",
    "    printmd('**Field for text fault dip direction value (southeast etc.)**')\n",
    "\n",
    "    fdipdir_choice=widgets.Dropdown(\n",
    "        options=cols,\n",
    "        description='Dip Direction:',\n",
    "        disabled=False\n",
    "    )\n",
    "    display(fdipdir_choice)\n",
    "\n",
    "    printmd('**Flag for text fault dip direction type num e.g. 045 or alpha e.g. southeast**')\n",
    "\n",
    "    fdipdir_flag_choice=widgets.Dropdown(\n",
    "        options=('alpha','num'),\n",
    "        description='Dip Convention:',\n",
    "        disabled=False,\n",
    "        style=style\n",
    "    )\n",
    "    display(fdipdir_flag_choice)\n",
    "\n",
    "    printmd('**Field for text fault dip estimate value (Moderate, Steep etc.)**')\n",
    "\n",
    "    fdipest_choice=widgets.Dropdown(\n",
    "        options=cols,\n",
    "        description='Dip estimate:',\n",
    "        disabled=False\n",
    "    )\n",
    "    display(fdipest_choice)"
   ]
  },
  {
   "cell_type": "code",
   "execution_count": 58,
   "metadata": {},
   "outputs": [
    {
     "data": {
      "text/markdown": [
       "**Text to search for in field defined by fdipest to give fault dip estimate in increasing steepness**"
      ],
      "text/plain": [
       "<IPython.core.display.Markdown object>"
      ]
     },
     "metadata": {},
     "output_type": "display_data"
    },
    {
     "data": {
      "text/markdown": [
       "**Field that contains information on name of fault (not used??)**"
      ],
      "text/plain": [
       "<IPython.core.display.Markdown object>"
      ]
     },
     "metadata": {},
     "output_type": "display_data"
    },
    {
     "data": {
      "application/vnd.jupyter.widget-view+json": {
       "model_id": "f8eb1ca98b92466f9ed729d0add3a001",
       "version_major": 2,
       "version_minor": 0
      },
      "text/plain": [
       "Dropdown(description='Name:', options=('No_col', 'CATEGORY', 'FEATURE', 'FEATURE_D', 'HWALL_ROSE', 'geometry')…"
      ]
     },
     "metadata": {},
     "output_type": "display_data"
    }
   ],
   "source": [
    "printmd('**Text to search for in field defined by fdipest to give fault dip estimate in increasing steepness**')\n",
    "\n",
    "if(fdipest_choice.value=='No_col'):\n",
    "    c_l['fdipest_vals']='No_col'\n",
    "else:\n",
    "    fdipest_vals_choice=widgets.Text(\n",
    "        placeholder='Sorted dip order (shallow to steep)',\n",
    "        value=str(fault[fdipest_choice.value].unique()).replace(\"[\",\"\").replace(\"]\",\"\").replace(\" \",\",\"),\n",
    "        description='Text Dips:',\n",
    "        disabled=False\n",
    "    )\n",
    "    #display(fdipest_vals)\n",
    "    c_l['fdipest_vals']=fdipest_vals_choice.value\n",
    "\n",
    "\n",
    "    \n",
    "printmd('**Field that contains information on name of fault (not used??)**')\n",
    "\n",
    "n_choice=widgets.Dropdown(\n",
    "    options=cols,\n",
    "    description='Name:',\n",
    "    disabled=False\n",
    ")\n",
    "display(n_choice)"
   ]
  },
  {
   "cell_type": "code",
   "execution_count": 59,
   "metadata": {},
   "outputs": [
    {
     "data": {
      "text/html": [
       "<div>\n",
       "<style scoped>\n",
       "    .dataframe tbody tr th:only-of-type {\n",
       "        vertical-align: middle;\n",
       "    }\n",
       "\n",
       "    .dataframe tbody tr th {\n",
       "        vertical-align: top;\n",
       "    }\n",
       "\n",
       "    .dataframe thead th {\n",
       "        text-align: right;\n",
       "    }\n",
       "</style>\n",
       "<table border=\"1\" class=\"dataframe\">\n",
       "  <thead>\n",
       "    <tr style=\"text-align: right;\">\n",
       "      <th></th>\n",
       "      <th>CATEGORY</th>\n",
       "      <th>FEATURE</th>\n",
       "      <th>FEATURE_D</th>\n",
       "      <th>HWALL_ROSE</th>\n",
       "      <th>geometry</th>\n",
       "    </tr>\n",
       "  </thead>\n",
       "  <tbody>\n",
       "    <tr>\n",
       "      <th>0</th>\n",
       "      <td>FAULT</td>\n",
       "      <td>Fault_Inf_HW</td>\n",
       "      <td>Fault, inferred</td>\n",
       "      <td>NORTH_EAST</td>\n",
       "      <td>LINESTRING (415372.000 355736.000, 415462.000 ...</td>\n",
       "    </tr>\n",
       "    <tr>\n",
       "      <th>1</th>\n",
       "      <td>FAULT</td>\n",
       "      <td>Fault_Inf_HW</td>\n",
       "      <td>Fault, inferred</td>\n",
       "      <td>NORTH</td>\n",
       "      <td>LINESTRING (419427.000 359339.000, 419546.000 ...</td>\n",
       "    </tr>\n",
       "    <tr>\n",
       "      <th>2</th>\n",
       "      <td>FAULT</td>\n",
       "      <td>Fault_Inf_HW</td>\n",
       "      <td>Fault, inferred</td>\n",
       "      <td>NORTH_WEST</td>\n",
       "      <td>LINESTRING (421657.000 359077.000, 421802.000 ...</td>\n",
       "    </tr>\n",
       "    <tr>\n",
       "      <th>3</th>\n",
       "      <td>FAULT</td>\n",
       "      <td>Fault_Inf_HW</td>\n",
       "      <td>Fault, inferred</td>\n",
       "      <td>NORTH</td>\n",
       "      <td>LINESTRING (422552.000 370743.000, 422671.000 ...</td>\n",
       "    </tr>\n",
       "    <tr>\n",
       "      <th>4</th>\n",
       "      <td>FAULT</td>\n",
       "      <td>Fault_Inf_HW</td>\n",
       "      <td>Fault, inferred</td>\n",
       "      <td>EAST</td>\n",
       "      <td>LINESTRING (409016.000 364784.000, 409039.000 ...</td>\n",
       "    </tr>\n",
       "  </tbody>\n",
       "</table>\n",
       "</div>"
      ],
      "text/plain": [
       "  CATEGORY       FEATURE        FEATURE_D  HWALL_ROSE  \\\n",
       "0    FAULT  Fault_Inf_HW  Fault, inferred  NORTH_EAST   \n",
       "1    FAULT  Fault_Inf_HW  Fault, inferred       NORTH   \n",
       "2    FAULT  Fault_Inf_HW  Fault, inferred  NORTH_WEST   \n",
       "3    FAULT  Fault_Inf_HW  Fault, inferred       NORTH   \n",
       "4    FAULT  Fault_Inf_HW  Fault, inferred        EAST   \n",
       "\n",
       "                                            geometry  \n",
       "0  LINESTRING (415372.000 355736.000, 415462.000 ...  \n",
       "1  LINESTRING (419427.000 359339.000, 419546.000 ...  \n",
       "2  LINESTRING (421657.000 359077.000, 421802.000 ...  \n",
       "3  LINESTRING (422552.000 370743.000, 422671.000 ...  \n",
       "4  LINESTRING (409016.000 364784.000, 409039.000 ...  "
      ]
     },
     "metadata": {},
     "output_type": "display_data"
    },
    {
     "data": {
      "text/markdown": [
       "**Based on file: C:/Users/00073294/Dropbox/1_Jupyter_notebooks/Peak_District/Peak_District_Faults.shp**"
      ],
      "text/plain": [
       "<IPython.core.display.Markdown object>"
      ]
     },
     "metadata": {},
     "output_type": "display_data"
    },
    {
     "data": {
      "text/markdown": [
       "\n",
       "**Field that contains information on type of structure (fold, fault etc.)**"
      ],
      "text/plain": [
       "<IPython.core.display.Markdown object>"
      ]
     },
     "metadata": {},
     "output_type": "display_data"
    },
    {
     "data": {
      "application/vnd.jupyter.widget-view+json": {
       "model_id": "b28d5f91d7d747ddbdf5026887e8131b",
       "version_major": 2,
       "version_minor": 0
      },
      "text/plain": [
       "Dropdown(description='Fold field:', options=('No_col', 'CATEGORY', 'FEATURE', 'FEATURE_D', 'HWALL_ROSE', 'geom…"
      ]
     },
     "metadata": {},
     "output_type": "display_data"
    },
    {
     "data": {
      "text/markdown": [
       "**Text to search for in field defined by Fold field to show that this is a fold axial trace**"
      ],
      "text/plain": [
       "<IPython.core.display.Markdown object>"
      ]
     },
     "metadata": {},
     "output_type": "display_data"
    },
    {
     "data": {
      "application/vnd.jupyter.widget-view+json": {
       "model_id": "a6844ad9ee3c4514a3623ca41290668d",
       "version_major": 2,
       "version_minor": 0
      },
      "text/plain": [
       "Text(value='Fold', description='Fold text:', placeholder='Fold')"
      ]
     },
     "metadata": {},
     "output_type": "display_data"
    },
    {
     "data": {
      "text/markdown": [
       "**Field that contains information on type of fold (anticline, syncline)**"
      ],
      "text/plain": [
       "<IPython.core.display.Markdown object>"
      ]
     },
     "metadata": {},
     "output_type": "display_data"
    },
    {
     "data": {
      "application/vnd.jupyter.widget-view+json": {
       "model_id": "7864df2334b749e19f476baa7d83cea1",
       "version_major": 2,
       "version_minor": 0
      },
      "text/plain": [
       "Dropdown(description='Polarity field:', options=('No_col', 'CATEGORY', 'FEATURE', 'FEATURE_D', 'HWALL_ROSE', '…"
      ]
     },
     "metadata": {},
     "output_type": "display_data"
    },
    {
     "data": {
      "text/markdown": [
       "**Text to search for in field defined by Polarity Field to show that this is a syncline**"
      ],
      "text/plain": [
       "<IPython.core.display.Markdown object>"
      ]
     },
     "metadata": {},
     "output_type": "display_data"
    },
    {
     "data": {
      "application/vnd.jupyter.widget-view+json": {
       "model_id": "aa3480a1ce2743c1a50918194c092d60",
       "version_major": 2,
       "version_minor": 0
      },
      "text/plain": [
       "Text(value='syn', description='Syncline text:', placeholder='syn')"
      ]
     },
     "metadata": {},
     "output_type": "display_data"
    }
   ],
   "source": [
    "c_l['f']=f_choice.value\n",
    "c_l['fault']=fault_choice.value\n",
    "c_l['fdip']=fdip_choice.value\n",
    "c_l['fdipnull']=fdipnull_choice.value\n",
    "c_l['fdipdir']=fdipdir_choice.value\n",
    "c_l['fdipdir_flag']=fdipdir_flag_choice.value\n",
    "c_l['fdipest']=fdipest_choice.value\n",
    "c_l['n']=n_choice.value\n",
    "\n",
    "if(not fold_file==''):\n",
    "    fold=gpd.read_file(fold_file)\n",
    "    display(fold.head())\n",
    "    cols=['No_col']\n",
    "    for sc in fold.columns:\n",
    "        cols.append(sc)\n",
    "        \n",
    "    printmd('**Based on file:'+' '+fold_file+'**')\n",
    "\n",
    "    printmd('\\n**Field that contains information on type of structure (fold, fault etc.)**')\n",
    "\n",
    "    ff_choice=widgets.Dropdown(\n",
    "        options=cols,\n",
    "        description='Fold field:',\n",
    "        disabled=False\n",
    "    )\n",
    "    display(ff_choice)\n",
    "\n",
    "    printmd('**Text to search for in field defined by Fold field to show that this is a fold axial trace**')\n",
    "\n",
    "    fold_choice=widgets.Text(\n",
    "        placeholder='Fold',\n",
    "        value='Fold',\n",
    "        description='Fold text:',\n",
    "        disabled=False\n",
    "    )\n",
    "    display(fold_choice)\n",
    "\n",
    "    printmd('**Field that contains information on type of fold (anticline, syncline)**')\n",
    "\n",
    "    t_choice=widgets.Dropdown(\n",
    "        options=cols,\n",
    "        description='Polarity field:',\n",
    "        disabled=False\n",
    "    )\n",
    "    display(t_choice)\n",
    "\n",
    "    printmd('**Text to search for in field defined by Polarity Field to show that this is a syncline**')\n",
    "\n",
    "    syn_choice=widgets.Text(\n",
    "        placeholder='syn',\n",
    "        value='syn',\n",
    "        description='Syncline text:',\n",
    "        disabled=False\n",
    "    )\n",
    "    display(syn_choice)\n"
   ]
  },
  {
   "cell_type": "code",
   "execution_count": 60,
   "metadata": {
    "scrolled": false
   },
   "outputs": [
    {
     "data": {
      "text/html": [
       "<div>\n",
       "<style scoped>\n",
       "    .dataframe tbody tr th:only-of-type {\n",
       "        vertical-align: middle;\n",
       "    }\n",
       "\n",
       "    .dataframe tbody tr th {\n",
       "        vertical-align: top;\n",
       "    }\n",
       "\n",
       "    .dataframe thead th {\n",
       "        text-align: right;\n",
       "    }\n",
       "</style>\n",
       "<table border=\"1\" class=\"dataframe\">\n",
       "  <thead>\n",
       "    <tr style=\"text-align: right;\">\n",
       "      <th></th>\n",
       "      <th>OBJECTID</th>\n",
       "      <th>LEX</th>\n",
       "      <th>LEX_D</th>\n",
       "      <th>RANK</th>\n",
       "      <th>BED_EQ</th>\n",
       "      <th>BED_EQ_D</th>\n",
       "      <th>MB_EQ</th>\n",
       "      <th>MB_EQ_D</th>\n",
       "      <th>FM_EQ</th>\n",
       "      <th>FM_EQ_D</th>\n",
       "      <th>GP_EQ</th>\n",
       "      <th>GP_EQ_D</th>\n",
       "      <th>MAX_TIME_Y</th>\n",
       "      <th>MIN_TIME_Y</th>\n",
       "      <th>MAX_AGE</th>\n",
       "      <th>MIN_AGE</th>\n",
       "      <th>MAX_EPOCH</th>\n",
       "      <th>MIN_EPOCH</th>\n",
       "      <th>MAX_SUBPER</th>\n",
       "      <th>MIN_SUBPER</th>\n",
       "      <th>MAX_PERIOD</th>\n",
       "      <th>MIN_PERIOD</th>\n",
       "      <th>LEX_RCS_I</th>\n",
       "      <th>BGSRED</th>\n",
       "      <th>BGSGREEN</th>\n",
       "      <th>BGSBLUE</th>\n",
       "      <th>VERSION</th>\n",
       "      <th>NOM_SCALE</th>\n",
       "      <th>NOM_OS_YR</th>\n",
       "      <th>NOM_BGS_YR</th>\n",
       "      <th>geometry</th>\n",
       "    </tr>\n",
       "  </thead>\n",
       "  <tbody>\n",
       "    <tr>\n",
       "      <th>0</th>\n",
       "      <td>1</td>\n",
       "      <td>ASG</td>\n",
       "      <td>ASHOVER GRIT</td>\n",
       "      <td>BED</td>\n",
       "      <td>ASG</td>\n",
       "      <td>ASHOVER GRIT</td>\n",
       "      <td>NOPAR</td>\n",
       "      <td>NO PARENT</td>\n",
       "      <td>MARSD</td>\n",
       "      <td>MARSDEN FORMATION</td>\n",
       "      <td>MG</td>\n",
       "      <td>MILLSTONE GRIT GROUP [SEE ALSO MIGR]</td>\n",
       "      <td>321500000.0</td>\n",
       "      <td>320000000.0</td>\n",
       "      <td>NAMURIAN</td>\n",
       "      <td>NAMURIAN</td>\n",
       "      <td>EARLY PENNSYLVANIAN</td>\n",
       "      <td>EARLY PENNSYLVANIAN</td>\n",
       "      <td>PENNSYLVANIAN</td>\n",
       "      <td>PENNSYLVANIAN</td>\n",
       "      <td>CARBONIFEROUS</td>\n",
       "      <td>CARBONIFEROUS</td>\n",
       "      <td>13211312_ASG-SDST</td>\n",
       "      <td>237</td>\n",
       "      <td>176</td>\n",
       "      <td>0</td>\n",
       "      <td>8.24</td>\n",
       "      <td>50000</td>\n",
       "      <td>1961</td>\n",
       "      <td>1975</td>\n",
       "      <td>POLYGON ((425512.000 374208.000, 425473.000 37...</td>\n",
       "    </tr>\n",
       "    <tr>\n",
       "      <th>1</th>\n",
       "      <td>2</td>\n",
       "      <td>ASG</td>\n",
       "      <td>ASHOVER GRIT</td>\n",
       "      <td>BED</td>\n",
       "      <td>ASG</td>\n",
       "      <td>ASHOVER GRIT</td>\n",
       "      <td>NOPAR</td>\n",
       "      <td>NO PARENT</td>\n",
       "      <td>MARSD</td>\n",
       "      <td>MARSDEN FORMATION</td>\n",
       "      <td>MG</td>\n",
       "      <td>MILLSTONE GRIT GROUP [SEE ALSO MIGR]</td>\n",
       "      <td>321500000.0</td>\n",
       "      <td>320000000.0</td>\n",
       "      <td>NAMURIAN</td>\n",
       "      <td>NAMURIAN</td>\n",
       "      <td>EARLY PENNSYLVANIAN</td>\n",
       "      <td>EARLY PENNSYLVANIAN</td>\n",
       "      <td>PENNSYLVANIAN</td>\n",
       "      <td>PENNSYLVANIAN</td>\n",
       "      <td>CARBONIFEROUS</td>\n",
       "      <td>CARBONIFEROUS</td>\n",
       "      <td>13211312_ASG-SDST</td>\n",
       "      <td>237</td>\n",
       "      <td>176</td>\n",
       "      <td>0</td>\n",
       "      <td>8.24</td>\n",
       "      <td>50000</td>\n",
       "      <td>1975</td>\n",
       "      <td>1978</td>\n",
       "      <td>MULTIPOLYGON (((421659.000 361494.000, 421643....</td>\n",
       "    </tr>\n",
       "    <tr>\n",
       "      <th>2</th>\n",
       "      <td>3</td>\n",
       "      <td>BES</td>\n",
       "      <td>BLACKSTONE EDGE SANDSTONE</td>\n",
       "      <td>BED</td>\n",
       "      <td>BES</td>\n",
       "      <td>BLACKSTONE EDGE SANDSTONE</td>\n",
       "      <td>NOPAR</td>\n",
       "      <td>NO PARENT</td>\n",
       "      <td>MORRI</td>\n",
       "      <td>MORRIDGE FORMATION</td>\n",
       "      <td>NOPAR</td>\n",
       "      <td>NO PARENT</td>\n",
       "      <td>322000000.0</td>\n",
       "      <td>321500000.0</td>\n",
       "      <td>NAMURIAN</td>\n",
       "      <td>NAMURIAN</td>\n",
       "      <td>EARLY PENNSYLVANIAN</td>\n",
       "      <td>EARLY PENNSYLVANIAN</td>\n",
       "      <td>PENNSYLVANIAN</td>\n",
       "      <td>PENNSYLVANIAN</td>\n",
       "      <td>CARBONIFEROUS</td>\n",
       "      <td>CARBONIFEROUS</td>\n",
       "      <td>13211313_BES-MDSD</td>\n",
       "      <td>201</td>\n",
       "      <td>201</td>\n",
       "      <td>176</td>\n",
       "      <td>8.24</td>\n",
       "      <td>50000</td>\n",
       "      <td>1975</td>\n",
       "      <td>1978</td>\n",
       "      <td>MULTIPOLYGON (((405636.000 362293.000, 405645....</td>\n",
       "    </tr>\n",
       "    <tr>\n",
       "      <th>3</th>\n",
       "      <td>4</td>\n",
       "      <td>BES</td>\n",
       "      <td>BLACKSTONE EDGE SANDSTONE</td>\n",
       "      <td>BED</td>\n",
       "      <td>BES</td>\n",
       "      <td>BLACKSTONE EDGE SANDSTONE</td>\n",
       "      <td>NOPAR</td>\n",
       "      <td>NO PARENT</td>\n",
       "      <td>MORRI</td>\n",
       "      <td>MORRIDGE FORMATION</td>\n",
       "      <td>NOPAR</td>\n",
       "      <td>NO PARENT</td>\n",
       "      <td>322000000.0</td>\n",
       "      <td>321500000.0</td>\n",
       "      <td>NAMURIAN</td>\n",
       "      <td>NAMURIAN</td>\n",
       "      <td>EARLY PENNSYLVANIAN</td>\n",
       "      <td>EARLY PENNSYLVANIAN</td>\n",
       "      <td>PENNSYLVANIAN</td>\n",
       "      <td>PENNSYLVANIAN</td>\n",
       "      <td>CARBONIFEROUS</td>\n",
       "      <td>CARBONIFEROUS</td>\n",
       "      <td>13211313_BES-SDST</td>\n",
       "      <td>237</td>\n",
       "      <td>176</td>\n",
       "      <td>0</td>\n",
       "      <td>8.24</td>\n",
       "      <td>50000</td>\n",
       "      <td>1975</td>\n",
       "      <td>1978</td>\n",
       "      <td>MULTIPOLYGON (((407669.000 360721.000, 407636....</td>\n",
       "    </tr>\n",
       "    <tr>\n",
       "      <th>4</th>\n",
       "      <td>5</td>\n",
       "      <td>BLL</td>\n",
       "      <td>BEE LOW LIMESTONE FORMATION</td>\n",
       "      <td>FORMATION</td>\n",
       "      <td>NOTAP</td>\n",
       "      <td>NOT APPLICABLE</td>\n",
       "      <td>NOTAP</td>\n",
       "      <td>NOT APPLICABLE</td>\n",
       "      <td>BLL</td>\n",
       "      <td>BEE LOW LIMESTONE FORMATION</td>\n",
       "      <td>PKLM</td>\n",
       "      <td>PEAK LIMESTONE GROUP</td>\n",
       "      <td>337000000.0</td>\n",
       "      <td>330900000.0</td>\n",
       "      <td>VISEAN</td>\n",
       "      <td>VISEAN</td>\n",
       "      <td>MID MISSISSIPPIAN</td>\n",
       "      <td>MID MISSISSIPPIAN</td>\n",
       "      <td>MISSISSIPPIAN</td>\n",
       "      <td>MISSISSIPPIAN</td>\n",
       "      <td>CARBONIFEROUS</td>\n",
       "      <td>CARBONIFEROUS</td>\n",
       "      <td>13212212_BLL-DOLMST</td>\n",
       "      <td>148</td>\n",
       "      <td>255</td>\n",
       "      <td>148</td>\n",
       "      <td>8.24</td>\n",
       "      <td>50000</td>\n",
       "      <td>1975</td>\n",
       "      <td>1978</td>\n",
       "      <td>MULTIPOLYGON (((425429.214 355252.195, 425427....</td>\n",
       "    </tr>\n",
       "  </tbody>\n",
       "</table>\n",
       "</div>"
      ],
      "text/plain": [
       "   OBJECTID  LEX                        LEX_D       RANK BED_EQ  \\\n",
       "0         1  ASG                 ASHOVER GRIT        BED    ASG   \n",
       "1         2  ASG                 ASHOVER GRIT        BED    ASG   \n",
       "2         3  BES    BLACKSTONE EDGE SANDSTONE        BED    BES   \n",
       "3         4  BES    BLACKSTONE EDGE SANDSTONE        BED    BES   \n",
       "4         5  BLL  BEE LOW LIMESTONE FORMATION  FORMATION  NOTAP   \n",
       "\n",
       "                    BED_EQ_D  MB_EQ         MB_EQ_D  FM_EQ  \\\n",
       "0               ASHOVER GRIT  NOPAR       NO PARENT  MARSD   \n",
       "1               ASHOVER GRIT  NOPAR       NO PARENT  MARSD   \n",
       "2  BLACKSTONE EDGE SANDSTONE  NOPAR       NO PARENT  MORRI   \n",
       "3  BLACKSTONE EDGE SANDSTONE  NOPAR       NO PARENT  MORRI   \n",
       "4             NOT APPLICABLE  NOTAP  NOT APPLICABLE    BLL   \n",
       "\n",
       "                       FM_EQ_D  GP_EQ                               GP_EQ_D  \\\n",
       "0            MARSDEN FORMATION     MG  MILLSTONE GRIT GROUP [SEE ALSO MIGR]   \n",
       "1            MARSDEN FORMATION     MG  MILLSTONE GRIT GROUP [SEE ALSO MIGR]   \n",
       "2           MORRIDGE FORMATION  NOPAR                             NO PARENT   \n",
       "3           MORRIDGE FORMATION  NOPAR                             NO PARENT   \n",
       "4  BEE LOW LIMESTONE FORMATION   PKLM                  PEAK LIMESTONE GROUP   \n",
       "\n",
       "    MAX_TIME_Y   MIN_TIME_Y   MAX_AGE   MIN_AGE            MAX_EPOCH  \\\n",
       "0  321500000.0  320000000.0  NAMURIAN  NAMURIAN  EARLY PENNSYLVANIAN   \n",
       "1  321500000.0  320000000.0  NAMURIAN  NAMURIAN  EARLY PENNSYLVANIAN   \n",
       "2  322000000.0  321500000.0  NAMURIAN  NAMURIAN  EARLY PENNSYLVANIAN   \n",
       "3  322000000.0  321500000.0  NAMURIAN  NAMURIAN  EARLY PENNSYLVANIAN   \n",
       "4  337000000.0  330900000.0    VISEAN    VISEAN    MID MISSISSIPPIAN   \n",
       "\n",
       "             MIN_EPOCH     MAX_SUBPER     MIN_SUBPER     MAX_PERIOD  \\\n",
       "0  EARLY PENNSYLVANIAN  PENNSYLVANIAN  PENNSYLVANIAN  CARBONIFEROUS   \n",
       "1  EARLY PENNSYLVANIAN  PENNSYLVANIAN  PENNSYLVANIAN  CARBONIFEROUS   \n",
       "2  EARLY PENNSYLVANIAN  PENNSYLVANIAN  PENNSYLVANIAN  CARBONIFEROUS   \n",
       "3  EARLY PENNSYLVANIAN  PENNSYLVANIAN  PENNSYLVANIAN  CARBONIFEROUS   \n",
       "4    MID MISSISSIPPIAN  MISSISSIPPIAN  MISSISSIPPIAN  CARBONIFEROUS   \n",
       "\n",
       "      MIN_PERIOD            LEX_RCS_I  BGSRED  BGSGREEN  BGSBLUE VERSION  \\\n",
       "0  CARBONIFEROUS    13211312_ASG-SDST     237       176        0    8.24   \n",
       "1  CARBONIFEROUS    13211312_ASG-SDST     237       176        0    8.24   \n",
       "2  CARBONIFEROUS    13211313_BES-MDSD     201       201      176    8.24   \n",
       "3  CARBONIFEROUS    13211313_BES-SDST     237       176        0    8.24   \n",
       "4  CARBONIFEROUS  13212212_BLL-DOLMST     148       255      148    8.24   \n",
       "\n",
       "  NOM_SCALE NOM_OS_YR NOM_BGS_YR  \\\n",
       "0     50000      1961       1975   \n",
       "1     50000      1975       1978   \n",
       "2     50000      1975       1978   \n",
       "3     50000      1975       1978   \n",
       "4     50000      1975       1978   \n",
       "\n",
       "                                            geometry  \n",
       "0  POLYGON ((425512.000 374208.000, 425473.000 37...  \n",
       "1  MULTIPOLYGON (((421659.000 361494.000, 421643....  \n",
       "2  MULTIPOLYGON (((405636.000 362293.000, 405645....  \n",
       "3  MULTIPOLYGON (((407669.000 360721.000, 407636....  \n",
       "4  MULTIPOLYGON (((425429.214 355252.195, 425427....  "
      ]
     },
     "metadata": {},
     "output_type": "display_data"
    },
    {
     "data": {
      "text/markdown": [
       "**Based on file: C:/Users/00073294/Dropbox/1_Jupyter_notebooks/Peak_District/Peak_District_Bedrock.shp**"
      ],
      "text/plain": [
       "<IPython.core.display.Markdown object>"
      ]
     },
     "metadata": {},
     "output_type": "display_data"
    },
    {
     "data": {
      "text/markdown": [
       "\n",
       "**Field that contains unique ID**"
      ],
      "text/plain": [
       "<IPython.core.display.Markdown object>"
      ]
     },
     "metadata": {},
     "output_type": "display_data"
    },
    {
     "data": {
      "application/vnd.jupyter.widget-view+json": {
       "model_id": "d77cd2e62fde45edaf532b960244e151",
       "version_major": 2,
       "version_minor": 0
      },
      "text/plain": [
       "Dropdown(description='Unique ID', options=('No_col', 'OBJECTID', 'LEX', 'LEX_D', 'RANK', 'BED_EQ', 'BED_EQ_D',…"
      ]
     },
     "metadata": {},
     "output_type": "display_data"
    },
    {
     "data": {
      "text/markdown": [
       "**Field that contains finer stratigraphic coding**"
      ],
      "text/plain": [
       "<IPython.core.display.Markdown object>"
      ]
     },
     "metadata": {},
     "output_type": "display_data"
    },
    {
     "data": {
      "application/vnd.jupyter.widget-view+json": {
       "model_id": "5a54da2554f2453086c57dbd880ee822",
       "version_major": 2,
       "version_minor": 0
      },
      "text/plain": [
       "Dropdown(description='Formation', options=('No_col', 'OBJECTID', 'LEX', 'LEX_D', 'RANK', 'BED_EQ', 'BED_EQ_D',…"
      ]
     },
     "metadata": {},
     "output_type": "display_data"
    },
    {
     "data": {
      "text/markdown": [
       "\n",
       "**Field that contains coarser stratigraphic coding**"
      ],
      "text/plain": [
       "<IPython.core.display.Markdown object>"
      ]
     },
     "metadata": {},
     "output_type": "display_data"
    },
    {
     "data": {
      "application/vnd.jupyter.widget-view+json": {
       "model_id": "6b352973052d44c1b1824bc8f6e82b15",
       "version_major": 2,
       "version_minor": 0
      },
      "text/plain": [
       "Dropdown(description='Group', options=('No_col', 'OBJECTID', 'LEX', 'LEX_D', 'RANK', 'BED_EQ', 'BED_EQ_D', 'MB…"
      ]
     },
     "metadata": {},
     "output_type": "display_data"
    },
    {
     "data": {
      "text/markdown": [
       "**Field that contains alternate coarser stratigraphic coding if Group is blank**"
      ],
      "text/plain": [
       "<IPython.core.display.Markdown object>"
      ]
     },
     "metadata": {},
     "output_type": "display_data"
    },
    {
     "data": {
      "application/vnd.jupyter.widget-view+json": {
       "model_id": "b59bc95a64104d2490c5956713954e9d",
       "version_major": 2,
       "version_minor": 0
      },
      "text/plain": [
       "Dropdown(description='Group alt', options=('No_col', 'OBJECTID', 'LEX', 'LEX_D', 'RANK', 'BED_EQ', 'BED_EQ_D',…"
      ]
     },
     "metadata": {},
     "output_type": "display_data"
    },
    {
     "data": {
      "text/markdown": [
       "**Field that contains alternate stratigraphic coding (used to check for \"drift\" formations)**"
      ],
      "text/plain": [
       "<IPython.core.display.Markdown object>"
      ]
     },
     "metadata": {},
     "output_type": "display_data"
    },
    {
     "data": {
      "application/vnd.jupyter.widget-view+json": {
       "model_id": "47d6b5ec97a6433cbbf89811612bcb85",
       "version_major": 2,
       "version_minor": 0
      },
      "text/plain": [
       "Dropdown(description='Strat alt', options=('No_col', 'OBJECTID', 'LEX', 'LEX_D', 'RANK', 'BED_EQ', 'BED_EQ_D',…"
      ]
     },
     "metadata": {},
     "output_type": "display_data"
    },
    {
     "data": {
      "text/markdown": [
       "**Field that contains information about lithology**"
      ],
      "text/plain": [
       "<IPython.core.display.Markdown object>"
      ]
     },
     "metadata": {},
     "output_type": "display_data"
    },
    {
     "data": {
      "application/vnd.jupyter.widget-view+json": {
       "model_id": "fcf81b7054a64c47b8fcd93a4f130b6d",
       "version_major": 2,
       "version_minor": 0
      },
      "text/plain": [
       "Dropdown(description='Description:', options=('No_col', 'OBJECTID', 'LEX', 'LEX_D', 'RANK', 'BED_EQ', 'BED_EQ_…"
      ]
     },
     "metadata": {},
     "output_type": "display_data"
    },
    {
     "data": {
      "text/markdown": [
       "**Field that contains extra lithology information**"
      ],
      "text/plain": [
       "<IPython.core.display.Markdown object>"
      ]
     },
     "metadata": {},
     "output_type": "display_data"
    },
    {
     "data": {
      "application/vnd.jupyter.widget-view+json": {
       "model_id": "43171aee25cd4a189e8510960b426175",
       "version_major": 2,
       "version_minor": 0
      },
      "text/plain": [
       "Dropdown(description='Litho', options=('No_col', 'OBJECTID', 'LEX', 'LEX_D', 'RANK', 'BED_EQ', 'BED_EQ_D', 'MB…"
      ]
     },
     "metadata": {},
     "output_type": "display_data"
    },
    {
     "data": {
      "text/markdown": [
       "**Field that contains even more lithology information**"
      ],
      "text/plain": [
       "<IPython.core.display.Markdown object>"
      ]
     },
     "metadata": {},
     "output_type": "display_data"
    },
    {
     "data": {
      "application/vnd.jupyter.widget-view+json": {
       "model_id": "75cbc95caafc421b83ae7981a742f331",
       "version_major": 2,
       "version_minor": 0
      },
      "text/plain": [
       "Dropdown(description='Litho alt', options=('No_col', 'OBJECTID', 'LEX', 'LEX_D', 'RANK', 'BED_EQ', 'BED_EQ_D',…"
      ]
     },
     "metadata": {},
     "output_type": "display_data"
    },
    {
     "data": {
      "text/markdown": [
       "**Text to search for in field defined by Description code to show that this is a sill**"
      ],
      "text/plain": [
       "<IPython.core.display.Markdown object>"
      ]
     },
     "metadata": {},
     "output_type": "display_data"
    },
    {
     "data": {
      "application/vnd.jupyter.widget-view+json": {
       "model_id": "69839b4d5e4247908b1776f7daa0502a",
       "version_major": 2,
       "version_minor": 0
      },
      "text/plain": [
       "Text(value='sill', description='Sill text', placeholder='sill')"
      ]
     },
     "metadata": {},
     "output_type": "display_data"
    },
    {
     "data": {
      "text/markdown": [
       "**Text to search for in field defined by Litho code to show that this is an intrusion**"
      ],
      "text/plain": [
       "<IPython.core.display.Markdown object>"
      ]
     },
     "metadata": {},
     "output_type": "display_data"
    },
    {
     "data": {
      "application/vnd.jupyter.widget-view+json": {
       "model_id": "548abe8b912c44619933bc1e85e10c30",
       "version_major": 2,
       "version_minor": 0
      },
      "text/plain": [
       "Text(value='intrusive', description='Intrusive text', placeholder='intrusive')"
      ]
     },
     "metadata": {},
     "output_type": "display_data"
    },
    {
     "data": {
      "text/markdown": [
       "**Text to search for in field defined by Description code to show that this is an volcanic (not intrusion)**"
      ],
      "text/plain": [
       "<IPython.core.display.Markdown object>"
      ]
     },
     "metadata": {},
     "output_type": "display_data"
    },
    {
     "data": {
      "application/vnd.jupyter.widget-view+json": {
       "model_id": "ec4daf9391144c66acefd908b6bd0413",
       "version_major": 2,
       "version_minor": 0
      },
      "text/plain": [
       "Text(value='volc', description='Volc text', placeholder='volc')"
      ]
     },
     "metadata": {},
     "output_type": "display_data"
    },
    {
     "data": {
      "text/markdown": [
       "**Field that contains minimum age of unit defined by Formation**"
      ],
      "text/plain": [
       "<IPython.core.display.Markdown object>"
      ]
     },
     "metadata": {},
     "output_type": "display_data"
    },
    {
     "data": {
      "application/vnd.jupyter.widget-view+json": {
       "model_id": "6219b58160ee4adb85f76e0b2d356172",
       "version_major": 2,
       "version_minor": 0
      },
      "text/plain": [
       "Dropdown(description='Min age', options=('No_col', 'OBJECTID', 'LEX', 'LEX_D', 'RANK', 'BED_EQ', 'BED_EQ_D', '…"
      ]
     },
     "metadata": {},
     "output_type": "display_data"
    },
    {
     "data": {
      "text/markdown": [
       "**Field that contains maximum age of unit defined by Formation**"
      ],
      "text/plain": [
       "<IPython.core.display.Markdown object>"
      ]
     },
     "metadata": {},
     "output_type": "display_data"
    },
    {
     "data": {
      "application/vnd.jupyter.widget-view+json": {
       "model_id": "e6f4885847e5402c862fbf0fd534bd87",
       "version_major": 2,
       "version_minor": 0
      },
      "text/plain": [
       "Dropdown(description='Max age', options=('No_col', 'OBJECTID', 'LEX', 'LEX_D', 'RANK', 'BED_EQ', 'BED_EQ_D', '…"
      ]
     },
     "metadata": {},
     "output_type": "display_data"
    }
   ],
   "source": [
    "c_l['ff']=ff_choice.value\n",
    "c_l['fold']=fold_choice.value\n",
    "c_l['t']=t_choice.value\n",
    "c_l['syn']=syn_choice.value\n",
    "\n",
    "if(not geology_file==''):\n",
    "    geology=gpd.read_file(geology_file)\n",
    "    display(geology.head())\n",
    "    cols=['No_col']\n",
    "    for sc in geology.columns:\n",
    "        cols.append(sc)\n",
    "    printmd('**Based on file:'+' '+geology_file+'**')\n",
    "\n",
    "    printmd('\\n**Field that contains unique ID**')\n",
    "\n",
    "    o_choice=widgets.Dropdown(\n",
    "        options=cols,\n",
    "        description='Unique ID',\n",
    "        disabled=False\n",
    "    )\n",
    "    display(o_choice)\n",
    "\n",
    "    printmd('**Field that contains finer stratigraphic coding**')\n",
    "\n",
    "    c_choice=widgets.Dropdown(\n",
    "        options=cols,\n",
    "        description='Formation',\n",
    "        disabled=False\n",
    "    )\n",
    "    display(c_choice)\n",
    "\n",
    "    printmd('\\n**Field that contains coarser stratigraphic coding**')\n",
    "\n",
    "    g_choice=widgets.Dropdown(\n",
    "        options=cols,\n",
    "        description='Group',\n",
    "        disabled=False\n",
    "    )\n",
    "    display(g_choice)\n",
    "\n",
    "    printmd('**Field that contains alternate coarser stratigraphic coding if Group is blank**')\n",
    "\n",
    "    g2_choice=widgets.Dropdown(\n",
    "        options=cols,\n",
    "        description='Group alt',\n",
    "        disabled=False\n",
    "    )\n",
    "    display(g2_choice)\n",
    "\n",
    "\n",
    "    printmd('**Field that contains alternate stratigraphic coding (used to check for \"drift\" formations'')**')\n",
    "\n",
    "    u_choice=widgets.Dropdown(\n",
    "        options=cols,\n",
    "        description='Strat alt',\n",
    "        disabled=False\n",
    "    )\n",
    "    display(u_choice)\n",
    "\n",
    "    printmd('**Field that contains information about lithology**')\n",
    "\n",
    "    ds_choice=widgets.Dropdown(\n",
    "        options=cols,\n",
    "        description='Description:',\n",
    "        disabled=False\n",
    "    )\n",
    "    display(ds_choice)\n",
    "\n",
    "    printmd('**Field that contains extra lithology information**')\n",
    "\n",
    "    r1_choice=widgets.Dropdown(\n",
    "        options=cols,\n",
    "        description='Litho',\n",
    "        disabled=False\n",
    "    )\n",
    "    display(r1_choice)\n",
    "\n",
    "    printmd('**Field that contains even more lithology information**')\n",
    "\n",
    "    r2_choice=widgets.Dropdown(\n",
    "        options=cols,\n",
    "        description='Litho alt',\n",
    "        disabled=False\n",
    "    )\n",
    "    display(r2_choice)\n",
    "\n",
    "    printmd('**Text to search for in field defined by Description code to show that this is a sill**')\n",
    "\n",
    "    sill_choice=widgets.Text(\n",
    "        placeholder='sill',\n",
    "        value='sill',\n",
    "        description='Sill text',\n",
    "        disabled=False\n",
    "    )\n",
    "    display(sill_choice)\n",
    "\n",
    "    printmd('**Text to search for in field defined by Litho code to show that this is an intrusion**')\n",
    "\n",
    "    intrusive_choice=widgets.Text(\n",
    "        placeholder='intrusive',\n",
    "        value='intrusive',\n",
    "        description='Intrusive text',\n",
    "        disabled=False\n",
    "    )\n",
    "    display(intrusive_choice)\n",
    "\n",
    "    printmd('**Text to search for in field defined by Description code to show that this is an volcanic (not intrusion)**')\n",
    "\n",
    "\n",
    "    volcanic_choice=widgets.Text(\n",
    "        placeholder='volc',\n",
    "        value='volc',\n",
    "        description='Volc text',\n",
    "        disabled=False\n",
    "    )\n",
    "    display(volcanic_choice)\n",
    "\n",
    "    printmd('**Field that contains minimum age of unit defined by Formation**')\n",
    "\n",
    "    min_choice=widgets.Dropdown(\n",
    "        options=cols,\n",
    "        description='Min age',\n",
    "        disabled=False\n",
    "    )\n",
    "    display(min_choice)\n",
    "\n",
    "    printmd('**Field that contains maximum age of unit defined by Formation**')\n",
    "\n",
    "    max_choice=widgets.Dropdown(\n",
    "        options=cols,\n",
    "        description='Max age',\n",
    "        disabled=False\n",
    "    )\n",
    "    display(max_choice)\n",
    "\n"
   ]
  },
  {
   "cell_type": "code",
   "execution_count": 63,
   "metadata": {},
   "outputs": [
    {
     "data": {
      "text/html": [
       "<div>\n",
       "<style scoped>\n",
       "    .dataframe tbody tr th:only-of-type {\n",
       "        vertical-align: middle;\n",
       "    }\n",
       "\n",
       "    .dataframe tbody tr th {\n",
       "        vertical-align: top;\n",
       "    }\n",
       "\n",
       "    .dataframe thead th {\n",
       "        text-align: right;\n",
       "    }\n",
       "</style>\n",
       "<table border=\"1\" class=\"dataframe\">\n",
       "  <thead>\n",
       "    <tr style=\"text-align: right;\">\n",
       "      <th></th>\n",
       "      <th>SITE_CODE</th>\n",
       "      <th>SITE_TITLE</th>\n",
       "      <th>SHORT_NAME</th>\n",
       "      <th>SITE_COMMO</th>\n",
       "      <th>SITE_TYPE_</th>\n",
       "      <th>SITE_SUB_T</th>\n",
       "      <th>SITE_STAGE</th>\n",
       "      <th>TARGET_COM</th>\n",
       "      <th>COMMODITY_</th>\n",
       "      <th>PROJ_CODE</th>\n",
       "      <th>PROJ_TITLE</th>\n",
       "      <th>WEB_LINK</th>\n",
       "      <th>EXTRACT_DA</th>\n",
       "      <th>geometry</th>\n",
       "    </tr>\n",
       "  </thead>\n",
       "  <tbody>\n",
       "    <tr>\n",
       "      <th>0</th>\n",
       "      <td>S0001482</td>\n",
       "      <td>Vivash Gorge</td>\n",
       "      <td>Vivash Gorge</td>\n",
       "      <td>Fe</td>\n",
       "      <td>Deposit</td>\n",
       "      <td>Unspecified</td>\n",
       "      <td>Undeveloped</td>\n",
       "      <td>IRON ORE</td>\n",
       "      <td>IRON</td>\n",
       "      <td>J03931</td>\n",
       "      <td>Brockman 4 Area / Rio Tinto</td>\n",
       "      <td>http://minedexext.dmp.wa.gov.au/minedex/extern...</td>\n",
       "      <td>2018-05-07</td>\n",
       "      <td>POINT (505671.537 7495706.968)</td>\n",
       "    </tr>\n",
       "    <tr>\n",
       "      <th>1</th>\n",
       "      <td>S0231563</td>\n",
       "      <td>Eliwana Exploration Camp</td>\n",
       "      <td>Exploration camp</td>\n",
       "      <td>Fe</td>\n",
       "      <td>Infrastructure</td>\n",
       "      <td>Town/Village/Camp</td>\n",
       "      <td>Operating</td>\n",
       "      <td>IRON ORE</td>\n",
       "      <td>IRON</td>\n",
       "      <td>J03436</td>\n",
       "      <td>Western Hub / FMG</td>\n",
       "      <td>http://minedexext.dmp.wa.gov.au/minedex/extern...</td>\n",
       "      <td>2018-05-07</td>\n",
       "      <td>POINT (503344.199 7511681.103)</td>\n",
       "    </tr>\n",
       "    <tr>\n",
       "      <th>2</th>\n",
       "      <td>S0233921</td>\n",
       "      <td>Eliwana Far East 2 Marra Mamba</td>\n",
       "      <td>Eliwana Far East 2 Marra Mamba</td>\n",
       "      <td>Fe</td>\n",
       "      <td>Deposit</td>\n",
       "      <td>Unspecified</td>\n",
       "      <td>Undeveloped</td>\n",
       "      <td>IRON ORE</td>\n",
       "      <td>IRON</td>\n",
       "      <td>J03436</td>\n",
       "      <td>Western Hub / FMG</td>\n",
       "      <td>http://minedexext.dmp.wa.gov.au/minedex/extern...</td>\n",
       "      <td>2018-05-07</td>\n",
       "      <td>POINT (505699.008 7509917.737)</td>\n",
       "    </tr>\n",
       "  </tbody>\n",
       "</table>\n",
       "</div>"
      ],
      "text/plain": [
       "  SITE_CODE                      SITE_TITLE                      SHORT_NAME  \\\n",
       "0  S0001482                    Vivash Gorge                    Vivash Gorge   \n",
       "1  S0231563        Eliwana Exploration Camp                Exploration camp   \n",
       "2  S0233921  Eliwana Far East 2 Marra Mamba  Eliwana Far East 2 Marra Mamba   \n",
       "\n",
       "  SITE_COMMO      SITE_TYPE_         SITE_SUB_T   SITE_STAGE TARGET_COM  \\\n",
       "0         Fe         Deposit        Unspecified  Undeveloped   IRON ORE   \n",
       "1         Fe  Infrastructure  Town/Village/Camp    Operating   IRON ORE   \n",
       "2         Fe         Deposit        Unspecified  Undeveloped   IRON ORE   \n",
       "\n",
       "  COMMODITY_ PROJ_CODE                   PROJ_TITLE  \\\n",
       "0       IRON    J03931  Brockman 4 Area / Rio Tinto   \n",
       "1       IRON    J03436            Western Hub / FMG   \n",
       "2       IRON    J03436            Western Hub / FMG   \n",
       "\n",
       "                                            WEB_LINK  EXTRACT_DA  \\\n",
       "0  http://minedexext.dmp.wa.gov.au/minedex/extern...  2018-05-07   \n",
       "1  http://minedexext.dmp.wa.gov.au/minedex/extern...  2018-05-07   \n",
       "2  http://minedexext.dmp.wa.gov.au/minedex/extern...  2018-05-07   \n",
       "\n",
       "                         geometry  \n",
       "0  POINT (505671.537 7495706.968)  \n",
       "1  POINT (503344.199 7511681.103)  \n",
       "2  POINT (505699.008 7509917.737)  "
      ]
     },
     "metadata": {},
     "output_type": "display_data"
    },
    {
     "data": {
      "text/markdown": [
       "**Based on file: C:/Users/00073294/Dropbox/1_Jupyter_notebooks/Peak_District/null_mindeps.shp**"
      ],
      "text/plain": [
       "<IPython.core.display.Markdown object>"
      ]
     },
     "metadata": {},
     "output_type": "display_data"
    },
    {
     "data": {
      "text/markdown": [
       "\n",
       "**Field that contains site code of deposit**"
      ],
      "text/plain": [
       "<IPython.core.display.Markdown object>"
      ]
     },
     "metadata": {},
     "output_type": "display_data"
    },
    {
     "data": {
      "application/vnd.jupyter.widget-view+json": {
       "model_id": "7aff921567b54b50b2fd0509a1209e92",
       "version_major": 2,
       "version_minor": 0
      },
      "text/plain": [
       "Dropdown(description='Site code', index=1, options=('No_col', 'SITE_CODE', 'SITE_TITLE', 'SHORT_NAME', 'SITE_C…"
      ]
     },
     "metadata": {},
     "output_type": "display_data"
    },
    {
     "data": {
      "text/markdown": [
       "**Field that contains short name of deposit (e.g. Jones deposit)**"
      ],
      "text/plain": [
       "<IPython.core.display.Markdown object>"
      ]
     },
     "metadata": {},
     "output_type": "display_data"
    },
    {
     "data": {
      "application/vnd.jupyter.widget-view+json": {
       "model_id": "82388e1a040246f6bd0904b24dff9217",
       "version_major": 2,
       "version_minor": 0
      },
      "text/plain": [
       "Dropdown(description='Short Name', index=3, options=('No_col', 'SITE_CODE', 'SITE_TITLE', 'SHORT_NAME', 'SITE_…"
      ]
     },
     "metadata": {},
     "output_type": "display_data"
    },
    {
     "data": {
      "text/markdown": [
       "**Field that contains site type of deposit (Mine, occurrence etc.)**"
      ],
      "text/plain": [
       "<IPython.core.display.Markdown object>"
      ]
     },
     "metadata": {},
     "output_type": "display_data"
    },
    {
     "data": {
      "application/vnd.jupyter.widget-view+json": {
       "model_id": "76c07e5752a647409e7825956f1dde1c",
       "version_major": 2,
       "version_minor": 0
      },
      "text/plain": [
       "Dropdown(description='Site type', index=5, options=('No_col', 'SITE_CODE', 'SITE_TITLE', 'SHORT_NAME', 'SITE_C…"
      ]
     },
     "metadata": {},
     "output_type": "display_data"
    },
    {
     "data": {
      "text/markdown": [
       "**Field that contains target commodity of deposit (Commodity)**"
      ],
      "text/plain": [
       "<IPython.core.display.Markdown object>"
      ]
     },
     "metadata": {},
     "output_type": "display_data"
    },
    {
     "data": {
      "application/vnd.jupyter.widget-view+json": {
       "model_id": "f48903e1d9d54a28ab564a5ff701ccad",
       "version_major": 2,
       "version_minor": 0
      },
      "text/plain": [
       "Dropdown(description='Target Comm', index=8, options=('No_col', 'SITE_CODE', 'SITE_TITLE', 'SHORT_NAME', 'SITE…"
      ]
     },
     "metadata": {},
     "output_type": "display_data"
    },
    {
     "data": {
      "text/markdown": [
       "**Field that contains site commodity of deposit (ore Mineral)**"
      ],
      "text/plain": [
       "<IPython.core.display.Markdown object>"
      ]
     },
     "metadata": {},
     "output_type": "display_data"
    },
    {
     "data": {
      "application/vnd.jupyter.widget-view+json": {
       "model_id": "1048cc692eed4dc2aa50cfbf45ce9f41",
       "version_major": 2,
       "version_minor": 0
      },
      "text/plain": [
       "Dropdown(description='Site Commodity', index=4, options=('No_col', 'SITE_CODE', 'SITE_TITLE', 'SHORT_NAME', 'S…"
      ]
     },
     "metadata": {},
     "output_type": "display_data"
    },
    {
     "data": {
      "text/markdown": [
       "**Field that contains commodity group of deposit (e.g. Metal)**"
      ],
      "text/plain": [
       "<IPython.core.display.Markdown object>"
      ]
     },
     "metadata": {},
     "output_type": "display_data"
    },
    {
     "data": {
      "application/vnd.jupyter.widget-view+json": {
       "model_id": "cb745a3fa2434b5f9ea5021281eaefa6",
       "version_major": 2,
       "version_minor": 0
      },
      "text/plain": [
       "Dropdown(description='Commodity', index=9, options=('No_col', 'SITE_CODE', 'SITE_TITLE', 'SHORT_NAME', 'SITE_C…"
      ]
     },
     "metadata": {},
     "output_type": "display_data"
    },
    {
     "data": {
      "text/markdown": [
       "**Text to search for in field defined by Site type code that shows site to ignore**"
      ],
      "text/plain": [
       "<IPython.core.display.Markdown object>"
      ]
     },
     "metadata": {},
     "output_type": "display_data"
    },
    {
     "data": {
      "application/vnd.jupyter.widget-view+json": {
       "model_id": "13379981f07a4361b75ed09cb8001d7b",
       "version_major": 2,
       "version_minor": 0
      },
      "text/plain": [
       "Text(value='Cons', description='Not mine text', placeholder='Cons')"
      ]
     },
     "metadata": {},
     "output_type": "display_data"
    }
   ],
   "source": [
    "c_l['o']=o_choice.value\n",
    "c_l['g']=g_choice.value\n",
    "c_l['g2']=g2_choice.value\n",
    "c_l['c']=c_choice.value\n",
    "c_l['ds']=ds_choice.value\n",
    "c_l['u']=u_choice.value\n",
    "c_l['r1']=r1_choice.value\n",
    "c_l['r2']=r2_choice.value\n",
    "c_l['sill']=sill_choice.value\n",
    "c_l['intrusive']=intrusive_choice.value\n",
    "c_l['volcanic']=volcanic_choice.value\n",
    "c_l['min']=min_choice.value\n",
    "c_l['max']=max_choice.value\n",
    "\n",
    "mindep=gpd.read_file(mindep_file)\n",
    "display(mindep.head())\n",
    "cols=['No_col']\n",
    "for sc in mindep.columns:\n",
    "    cols.append(sc)\n",
    "\n",
    "printmd('**Based on file:'+' '+mindep_file+'**')\n",
    "\n",
    "printmd('\\n**Field that contains site code of deposit**')\n",
    "\n",
    "msc_choice=widgets.Dropdown(\n",
    "    options=cols,\n",
    "    value='SITE_CODE',\n",
    "    description='Site code',\n",
    "    disabled=False\n",
    ")\n",
    "display(msc_choice)\n",
    "\n",
    "printmd('**Field that contains short name of deposit (e.g. Jones deposit)**')\n",
    "\n",
    "msn_choice=widgets.Dropdown(\n",
    "    options=cols,\n",
    "    value='SHORT_NAME',\n",
    "    description='Short Name',\n",
    "    disabled=False\n",
    ")\n",
    "display(msn_choice)\n",
    "\n",
    "printmd('**Field that contains site type of deposit (Mine, occurrence etc.)**')\n",
    "\n",
    "mst_choice=widgets.Dropdown(\n",
    "    options=cols,\n",
    "    value='SITE_TYPE_',\n",
    "    description='Site type',\n",
    "    disabled=False\n",
    ")\n",
    "display(mst_choice)\n",
    "\n",
    "\n",
    "printmd('**Field that contains target commodity of deposit (Commodity)**')\n",
    "\n",
    "mtc_choice=widgets.Dropdown(\n",
    "    options=cols,\n",
    "    value='TARGET_COM',\n",
    "    description='Target Comm',\n",
    "    disabled=False\n",
    ")\n",
    "display(mtc_choice)\n",
    "\n",
    "printmd('**Field that contains site commodity of deposit (ore Mineral)**')\n",
    "\n",
    "mscm_choice=widgets.Dropdown(\n",
    "    options=cols,\n",
    "    value='SITE_COMMO',\n",
    "    description='Site Commodity',\n",
    "    disabled=False\n",
    ")\n",
    "display(mscm_choice)\n",
    "\n",
    "printmd('**Field that contains commodity group of deposit (e.g. Metal)**')\n",
    "\n",
    "mcom_choice=widgets.Dropdown(\n",
    "    options=cols,\n",
    "    value='COMMODITY_',\n",
    "    description='Commodity',\n",
    "    disabled=False,\n",
    "    style=style\n",
    ")\n",
    "display(mcom_choice)\n",
    "\n",
    "printmd('**Text to search for in field defined by Site type code that shows site to ignore**')\n",
    "\n",
    "minf_choice=widgets.Text(\n",
    "    placeholder='Cons',\n",
    "    value='Cons',\n",
    "    description='Not mine text',\n",
    "    disabled=False\n",
    ")\n",
    "display(minf_choice)\n"
   ]
  },
  {
   "cell_type": "code",
   "execution_count": 64,
   "metadata": {},
   "outputs": [],
   "source": [
    "c_l['msc']=msc_choice.value\n",
    "c_l['msn']=msn_choice.value\n",
    "c_l['mst']=mst_choice.value\n",
    "c_l['mtc']=mtc_choice.value\n",
    "c_l['mscm']=mscm_choice.value\n",
    "c_l['mcom']=mcom_choice.value\n",
    "c_l['minf']=minf_choice.value\n",
    "\n",
    "if(not os.path.isdir(test_data_name)):\n",
    "    os.mkdir(test_data_name)\n",
    "f=open(test_data_name+'/'+test_data_name+'_config.hjson',\"w\")\n",
    "f.write(str(c_l).replace('\\n',''))\n",
    "f.write(\"\\n\")\n",
    "\n",
    "f.close()"
   ]
  },
  {
   "cell_type": "code",
   "execution_count": 65,
   "metadata": {},
   "outputs": [
    {
     "data": {
      "text/plain": [
       "{'d': 'DIP',\n",
       " 'dd': 'AZIMUTH',\n",
       " 'sf': 'NEWBGSVS2',\n",
       " 'bedding': 'rata',\n",
       " 'otype': 'dip direction',\n",
       " 'bo': 'FEATURE',\n",
       " 'btype': 'Blah',\n",
       " 'g': 'GP_EQ_D',\n",
       " 'g2': 'MAX_SUBPER',\n",
       " 'c': 'FM_EQ_D',\n",
       " 'ds': 'LEX_D',\n",
       " 'u': 'MIN_SUBPER',\n",
       " 'r1': 'LEX',\n",
       " 'r2': 'GP_EQ',\n",
       " 'sill': 'sill',\n",
       " 'intrusive': 'INTRUSION',\n",
       " 'volcanic': 'volc',\n",
       " 'msc': 'SITE_CODE',\n",
       " 'msn': 'SHORT_NAME',\n",
       " 'mst': 'SITE_TYPE_',\n",
       " 'mtc': 'TARGET_COM',\n",
       " 'mscm': 'SITE_COMMO',\n",
       " 'mcom': 'COMMODITY_',\n",
       " 'minf': 'Cons',\n",
       " 'min': 'MIN_TIME_Y',\n",
       " 'max': 'MAX_TIME_Y',\n",
       " 'f': 'FEATURE',\n",
       " 'fault': 'Fault',\n",
       " 'ff': 'FEATURE',\n",
       " 'fold': 'Fold',\n",
       " 'fdip': 'No_col',\n",
       " 'fdipnull': '0',\n",
       " 'fdipdir': 'No_col',\n",
       " 'fdipdir_flag': 'alpha',\n",
       " 'fdipest': 'No_col',\n",
       " 'fdipest_vals': 'No_col',\n",
       " 'n': 'No_col',\n",
       " 't': 'HWALL_ROSE',\n",
       " 'syn': 'syn',\n",
       " 'o': 'OBJECTID',\n",
       " 'gi': 'OBJECTID',\n",
       " 'deposit_dist': 500}"
      ]
     },
     "execution_count": 65,
     "metadata": {},
     "output_type": "execute_result"
    }
   ],
   "source": [
    "c_l"
   ]
  },
  {
   "cell_type": "code",
   "execution_count": 66,
   "metadata": {},
   "outputs": [],
   "source": [
    "f=open(test_data_name+'/run_m2l.py',\"w\")\n",
    "f.write(\"\\\n",
    "\\\n",
    "import os\\n\\\n",
    "from map2loop.project import Project\\n\\\n",
    "\\n\\\n",
    "proj = Project(\\n\\\n",
    "                  geology_file='\"+geology_file+\"',\\n\\\n",
    "                  fault_file='\"+fault_file+\"',\\n\\\n",
    "                  fold_file='\"+fold_file+\"',\\n\\\n",
    "                  structure_file='\"+structure_file+\"',\\n\\\n",
    "                  mindep_file='\"+mindep_file+\"',\\n\\\n",
    "                  metadata='\"+\"./\"+test_data_name+\"_config.hjson'\\n\\\n",
    "                )\\n\\\n",
    "\\n\\\n",
    "proj.update_config(\\n\\\n",
    "                    out_dir='\"+test_data_name+\"',\\n\\\n",
    "                    overwrite='true',\\n\\\n",
    "                    bbox_3d={\\n\\\n",
    "                         'minx': \"+minx+\" ,\\n\\\n",
    "                         'miny': \"+miny+\" ,\\n\\\n",
    "                         'maxx': \"+maxx+\" ,\\n\\\n",
    "                         'maxy': \"+maxy+\" ,\\n\\\n",
    "                         'base': \"+minz+\",\\n\\\n",
    "                         'top':  \"+maxz+\",\\n\\\n",
    "                         'local' : True,\\n\\\n",
    "                     },\\n\\\n",
    "                    proj_crs={'init': '\"+dst_crs+\"'},\\n\\\n",
    "                    quiet=True\\n\\\n",
    "                  )\\n\\\n",
    "\\nproj.run(aus=False)\\n\"   \n",
    "        \n",
    ")\n",
    "f.write(\"\\n\")\n",
    "f.close()"
   ]
  },
  {
   "cell_type": "code",
   "execution_count": null,
   "metadata": {},
   "outputs": [],
   "source": []
  }
 ],
 "metadata": {
  "kernelspec": {
   "display_name": "Python 3",
   "language": "python",
   "name": "python3"
  },
  "language_info": {
   "codemirror_mode": {
    "name": "ipython",
    "version": 3
   },
   "file_extension": ".py",
   "mimetype": "text/x-python",
   "name": "python",
   "nbconvert_exporter": "python",
   "pygments_lexer": "ipython3",
   "version": "3.7.10"
  }
 },
 "nbformat": 4,
 "nbformat_minor": 4
}
