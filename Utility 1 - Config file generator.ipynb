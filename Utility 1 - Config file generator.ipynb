{
 "cells": [
  {
   "cell_type": "markdown",
   "metadata": {},
   "source": [
    "### Config file generator\n",
    "This simple notebook provides a tool for generating map2loop config hjson files, one of the more annoying parts of the process.\n",
    "   \n",
    "1. It first gets the project name and destination projection system (as EPSG number)   \n",
    "   \n",
    "2. It then asks for the paths to the different shape files (for WFS you will have to edit this manually afterwards)   \n",
    "   \n",
    "3. Finally for each input file, you have to define which fields to use, and which keywords to look for in some of these fields   \n",
    "     \n",
    "4. Finally, make a copy of the <a href=\"Example 3 - Local Source Data.ipynb\" target=\"_blank\">Generic local file notebook</a> and on line 14 of the second cell change **metadata='path_to_your_new_hjson_file'**) \n"
   ]
  },
  {
   "cell_type": "code",
   "execution_count": 1,
   "metadata": {},
   "outputs": [],
   "source": [
    "#!conda install ipyfilechooser\n",
    "from ipyfilechooser import FileChooser\n",
    "import geopandas as gpd\n",
    "import ipywidgets as widgets\n",
    "import pandas as pd\n",
    "import os\n",
    "from IPython.display import Markdown, display\n",
    "\n",
    "def printmd(string):\n",
    "    display(Markdown(string))\n",
    "    \n",
    "pd.options.display.max_columns = None\n",
    "style = {'description_width': 'initial'}\n",
    "c_l= {\n",
    "#Orientations\n",
    "  \"d\": \"dip\",                  #field that contains dip information\n",
    "  \"dd\": \"azimuth\",             #field that contains dip direction information\n",
    "  \"sf\": 'codedescpt',             #field that contains information on type of structure\n",
    "  \"bedding\": 'bedding',            #text to search for in field defined by sf code to show that this is a bedding measurement\n",
    "  \"otype\": 'dip direction',            #flag to determine measurement convention (currently 'strike' or 'dip direction')\n",
    "  \"bo\": \"deform\",             #field that contains type of foliation\n",
    "  \"btype\": 'BEOI',            #text to search for in field defined by bo code to show that this is an overturned bedding measurement\n",
    "#stratigraphy\n",
    "  \"g\": 'sub_provin',               #field that contains coarser stratigraphic coding\n",
    "  \"g2\": 'province',              #field that contains alternate coarser stratigraphic coding if 'g' is blank\n",
    "  \"c\": 'unit_name',                 #field that contains finer stratigraphic coding\n",
    "  \"ds\": 'deposition',           #field that contains information about lithology\n",
    "  \"u\": 'nsw_code',             #field that contains alternate stratigraphic coding (not used??)\n",
    "  \"r1\": 'class',           #field that contains  extra lithology information\n",
    "  \"r2\": 'igneous_ty',           #field that contains even more lithology information\n",
    "  \"sill\": 'sill',              #text to search for in field defined by ds code to show that this is a sill\n",
    "  \"intrusive\": 'intrusive',    #text to search for in field defined by r1 code to show that this is an intrusion\n",
    "  \"volcanic\": 'volcanic',      #text to search for in field defined by ds code to show that this is an volcanic (not intrusion)\n",
    "#mineral deposits\n",
    "  \"msc\": 'SITE_CODE',          #field that contains site code of deposit\n",
    "  \"msn\": 'SHORT_NAME',         #field that contains short name of deposit\n",
    "  \"mst\": 'SITE_TYPE_',         #field that contains site type of deposit\n",
    "  \"mtc\": 'TARGET_COM',         #field that contains target commodity of deposit\n",
    "  \"mscm\": 'SITE_COMMO',        #field that contains site commodity of deposit\n",
    "  \"mcom\": 'COMMODITY_',        #field that contains commodity group of deposit\n",
    "  \"minf\": 'Infrastructure',    #text to search for in field defined by mst code that shows site to ignore\n",
    "#timing\n",
    "  \"min\": 'top_end_ag',         #field that contains minimum age of unit defined by ccode\n",
    "  \"max\": 'base_start',         #field that contains maximum age of unit defined by ccode\n",
    "#faults and folds\n",
    "  \"f\": 'boundaryty',              #field that contains information on type of structure\n",
    "  \"fault\": 'Fault',            #text to search for in field defined by f code to show that this is a fault\n",
    "  \"ff\": 'codedescpt',  # field that contains information on type of structure\n",
    "  \"fold\": 'cline',  #text to search for in field defined by ff code to show that this is a fold axial trace\n",
    "  \"fdip\": 'dip',               # field for numeric fault dip value\n",
    "  \"fdipnull\": '0',         # text to search for in field defined by fdip to show that this has no known dip\n",
    "  \"fdipdir\": 'faultdipdi',        # field for text fault dip direction value \n",
    "  \"fdipdir_flag\": 'alpha',        # flag for text fault dip direction type num e.g. 045 or alpha e.g. southeast    \n",
    "  \"fdipest\": 'faultdipan',        # field for text fault dip estimate value\n",
    "  \"fdipest_vals\": 'Moderate,Listric,Steep,Vertical',        # text to search for in field defined by fdipest to give fault dip estimate in increasing steepness\n",
    "  \"n\": 'name',                 #field that contains information on name of fault (not used??)\n",
    "  \"t\": 'codedescpt',                 #field that contains information on type of fold\n",
    "  \"syn\": 'Syncline',           #text to search for in field defined by t to show that this is a syncline\n",
    "#ids\n",
    "  \"o\": 'unique_id',             #field that contains unique id of geometry object\n",
    "  \"gi\": 'objectid',            #field that contains unique id of structure point\n",
    "  \"deposit_dist\":500           # dist between mindep and contact to be considered \"on contact\"\n",
    "}"
   ]
  },
  {
   "cell_type": "code",
   "execution_count": 2,
   "metadata": {},
   "outputs": [
    {
     "data": {
      "application/vnd.jupyter.widget-view+json": {
       "model_id": "157c5666ffee4d2693138f89449b751a",
       "version_major": 2,
       "version_minor": 0
      },
      "text/plain": [
       "Text(value='Test', description='Project Name:', placeholder='Test', style=DescriptionStyle(description_width='…"
      ]
     },
     "metadata": {},
     "output_type": "display_data"
    },
    {
     "data": {
      "application/vnd.jupyter.widget-view+json": {
       "model_id": "5961937f9fe14d69b096c13e1609362f",
       "version_major": 2,
       "version_minor": 0
      },
      "text/plain": [
       "Dropdown(description='CRS EPSG:', options=('28348: GDA94 // MGA zone 48', '28349: GDA94 // MGA zone 49', '2835…"
      ]
     },
     "metadata": {},
     "output_type": "display_data"
    }
   ],
   "source": [
    "test_data_name_choice=widgets.Text(\n",
    "    placeholder='Test',\n",
    "    value='Test',\n",
    "    description='Project Name:',\n",
    "    disabled=False,\n",
    "    style=style,\n",
    "    tooltip='Name of directory to hold config file (relative path)'\n",
    ")\n",
    "display(test_data_name_choice)\n",
    "\n",
    "epsg=pd.read_csv('source_data/epsg.csv')\n",
    "\n",
    "crs_choice=widgets.Dropdown(\n",
    "    options=epsg['epsg'],\n",
    "    description='CRS EPSG:',\n",
    "    disabled=False\n",
    ")\n",
    "display(crs_choice)\n"
   ]
  },
  {
   "cell_type": "code",
   "execution_count": 4,
   "metadata": {},
   "outputs": [
    {
     "data": {
      "text/markdown": [
       "**Test, epsg:28355**"
      ],
      "text/plain": [
       "<IPython.core.display.Markdown object>"
      ]
     },
     "metadata": {},
     "output_type": "display_data"
    }
   ],
   "source": [
    "test_data_name=test_data_name_choice.value\n",
    "epsg_code=crs_choice.value.split(\":\")\n",
    "dst_crs='epsg:'+epsg_code[0]\n",
    "printmd('**'+test_data_name+\", \"+dst_crs+'**')"
   ]
  },
  {
   "cell_type": "code",
   "execution_count": 5,
   "metadata": {},
   "outputs": [
    {
     "data": {
      "application/vnd.jupyter.widget-view+json": {
       "model_id": "0bd13989febd4d1fa6085cfa7a89cb7d",
       "version_major": 2,
       "version_minor": 0
      },
      "text/plain": [
       "Text(value='0', description='min x:', placeholder='0', style=DescriptionStyle(description_width='initial'))"
      ]
     },
     "metadata": {},
     "output_type": "display_data"
    },
    {
     "data": {
      "application/vnd.jupyter.widget-view+json": {
       "model_id": "2b4c4faeecb244718bf5b865bec1104e",
       "version_major": 2,
       "version_minor": 0
      },
      "text/plain": [
       "Text(value='1', description='max x:', placeholder='1', style=DescriptionStyle(description_width='initial'))"
      ]
     },
     "metadata": {},
     "output_type": "display_data"
    },
    {
     "data": {
      "application/vnd.jupyter.widget-view+json": {
       "model_id": "b014f06d3e11421c8e35c718baa328a1",
       "version_major": 2,
       "version_minor": 0
      },
      "text/plain": [
       "Text(value='0', description='min y:', placeholder='0', style=DescriptionStyle(description_width='initial'))"
      ]
     },
     "metadata": {},
     "output_type": "display_data"
    },
    {
     "data": {
      "application/vnd.jupyter.widget-view+json": {
       "model_id": "e92b05eb0c6340e59b92a726e80f871f",
       "version_major": 2,
       "version_minor": 0
      },
      "text/plain": [
       "Text(value='1', description='max y:', placeholder='1', style=DescriptionStyle(description_width='initial'))"
      ]
     },
     "metadata": {},
     "output_type": "display_data"
    },
    {
     "data": {
      "application/vnd.jupyter.widget-view+json": {
       "model_id": "b0643b339a504814b8948c865dfe580b",
       "version_major": 2,
       "version_minor": 0
      },
      "text/plain": [
       "Text(value='0', description='min z:', placeholder='0', style=DescriptionStyle(description_width='initial'))"
      ]
     },
     "metadata": {},
     "output_type": "display_data"
    },
    {
     "data": {
      "application/vnd.jupyter.widget-view+json": {
       "model_id": "121deb41bdc241e4b11a8095c0dd0d89",
       "version_major": 2,
       "version_minor": 0
      },
      "text/plain": [
       "Text(value='1', description='max z:', placeholder='1', style=DescriptionStyle(description_width='initial'))"
      ]
     },
     "metadata": {},
     "output_type": "display_data"
    }
   ],
   "source": [
    "minx_choice=widgets.Text(\n",
    "    placeholder='0',\n",
    "    value='0',\n",
    "    description='min x:',\n",
    "    disabled=False,\n",
    "    style=style\n",
    ")\n",
    "display(minx_choice)\n",
    "\n",
    "maxx_choice=widgets.Text(\n",
    "    placeholder='1',\n",
    "    value='1',\n",
    "    description='max x:',\n",
    "    disabled=False,\n",
    "    style=style\n",
    ")\n",
    "display(maxx_choice)\n",
    "\n",
    "miny_choice=widgets.Text(\n",
    "    placeholder='0',\n",
    "    value='0',\n",
    "    description='min y:',\n",
    "    disabled=False,\n",
    "    style=style\n",
    ")\n",
    "display(miny_choice)\n",
    "\n",
    "maxy_choice=widgets.Text(\n",
    "    placeholder='1',\n",
    "    value='1',\n",
    "    description='max y:',\n",
    "    disabled=False,\n",
    "    style=style\n",
    ")\n",
    "display(maxy_choice)\n",
    "\n",
    "minz_choice=widgets.Text(\n",
    "    placeholder='0',\n",
    "    value='0',\n",
    "    description='min z:',\n",
    "    disabled=False,\n",
    "    style=style\n",
    ")\n",
    "display(minz_choice)\n",
    "\n",
    "maxz_choice=widgets.Text(\n",
    "    placeholder='1',\n",
    "    value='1',\n",
    "    description='max z:',\n",
    "    disabled=False,\n",
    "    style=style\n",
    ")\n",
    "display(maxz_choice)\n"
   ]
  },
  {
   "cell_type": "code",
   "execution_count": 6,
   "metadata": {
    "scrolled": false
   },
   "outputs": [
    {
     "data": {
      "application/vnd.jupyter.widget-view+json": {
       "model_id": "61af955fb5e44497946181e90d2ccc37",
       "version_major": 2,
       "version_minor": 0
      },
      "text/plain": [
       "FileChooser(path='../', filename='', show_hidden='False')"
      ]
     },
     "metadata": {},
     "output_type": "display_data"
    },
    {
     "data": {
      "application/vnd.jupyter.widget-view+json": {
       "model_id": "6b496bef19364cc3a7821c616594fa1c",
       "version_major": 2,
       "version_minor": 0
      },
      "text/plain": [
       "FileChooser(path='../', filename='', show_hidden='False')"
      ]
     },
     "metadata": {},
     "output_type": "display_data"
    },
    {
     "data": {
      "application/vnd.jupyter.widget-view+json": {
       "model_id": "acd05e801a884c46824ef3b5b089afab",
       "version_major": 2,
       "version_minor": 0
      },
      "text/plain": [
       "FileChooser(path='../', filename='', show_hidden='False')"
      ]
     },
     "metadata": {},
     "output_type": "display_data"
    },
    {
     "data": {
      "application/vnd.jupyter.widget-view+json": {
       "model_id": "474b3718886549f3868f01ba3a5f5598",
       "version_major": 2,
       "version_minor": 0
      },
      "text/plain": [
       "FileChooser(path='../', filename='', show_hidden='False')"
      ]
     },
     "metadata": {},
     "output_type": "display_data"
    },
    {
     "data": {
      "application/vnd.jupyter.widget-view+json": {
       "model_id": "1ffe7912c90c48e68d84759c230a9118",
       "version_major": 2,
       "version_minor": 0
      },
      "text/plain": [
       "FileChooser(path='../', filename='null_mindeps.shp', show_hidden='False')"
      ]
     },
     "metadata": {},
     "output_type": "display_data"
    }
   ],
   "source": [
    "minx=minx_choice.value\n",
    "maxx=maxx_choice.value\n",
    "miny=miny_choice.value\n",
    "maxy=maxy_choice.value\n",
    "minz=minz_choice.value\n",
    "maxz=maxz_choice.value\n",
    "\n",
    "\n",
    "structure_file_m = FileChooser('../')\n",
    "structure_file_m.title = '<b>Choose Bedding Orientation point file</b>'\n",
    "display(structure_file_m)\n",
    "\n",
    "fault_file_m = FileChooser('../')\n",
    "fault_file_m.title = '<b>Choose Fault polyline file</b>'\n",
    "display(fault_file_m)\n",
    "\n",
    "fold_file_m = FileChooser('../')\n",
    "fold_file_m.title = '<b>Choose Fold polyline file</b>'\n",
    "display(fold_file_m)\n",
    "\n",
    "geology_file_m = FileChooser('../')\n",
    "geology_file_m.title = '<b>Choose Geology polygon file</b>'\n",
    "display(geology_file_m)\n",
    "\n",
    "mindep_file_m = FileChooser('../')\n",
    "mindep_file_m.title = '<b>Choose Mineral Deposit point file (or use null_mindeps.shp from source_data directory)</b>'\n",
    "#mindep_file_m.default_path = '../source_data/'\n",
    "mindep_file_m.default_filename = 'null_mindeps.shp'\n",
    "display(mindep_file_m)\n",
    "\n"
   ]
  },
  {
   "cell_type": "code",
   "execution_count": 7,
   "metadata": {},
   "outputs": [
    {
     "data": {
      "text/plain": [
       "'D:/Dropbox/1_Jupyter_notebooks/MISO_3DModel/3DModel/source_data/bedding.shp'"
      ]
     },
     "metadata": {},
     "output_type": "display_data"
    },
    {
     "data": {
      "text/plain": [
       "''"
      ]
     },
     "metadata": {},
     "output_type": "display_data"
    },
    {
     "data": {
      "text/plain": [
       "''"
      ]
     },
     "metadata": {},
     "output_type": "display_data"
    },
    {
     "data": {
      "text/plain": [
       "''"
      ]
     },
     "metadata": {},
     "output_type": "display_data"
    },
    {
     "data": {
      "text/plain": [
       "''"
      ]
     },
     "metadata": {},
     "output_type": "display_data"
    }
   ],
   "source": [
    "if(str(structure_file_m.selected_path) =='None'):\n",
    "    structure_file=''\n",
    "else:\n",
    "    structure_file=structure_file_m.selected_path.replace('\\\\','/')+'/'+structure_file_m.selected_filename\n",
    "if(str(fault_file_m.selected_path) =='None'):\n",
    "    fault_file=''\n",
    "else:\n",
    "    fault_file=fault_file_m.selected_path.replace('\\\\','/')+'/'+fault_file_m.selected_filename\n",
    "if(str(fold_file_m.selected_path) =='None'):\n",
    "    fold_file=''\n",
    "else:\n",
    "    fold_file=fold_file_m.selected_path.replace('\\\\','/')+'/'+fold_file_m.selected_filename\n",
    "if(str(geology_file_m.selected_path) =='None'):\n",
    "    geology_file=''\n",
    "else:\n",
    "    geology_file=geology_file_m.selected_path.replace('\\\\','/')+'/'+geology_file_m.selected_filename\n",
    "if(str(mindep_file_m.selected_path) =='None'):\n",
    "    mindep_file=''\n",
    "else:\n",
    "    mindep_file=mindep_file_m.selected_path.replace('\\\\','/')+'/'+mindep_file_m.selected_filename\n",
    "\n",
    "display(structure_file,fault_file,fold_file,geology_file,mindep_file)"
   ]
  },
  {
   "cell_type": "code",
   "execution_count": 8,
   "metadata": {},
   "outputs": [
    {
     "data": {
      "text/html": [
       "<div>\n",
       "<style scoped>\n",
       "    .dataframe tbody tr th:only-of-type {\n",
       "        vertical-align: middle;\n",
       "    }\n",
       "\n",
       "    .dataframe tbody tr th {\n",
       "        vertical-align: top;\n",
       "    }\n",
       "\n",
       "    .dataframe thead th {\n",
       "        text-align: right;\n",
       "    }\n",
       "</style>\n",
       "<table border=\"1\" class=\"dataframe\">\n",
       "  <thead>\n",
       "    <tr style=\"text-align: right;\">\n",
       "      <th></th>\n",
       "      <th>D_Tdip</th>\n",
       "      <th>TDD</th>\n",
       "      <th>X</th>\n",
       "      <th>Y</th>\n",
       "      <th>ID</th>\n",
       "      <th>TYPE</th>\n",
       "      <th>Polarity</th>\n",
       "      <th>younging</th>\n",
       "      <th>geometry</th>\n",
       "    </tr>\n",
       "  </thead>\n",
       "  <tbody>\n",
       "    <tr>\n",
       "      <th>0</th>\n",
       "      <td>56.143027</td>\n",
       "      <td>267.44</td>\n",
       "      <td>370725.760</td>\n",
       "      <td>7463079.530</td>\n",
       "      <td>0</td>\n",
       "      <td>Bedding</td>\n",
       "      <td>1</td>\n",
       "      <td>normal</td>\n",
       "      <td>POINT (370725.760 7463079.530)</td>\n",
       "    </tr>\n",
       "    <tr>\n",
       "      <th>1</th>\n",
       "      <td>44.393589</td>\n",
       "      <td>254.48</td>\n",
       "      <td>341138.142</td>\n",
       "      <td>7420915.440</td>\n",
       "      <td>1</td>\n",
       "      <td>Bedding</td>\n",
       "      <td>1</td>\n",
       "      <td>normal</td>\n",
       "      <td>POINT (341138.142 7420915.440)</td>\n",
       "    </tr>\n",
       "    <tr>\n",
       "      <th>2</th>\n",
       "      <td>44.393589</td>\n",
       "      <td>254.48</td>\n",
       "      <td>348004.094</td>\n",
       "      <td>7424209.509</td>\n",
       "      <td>2</td>\n",
       "      <td>Bedding</td>\n",
       "      <td>1</td>\n",
       "      <td>normal</td>\n",
       "      <td>POINT (348004.094 7424209.509)</td>\n",
       "    </tr>\n",
       "    <tr>\n",
       "      <th>3</th>\n",
       "      <td>64.327065</td>\n",
       "      <td>231.54</td>\n",
       "      <td>361390.058</td>\n",
       "      <td>7441229.998</td>\n",
       "      <td>3</td>\n",
       "      <td>Bedding</td>\n",
       "      <td>1</td>\n",
       "      <td>normal</td>\n",
       "      <td>POINT (361390.058 7441229.998)</td>\n",
       "    </tr>\n",
       "    <tr>\n",
       "      <th>4</th>\n",
       "      <td>84.723992</td>\n",
       "      <td>68.55</td>\n",
       "      <td>356963.745</td>\n",
       "      <td>7497156.825</td>\n",
       "      <td>4</td>\n",
       "      <td>Bedding</td>\n",
       "      <td>1</td>\n",
       "      <td>normal</td>\n",
       "      <td>POINT (356963.745 7497156.825)</td>\n",
       "    </tr>\n",
       "  </tbody>\n",
       "</table>\n",
       "</div>"
      ],
      "text/plain": [
       "      D_Tdip     TDD           X            Y  ID     TYPE  Polarity younging  \\\n",
       "0  56.143027  267.44  370725.760  7463079.530   0  Bedding         1   normal   \n",
       "1  44.393589  254.48  341138.142  7420915.440   1  Bedding         1   normal   \n",
       "2  44.393589  254.48  348004.094  7424209.509   2  Bedding         1   normal   \n",
       "3  64.327065  231.54  361390.058  7441229.998   3  Bedding         1   normal   \n",
       "4  84.723992   68.55  356963.745  7497156.825   4  Bedding         1   normal   \n",
       "\n",
       "                         geometry  \n",
       "0  POINT (370725.760 7463079.530)  \n",
       "1  POINT (341138.142 7420915.440)  \n",
       "2  POINT (348004.094 7424209.509)  \n",
       "3  POINT (361390.058 7441229.998)  \n",
       "4  POINT (356963.745 7497156.825)  "
      ]
     },
     "metadata": {},
     "output_type": "display_data"
    },
    {
     "data": {
      "text/markdown": [
       "**Based on file: D:/Dropbox/1_Jupyter_notebooks/MISO_3DModel/3DModel/source_data/bedding.shp**"
      ],
      "text/plain": [
       "<IPython.core.display.Markdown object>"
      ]
     },
     "metadata": {},
     "output_type": "display_data"
    },
    {
     "data": {
      "text/markdown": [
       "\n",
       "**Field that contains unique id of structure point**"
      ],
      "text/plain": [
       "<IPython.core.display.Markdown object>"
      ]
     },
     "metadata": {},
     "output_type": "display_data"
    },
    {
     "data": {
      "application/vnd.jupyter.widget-view+json": {
       "model_id": "ae7df13dab524e9189279e80dfc8e85c",
       "version_major": 2,
       "version_minor": 0
      },
      "text/plain": [
       "Dropdown(description='Unique ID', options=('No_col', 'D_Tdip', 'TDD', 'X', 'Y', 'ID', 'TYPE', 'Polarity', 'you…"
      ]
     },
     "metadata": {},
     "output_type": "display_data"
    },
    {
     "data": {
      "text/markdown": [
       "**Field that contains information on type of structure (e.g. bedding, cleavage etc.)**"
      ],
      "text/plain": [
       "<IPython.core.display.Markdown object>"
      ]
     },
     "metadata": {},
     "output_type": "display_data"
    },
    {
     "data": {
      "application/vnd.jupyter.widget-view+json": {
       "model_id": "bae2a1cfee7843e4afab84be08d29be0",
       "version_major": 2,
       "version_minor": 0
      },
      "text/plain": [
       "Dropdown(description='Structure', options=('No_col', 'D_Tdip', 'TDD', 'X', 'Y', 'ID', 'TYPE', 'Polarity', 'you…"
      ]
     },
     "metadata": {},
     "output_type": "display_data"
    },
    {
     "data": {
      "text/markdown": [
       "**Text to search for in field defined by type of structure code to show that this is a bedding measurement**"
      ],
      "text/plain": [
       "<IPython.core.display.Markdown object>"
      ]
     },
     "metadata": {},
     "output_type": "display_data"
    },
    {
     "data": {
      "application/vnd.jupyter.widget-view+json": {
       "model_id": "c00793f6076f44d094e9df64310841e3",
       "version_major": 2,
       "version_minor": 0
      },
      "text/plain": [
       "Text(value='Bed', description='Bedding text', placeholder='Bed')"
      ]
     },
     "metadata": {},
     "output_type": "display_data"
    },
    {
     "data": {
      "text/markdown": [
       "**Field that contains dip information**"
      ],
      "text/plain": [
       "<IPython.core.display.Markdown object>"
      ]
     },
     "metadata": {},
     "output_type": "display_data"
    },
    {
     "data": {
      "application/vnd.jupyter.widget-view+json": {
       "model_id": "155b94d68bff4e2bb2c87f096aa88a03",
       "version_major": 2,
       "version_minor": 0
      },
      "text/plain": [
       "Dropdown(description='Dip', options=('No_col', 'D_Tdip', 'TDD', 'X', 'Y', 'ID', 'TYPE', 'Polarity', 'younging'…"
      ]
     },
     "metadata": {},
     "output_type": "display_data"
    },
    {
     "data": {
      "text/markdown": [
       "**Field that contains dip direction or strike information**"
      ],
      "text/plain": [
       "<IPython.core.display.Markdown object>"
      ]
     },
     "metadata": {},
     "output_type": "display_data"
    },
    {
     "data": {
      "application/vnd.jupyter.widget-view+json": {
       "model_id": "c05c9a7abbfb42ecb28700438e9745cb",
       "version_major": 2,
       "version_minor": 0
      },
      "text/plain": [
       "Dropdown(description='Dip Direction', options=('No_col', 'D_Tdip', 'TDD', 'X', 'Y', 'ID', 'TYPE', 'Polarity', …"
      ]
     },
     "metadata": {},
     "output_type": "display_data"
    },
    {
     "data": {
      "text/markdown": [
       "**Flag to determine measurement convention**"
      ],
      "text/plain": [
       "<IPython.core.display.Markdown object>"
      ]
     },
     "metadata": {},
     "output_type": "display_data"
    },
    {
     "data": {
      "application/vnd.jupyter.widget-view+json": {
       "model_id": "2058451ed72b4c2f96a034efd6974061",
       "version_major": 2,
       "version_minor": 0
      },
      "text/plain": [
       "Dropdown(description='Convention', options=('dip direction', 'strike'), value='dip direction')"
      ]
     },
     "metadata": {},
     "output_type": "display_data"
    },
    {
     "data": {
      "text/markdown": [
       "**Field that contains polarity of foliation (upward facing or not)**"
      ],
      "text/plain": [
       "<IPython.core.display.Markdown object>"
      ]
     },
     "metadata": {},
     "output_type": "display_data"
    },
    {
     "data": {
      "application/vnd.jupyter.widget-view+json": {
       "model_id": "4897d8e8cf3746dfa77e3e7effd95077",
       "version_major": 2,
       "version_minor": 0
      },
      "text/plain": [
       "Dropdown(description='Polarity', options=('No_col', 'D_Tdip', 'TDD', 'X', 'Y', 'ID', 'TYPE', 'Polarity', 'youn…"
      ]
     },
     "metadata": {},
     "output_type": "display_data"
    },
    {
     "data": {
      "text/markdown": [
       "**Text to search for in field defined by Polarity code to show that this is an overturned bedding measurement**"
      ],
      "text/plain": [
       "<IPython.core.display.Markdown object>"
      ]
     },
     "metadata": {},
     "output_type": "display_data"
    },
    {
     "data": {
      "application/vnd.jupyter.widget-view+json": {
       "model_id": "aa17a3d2be554cf3b7c647e1b9b64576",
       "version_major": 2,
       "version_minor": 0
      },
      "text/plain": [
       "Text(value='Blah', description='Pol. text', placeholder='Blah')"
      ]
     },
     "metadata": {},
     "output_type": "display_data"
    }
   ],
   "source": [
    "if(not structure_file==''):\n",
    "    structure=gpd.read_file(structure_file)\n",
    "    display(structure.head())\n",
    "    \n",
    "    cols=['No_col']\n",
    "    for sc in structure.columns:\n",
    "        cols.append(sc)\n",
    "        \n",
    "    printmd('**Based on file: '+structure_file+'**')\n",
    "    printmd('\\n**Field that contains unique id of structure point**')\n",
    "    gi_choice=widgets.Dropdown(\n",
    "        options=cols,\n",
    "        description='Unique ID',\n",
    "        disabled=False\n",
    "\n",
    "    )\n",
    "    display(gi_choice)\n",
    "\n",
    "    printmd('**Field that contains information on type of structure (e.g. bedding, cleavage etc.)**')\n",
    "\n",
    "    sf_choice=widgets.Dropdown(\n",
    "        options=cols,\n",
    "        description='Structure',\n",
    "        disabled=False\n",
    "    )\n",
    "    display(sf_choice)\n",
    "\n",
    "    printmd('**Text to search for in field defined by type of structure code to show that this is a bedding measurement**')\n",
    "\n",
    "    bedding_choice=widgets.Text(\n",
    "        placeholder='Bed',\n",
    "        value='Bed',\n",
    "        description='Bedding text',\n",
    "        disabled=False\n",
    "    )\n",
    "    display(bedding_choice)\n",
    "\n",
    "    printmd('**Field that contains dip information**')\n",
    "\n",
    "    d_choice=widgets.Dropdown(\n",
    "        options=cols,\n",
    "        description='Dip',\n",
    "        disabled=False\n",
    "    )\n",
    "    display(d_choice)\n",
    "\n",
    "    printmd('**Field that contains dip direction or strike information**')\n",
    "\n",
    "    dd_choice=widgets.Dropdown(\n",
    "        options=cols,\n",
    "        description='Dip Direction',\n",
    "        disabled=False\n",
    "    )\n",
    "    display(dd_choice)\n",
    "\n",
    "    printmd('**Flag to determine measurement convention**')\n",
    "\n",
    "    otype_choice=widgets.Dropdown(\n",
    "        options=('dip direction','strike'),\n",
    "        description='Convention',\n",
    "        disabled=False\n",
    "    )\n",
    "    display(otype_choice)\n",
    "\n",
    "    printmd('**Field that contains polarity of foliation (upward facing or not)**')\n",
    "\n",
    "    bo_choice=widgets.Dropdown(\n",
    "        options=cols,\n",
    "        description='Polarity',\n",
    "        disabled=False\n",
    "    )\n",
    "    display(bo_choice)\n",
    "\n",
    "    printmd('**Text to search for in field defined by Polarity code to show that this is an overturned bedding measurement**')\n",
    "\n",
    "    btype_choice=widgets.Text(\n",
    "        placeholder='Blah',\n",
    "        value='Blah',\n",
    "        description='Pol. text',\n",
    "        disabled=False\n",
    "    )\n",
    "    display(btype_choice)\n",
    "\n"
   ]
  },
  {
   "cell_type": "code",
   "execution_count": 9,
   "metadata": {},
   "outputs": [],
   "source": [
    "c_l['gi']=gi_choice.value\n",
    "c_l['sf']=sf_choice.value\n",
    "c_l['bedding']=bedding_choice.value\n",
    "c_l['d']=d_choice.value\n",
    "c_l['dd']=dd_choice.value\n",
    "c_l['otype']=otype_choice.value\n",
    "c_l['bo']=bo_choice.value\n",
    "c_l['btype']=btype_choice.value\n",
    "\n",
    "if(not fault_file==''):\n",
    "    fault=gpd.read_file(fault_file)\n",
    "    display(fault.head())\n",
    "    printmd('**Based on file: '+fault_file+'**')\n",
    "\n",
    "    cols=['No_col']\n",
    "    for sc in fault.columns:\n",
    "        cols.append(sc)\n",
    "        \n",
    "    printmd('\\n**Field that contains information on type of structure (fault, fold axial trace etc.)**')\n",
    "\n",
    "\n",
    "    f_choice=widgets.Dropdown(\n",
    "        options=cols,\n",
    "        description='Fault field:',\n",
    "        disabled=False\n",
    "    )\n",
    "    display(f_choice)\n",
    "\n",
    "    printmd('**Text to search for in field defined by Fault field code to show that this is a fault**')\n",
    "\n",
    "    fault_choice=widgets.Text(\n",
    "        placeholder='Fault',\n",
    "        value='Fault',\n",
    "        description='Fault text:',\n",
    "        disabled=False\n",
    "    )\n",
    "    display(fault_choice)\n",
    "\n",
    "    printmd('**Field for numeric fault dip value**')\n",
    "\n",
    "    fdip_choice=widgets.Dropdown(\n",
    "        options=cols,\n",
    "        description='Dip:',\n",
    "        disabled=False\n",
    "    )\n",
    "    display(fdip_choice)\n",
    "\n",
    "    printmd('**Text to search for in field defined by Dip to show that this has no known dip**')\n",
    "\n",
    "    fdipnull_choice=widgets.Text(\n",
    "        placeholder='0',\n",
    "        value='0',\n",
    "        description='NULL dip:',\n",
    "        disabled=False\n",
    "    )\n",
    "    display(fdipnull_choice)\n",
    "\n",
    "    printmd('**Field for text fault dip direction value (southeast etc.)**')\n",
    "\n",
    "    fdipdir_choice=widgets.Dropdown(\n",
    "        options=cols,\n",
    "        description='Dip Direction:',\n",
    "        disabled=False\n",
    "    )\n",
    "    display(fdipdir_choice)\n",
    "\n",
    "    printmd('**Flag for text fault dip direction type num e.g. 045 or alpha e.g. southeast**')\n",
    "\n",
    "    fdipdir_flag_choice=widgets.Dropdown(\n",
    "        options=('alpha','num'),\n",
    "        description='Dip Convention:',\n",
    "        disabled=False,\n",
    "        style=style\n",
    "    )\n",
    "    display(fdipdir_flag_choice)\n",
    "\n",
    "    printmd('**Field for text fault dip estimate value (Moderate, Steep etc.)**')\n",
    "\n",
    "    fdipest_choice=widgets.Dropdown(\n",
    "        options=cols,\n",
    "        description='Dip estimate:',\n",
    "        disabled=False\n",
    "    )\n",
    "    display(fdipest_choice)"
   ]
  },
  {
   "cell_type": "code",
   "execution_count": 10,
   "metadata": {},
   "outputs": [
    {
     "data": {
      "text/markdown": [
       "**Text to search for in field defined by fdipest to give fault dip estimate in increasing steepness**"
      ],
      "text/plain": [
       "<IPython.core.display.Markdown object>"
      ]
     },
     "metadata": {},
     "output_type": "display_data"
    },
    {
     "data": {
      "text/markdown": [
       "**Field that contains information on name of fault (not used??)**"
      ],
      "text/plain": [
       "<IPython.core.display.Markdown object>"
      ]
     },
     "metadata": {},
     "output_type": "display_data"
    },
    {
     "data": {
      "application/vnd.jupyter.widget-view+json": {
       "model_id": "eac14bc7fb7944969f339908c8182a6f",
       "version_major": 2,
       "version_minor": 0
      },
      "text/plain": [
       "Dropdown(description='Name:', options=('No_col', 'id', 'scale', 'type', 'movement', 'reactivati', 'data_type',…"
      ]
     },
     "metadata": {},
     "output_type": "display_data"
    }
   ],
   "source": [
    "printmd('**Text to search for in field defined by fdipest to give fault dip estimate in increasing steepness**')\n",
    "\n",
    "if(fdipest_choice.value=='No_col'):\n",
    "    c_l['fdipest_vals']='No_col'\n",
    "else:\n",
    "    fdipest_vals_choice=widgets.Text(\n",
    "        placeholder='Sorted dip order (shallow to steep)',\n",
    "        value=str(fault[fdipest_choice.value].unique()).replace(\"[\",\"\").replace(\"]\",\"\").replace(\" \",\",\"),\n",
    "        description='Text Dips:',\n",
    "        disabled=False\n",
    "    )\n",
    "    #display(fdipest_vals)\n",
    "    c_l['fdipest_vals']=fdipest_vals_choice.value\n",
    "\n",
    "\n",
    "    \n",
    "printmd('**Field that contains information on name of fault (not used??)**')\n",
    "\n",
    "n_choice=widgets.Dropdown(\n",
    "    options=cols,\n",
    "    description='Name:',\n",
    "    disabled=False\n",
    ")\n",
    "display(n_choice)"
   ]
  },
  {
   "cell_type": "code",
   "execution_count": 11,
   "metadata": {},
   "outputs": [
    {
     "data": {
      "text/html": [
       "<div>\n",
       "<style scoped>\n",
       "    .dataframe tbody tr th:only-of-type {\n",
       "        vertical-align: middle;\n",
       "    }\n",
       "\n",
       "    .dataframe tbody tr th {\n",
       "        vertical-align: top;\n",
       "    }\n",
       "\n",
       "    .dataframe thead th {\n",
       "        text-align: right;\n",
       "    }\n",
       "</style>\n",
       "<table border=\"1\" class=\"dataframe\">\n",
       "  <thead>\n",
       "    <tr style=\"text-align: right;\">\n",
       "      <th></th>\n",
       "      <th>id</th>\n",
       "      <th>scale</th>\n",
       "      <th>type</th>\n",
       "      <th>movement</th>\n",
       "      <th>reactivati</th>\n",
       "      <th>data_type</th>\n",
       "      <th>age</th>\n",
       "      <th>comments</th>\n",
       "      <th>D1</th>\n",
       "      <th>D2</th>\n",
       "      <th>D3</th>\n",
       "      <th>D4</th>\n",
       "      <th>Scale_Ex</th>\n",
       "      <th>FieldID</th>\n",
       "      <th>D_Tdip</th>\n",
       "      <th>TDD</th>\n",
       "      <th>structure</th>\n",
       "      <th>D_Tdip_n</th>\n",
       "      <th>TDD_n</th>\n",
       "      <th>geometry</th>\n",
       "    </tr>\n",
       "  </thead>\n",
       "  <tbody>\n",
       "    <tr>\n",
       "      <th>0</th>\n",
       "      <td>0</td>\n",
       "      <td>0</td>\n",
       "      <td>Normal</td>\n",
       "      <td>None</td>\n",
       "      <td>None</td>\n",
       "      <td>mag</td>\n",
       "      <td>None</td>\n",
       "      <td>None</td>\n",
       "      <td>None</td>\n",
       "      <td>None</td>\n",
       "      <td>None</td>\n",
       "      <td>None</td>\n",
       "      <td>0.0</td>\n",
       "      <td>0</td>\n",
       "      <td>999</td>\n",
       "      <td>999</td>\n",
       "      <td>fault</td>\n",
       "      <td>999.0</td>\n",
       "      <td>999.0</td>\n",
       "      <td>LINESTRING (419949.183 7149323.232, 431007.148...</td>\n",
       "    </tr>\n",
       "    <tr>\n",
       "      <th>1</th>\n",
       "      <td>1</td>\n",
       "      <td>0</td>\n",
       "      <td>reverse</td>\n",
       "      <td>None</td>\n",
       "      <td>None</td>\n",
       "      <td>grav</td>\n",
       "      <td>None</td>\n",
       "      <td>None</td>\n",
       "      <td>None</td>\n",
       "      <td>None</td>\n",
       "      <td>None</td>\n",
       "      <td>None</td>\n",
       "      <td>0.0</td>\n",
       "      <td>1</td>\n",
       "      <td>999</td>\n",
       "      <td>999</td>\n",
       "      <td>fault</td>\n",
       "      <td>999.0</td>\n",
       "      <td>999.0</td>\n",
       "      <td>LINESTRING (443040.817 7130947.495, 452472.611...</td>\n",
       "    </tr>\n",
       "    <tr>\n",
       "      <th>2</th>\n",
       "      <td>2</td>\n",
       "      <td>0</td>\n",
       "      <td>strike-slip</td>\n",
       "      <td>None</td>\n",
       "      <td>None</td>\n",
       "      <td>mag/grav</td>\n",
       "      <td>None</td>\n",
       "      <td>None</td>\n",
       "      <td>None</td>\n",
       "      <td>None</td>\n",
       "      <td>None</td>\n",
       "      <td>None</td>\n",
       "      <td>0.0</td>\n",
       "      <td>2</td>\n",
       "      <td>999</td>\n",
       "      <td>999</td>\n",
       "      <td>fault</td>\n",
       "      <td>999.0</td>\n",
       "      <td>999.0</td>\n",
       "      <td>LINESTRING (445642.691 7138102.649, 452635.228...</td>\n",
       "    </tr>\n",
       "    <tr>\n",
       "      <th>3</th>\n",
       "      <td>3</td>\n",
       "      <td>0</td>\n",
       "      <td>strike-slip</td>\n",
       "      <td>left lateral</td>\n",
       "      <td>None</td>\n",
       "      <td>mag high pass</td>\n",
       "      <td>None</td>\n",
       "      <td>None</td>\n",
       "      <td>None</td>\n",
       "      <td>None</td>\n",
       "      <td>None</td>\n",
       "      <td>None</td>\n",
       "      <td>0.0</td>\n",
       "      <td>3</td>\n",
       "      <td>999</td>\n",
       "      <td>999</td>\n",
       "      <td>fault</td>\n",
       "      <td>999.0</td>\n",
       "      <td>999.0</td>\n",
       "      <td>LINESTRING (484508.188 7115011.015, 494915.686...</td>\n",
       "    </tr>\n",
       "    <tr>\n",
       "      <th>4</th>\n",
       "      <td>4</td>\n",
       "      <td>0</td>\n",
       "      <td>strike-slip</td>\n",
       "      <td>right lateral</td>\n",
       "      <td>None</td>\n",
       "      <td>mag low pass</td>\n",
       "      <td>None</td>\n",
       "      <td>None</td>\n",
       "      <td>None</td>\n",
       "      <td>None</td>\n",
       "      <td>None</td>\n",
       "      <td>None</td>\n",
       "      <td>0.0</td>\n",
       "      <td>4</td>\n",
       "      <td>999</td>\n",
       "      <td>999</td>\n",
       "      <td>fault</td>\n",
       "      <td>999.0</td>\n",
       "      <td>999.0</td>\n",
       "      <td>LINESTRING (484020.337 7104603.518, 498655.880...</td>\n",
       "    </tr>\n",
       "  </tbody>\n",
       "</table>\n",
       "</div>"
      ],
      "text/plain": [
       "   id  scale         type       movement reactivati      data_type   age  \\\n",
       "0   0      0       Normal           None       None            mag  None   \n",
       "1   1      0      reverse           None       None           grav  None   \n",
       "2   2      0  strike-slip           None       None       mag/grav  None   \n",
       "3   3      0  strike-slip   left lateral       None  mag high pass  None   \n",
       "4   4      0  strike-slip  right lateral       None   mag low pass  None   \n",
       "\n",
       "  comments    D1    D2    D3    D4  Scale_Ex FieldID D_Tdip  TDD structure  \\\n",
       "0     None  None  None  None  None       0.0       0    999  999     fault   \n",
       "1     None  None  None  None  None       0.0       1    999  999     fault   \n",
       "2     None  None  None  None  None       0.0       2    999  999     fault   \n",
       "3     None  None  None  None  None       0.0       3    999  999     fault   \n",
       "4     None  None  None  None  None       0.0       4    999  999     fault   \n",
       "\n",
       "   D_Tdip_n  TDD_n                                           geometry  \n",
       "0     999.0  999.0  LINESTRING (419949.183 7149323.232, 431007.148...  \n",
       "1     999.0  999.0  LINESTRING (443040.817 7130947.495, 452472.611...  \n",
       "2     999.0  999.0  LINESTRING (445642.691 7138102.649, 452635.228...  \n",
       "3     999.0  999.0  LINESTRING (484508.188 7115011.015, 494915.686...  \n",
       "4     999.0  999.0  LINESTRING (484020.337 7104603.518, 498655.880...  "
      ]
     },
     "metadata": {},
     "output_type": "display_data"
    },
    {
     "data": {
      "text/markdown": [
       "**Based on file: D:/Dropbox/1_Jupyter_notebooks/MISO_3DModel/3DModel/source_data/faults.shp**"
      ],
      "text/plain": [
       "<IPython.core.display.Markdown object>"
      ]
     },
     "metadata": {},
     "output_type": "display_data"
    },
    {
     "data": {
      "text/markdown": [
       "\n",
       "**Field that contains information on type of structure (fold, fault etc.)**"
      ],
      "text/plain": [
       "<IPython.core.display.Markdown object>"
      ]
     },
     "metadata": {},
     "output_type": "display_data"
    },
    {
     "data": {
      "application/vnd.jupyter.widget-view+json": {
       "model_id": "e8251644b2b5441c8abc78613b7dcda6",
       "version_major": 2,
       "version_minor": 0
      },
      "text/plain": [
       "Dropdown(description='Fold field:', options=('No_col', 'id', 'scale', 'type', 'movement', 'reactivati', 'data_…"
      ]
     },
     "metadata": {},
     "output_type": "display_data"
    },
    {
     "data": {
      "text/markdown": [
       "**Text to search for in field defined by Fold field to show that this is a fold axial trace**"
      ],
      "text/plain": [
       "<IPython.core.display.Markdown object>"
      ]
     },
     "metadata": {},
     "output_type": "display_data"
    },
    {
     "data": {
      "application/vnd.jupyter.widget-view+json": {
       "model_id": "e32a44a72f854477bcbabdc5e342cd5d",
       "version_major": 2,
       "version_minor": 0
      },
      "text/plain": [
       "Text(value='Fold', description='Fold text:', placeholder='Fold')"
      ]
     },
     "metadata": {},
     "output_type": "display_data"
    },
    {
     "data": {
      "text/markdown": [
       "**Field that contains information on type of fold (anticline, syncline)**"
      ],
      "text/plain": [
       "<IPython.core.display.Markdown object>"
      ]
     },
     "metadata": {},
     "output_type": "display_data"
    },
    {
     "data": {
      "application/vnd.jupyter.widget-view+json": {
       "model_id": "c5933e040ddf442fba2581479175da90",
       "version_major": 2,
       "version_minor": 0
      },
      "text/plain": [
       "Dropdown(description='Polarity field:', options=('No_col', 'id', 'scale', 'type', 'movement', 'reactivati', 'd…"
      ]
     },
     "metadata": {},
     "output_type": "display_data"
    },
    {
     "data": {
      "text/markdown": [
       "**Text to search for in field defined by Polarity Field to show that this is a syncline**"
      ],
      "text/plain": [
       "<IPython.core.display.Markdown object>"
      ]
     },
     "metadata": {},
     "output_type": "display_data"
    },
    {
     "data": {
      "application/vnd.jupyter.widget-view+json": {
       "model_id": "7a5d6d61fd3e4741a2ca2fb24b43d414",
       "version_major": 2,
       "version_minor": 0
      },
      "text/plain": [
       "Text(value='syn', description='Syncline text:', placeholder='syn')"
      ]
     },
     "metadata": {},
     "output_type": "display_data"
    }
   ],
   "source": [
    "c_l['f']=f_choice.value\n",
    "c_l['fault']=fault_choice.value\n",
    "c_l['fdip']=fdip_choice.value\n",
    "c_l['fdipnull']=fdipnull_choice.value\n",
    "c_l['fdipdir']=fdipdir_choice.value\n",
    "c_l['fdipdir_flag']=fdipdir_flag_choice.value\n",
    "c_l['fdipest']=fdipest_choice.value\n",
    "c_l['n']=n_choice.value\n",
    "\n",
    "if(not fold_file==''):\n",
    "    fold=gpd.read_file(fold_file)\n",
    "    display(fold.head())\n",
    "    cols=['No_col']\n",
    "    for sc in fold.columns:\n",
    "        cols.append(sc)\n",
    "        \n",
    "    printmd('**Based on file:'+' '+fold_file+'**')\n",
    "\n",
    "    printmd('\\n**Field that contains information on type of structure (fold, fault etc.)**')\n",
    "\n",
    "    ff_choice=widgets.Dropdown(\n",
    "        options=cols,\n",
    "        description='Fold field:',\n",
    "        disabled=False\n",
    "    )\n",
    "    display(ff_choice)\n",
    "\n",
    "    printmd('**Text to search for in field defined by Fold field to show that this is a fold axial trace**')\n",
    "\n",
    "    fold_choice=widgets.Text(\n",
    "        placeholder='Fold',\n",
    "        value='Fold',\n",
    "        description='Fold text:',\n",
    "        disabled=False\n",
    "    )\n",
    "    display(fold_choice)\n",
    "\n",
    "    printmd('**Field that contains information on type of fold (anticline, syncline)**')\n",
    "\n",
    "    t_choice=widgets.Dropdown(\n",
    "        options=cols,\n",
    "        description='Polarity field:',\n",
    "        disabled=False\n",
    "    )\n",
    "    display(t_choice)\n",
    "\n",
    "    printmd('**Text to search for in field defined by Polarity Field to show that this is a syncline**')\n",
    "\n",
    "    syn_choice=widgets.Text(\n",
    "        placeholder='syn',\n",
    "        value='syn',\n",
    "        description='Syncline text:',\n",
    "        disabled=False\n",
    "    )\n",
    "    display(syn_choice)\n"
   ]
  },
  {
   "cell_type": "code",
   "execution_count": 12,
   "metadata": {
    "scrolled": false
   },
   "outputs": [
    {
     "data": {
      "text/html": [
       "<div>\n",
       "<style scoped>\n",
       "    .dataframe tbody tr th:only-of-type {\n",
       "        vertical-align: middle;\n",
       "    }\n",
       "\n",
       "    .dataframe tbody tr th {\n",
       "        vertical-align: top;\n",
       "    }\n",
       "\n",
       "    .dataframe thead th {\n",
       "        text-align: right;\n",
       "    }\n",
       "</style>\n",
       "<table border=\"1\" class=\"dataframe\">\n",
       "  <thead>\n",
       "    <tr style=\"text-align: right;\">\n",
       "      <th></th>\n",
       "      <th>id</th>\n",
       "      <th>basin</th>\n",
       "      <th>rock_type</th>\n",
       "      <th>comment</th>\n",
       "      <th>Group</th>\n",
       "      <th>Formation</th>\n",
       "      <th>Gp_Form</th>\n",
       "      <th>Litho_Simp</th>\n",
       "      <th>Litho_Geom</th>\n",
       "      <th>Litho_no_m</th>\n",
       "      <th>drift</th>\n",
       "      <th>min_age</th>\n",
       "      <th>max_age</th>\n",
       "      <th>Litho_no_1</th>\n",
       "      <th>geometry</th>\n",
       "    </tr>\n",
       "  </thead>\n",
       "  <tbody>\n",
       "    <tr>\n",
       "      <th>0</th>\n",
       "      <td>25</td>\n",
       "      <td>Calvert</td>\n",
       "      <td>Granite</td>\n",
       "      <td>None</td>\n",
       "      <td>Sybella Granite</td>\n",
       "      <td>Sybella Granite</td>\n",
       "      <td>Sybella Granite</td>\n",
       "      <td>Intrusion</td>\n",
       "      <td>Basement: Intrusion</td>\n",
       "      <td>Sybella Granite</td>\n",
       "      <td>None</td>\n",
       "      <td>3.0</td>\n",
       "      <td>3.0</td>\n",
       "      <td>Sybella Granite</td>\n",
       "      <td>POLYGON ((326229.775 7609626.349, 326380.588 7...</td>\n",
       "    </tr>\n",
       "    <tr>\n",
       "      <th>1</th>\n",
       "      <td>11</td>\n",
       "      <td>Leichhardt</td>\n",
       "      <td>Metamorphic</td>\n",
       "      <td>low mag anomalies</td>\n",
       "      <td>Haslingden</td>\n",
       "      <td>Sulieman Metamorphics (non-magnetic)</td>\n",
       "      <td>Haslingden Sulieman Metamorphics (non-magnetic)</td>\n",
       "      <td>Metabasalt (non-magnetic)</td>\n",
       "      <td>Basement: Metamorphic</td>\n",
       "      <td>Sulieman Metamorphics</td>\n",
       "      <td>None</td>\n",
       "      <td>13.0</td>\n",
       "      <td>13.0</td>\n",
       "      <td>Sulieman Metamorphics</td>\n",
       "      <td>POLYGON ((324586.963 7595423.643, 324627.408 7...</td>\n",
       "    </tr>\n",
       "    <tr>\n",
       "      <th>2</th>\n",
       "      <td>25</td>\n",
       "      <td>Calvert</td>\n",
       "      <td>Granite</td>\n",
       "      <td>None</td>\n",
       "      <td>Sybella Granite</td>\n",
       "      <td>Sybella Granite</td>\n",
       "      <td>Sybella Granite</td>\n",
       "      <td>Intrusion</td>\n",
       "      <td>Basement: Intrusion</td>\n",
       "      <td>Sybella Granite</td>\n",
       "      <td>None</td>\n",
       "      <td>3.0</td>\n",
       "      <td>3.0</td>\n",
       "      <td>Sybella Granite</td>\n",
       "      <td>POLYGON ((320249.839 7596142.473, 320219.042 7...</td>\n",
       "    </tr>\n",
       "    <tr>\n",
       "      <th>3</th>\n",
       "      <td>25</td>\n",
       "      <td>Calvert</td>\n",
       "      <td>Granite</td>\n",
       "      <td>None</td>\n",
       "      <td>Sybella Granite</td>\n",
       "      <td>Sybella Granite</td>\n",
       "      <td>Sybella Granite</td>\n",
       "      <td>Intrusion</td>\n",
       "      <td>Basement: Intrusion</td>\n",
       "      <td>Sybella Granite</td>\n",
       "      <td>None</td>\n",
       "      <td>3.0</td>\n",
       "      <td>3.0</td>\n",
       "      <td>Sybella Granite</td>\n",
       "      <td>POLYGON ((320861.919 7595887.504, 320849.869 7...</td>\n",
       "    </tr>\n",
       "    <tr>\n",
       "      <th>4</th>\n",
       "      <td>14</td>\n",
       "      <td>Leichhardt</td>\n",
       "      <td>Metamorphic</td>\n",
       "      <td>None</td>\n",
       "      <td>Haslingden</td>\n",
       "      <td>Saint Ronans Metamorphics (non-magnetic)</td>\n",
       "      <td>Haslingden Saint Ronans Metamorphics (non-magn...</td>\n",
       "      <td>Metavolcanics (non-magnetic)</td>\n",
       "      <td>Basement: Metamorphic</td>\n",
       "      <td>Saint Ronans Metamorphics</td>\n",
       "      <td>None</td>\n",
       "      <td>14.0</td>\n",
       "      <td>14.0</td>\n",
       "      <td>Saint Ronans Metamorphics</td>\n",
       "      <td>POLYGON ((321126.122 7596252.115, 321295.455 7...</td>\n",
       "    </tr>\n",
       "  </tbody>\n",
       "</table>\n",
       "</div>"
      ],
      "text/plain": [
       "   id       basin    rock_type            comment            Group  \\\n",
       "0  25     Calvert      Granite               None  Sybella Granite   \n",
       "1  11  Leichhardt  Metamorphic  low mag anomalies       Haslingden   \n",
       "2  25     Calvert      Granite               None  Sybella Granite   \n",
       "3  25     Calvert      Granite               None  Sybella Granite   \n",
       "4  14  Leichhardt  Metamorphic               None       Haslingden   \n",
       "\n",
       "                                  Formation  \\\n",
       "0                           Sybella Granite   \n",
       "1      Sulieman Metamorphics (non-magnetic)   \n",
       "2                           Sybella Granite   \n",
       "3                           Sybella Granite   \n",
       "4  Saint Ronans Metamorphics (non-magnetic)   \n",
       "\n",
       "                                             Gp_Form  \\\n",
       "0                                    Sybella Granite   \n",
       "1    Haslingden Sulieman Metamorphics (non-magnetic)   \n",
       "2                                    Sybella Granite   \n",
       "3                                    Sybella Granite   \n",
       "4  Haslingden Saint Ronans Metamorphics (non-magn...   \n",
       "\n",
       "                     Litho_Simp             Litho_Geom  \\\n",
       "0                     Intrusion    Basement: Intrusion   \n",
       "1     Metabasalt (non-magnetic)  Basement: Metamorphic   \n",
       "2                     Intrusion    Basement: Intrusion   \n",
       "3                     Intrusion    Basement: Intrusion   \n",
       "4  Metavolcanics (non-magnetic)  Basement: Metamorphic   \n",
       "\n",
       "                  Litho_no_m drift  min_age  max_age  \\\n",
       "0            Sybella Granite  None      3.0      3.0   \n",
       "1      Sulieman Metamorphics  None     13.0     13.0   \n",
       "2            Sybella Granite  None      3.0      3.0   \n",
       "3            Sybella Granite  None      3.0      3.0   \n",
       "4  Saint Ronans Metamorphics  None     14.0     14.0   \n",
       "\n",
       "                  Litho_no_1  \\\n",
       "0            Sybella Granite   \n",
       "1      Sulieman Metamorphics   \n",
       "2            Sybella Granite   \n",
       "3            Sybella Granite   \n",
       "4  Saint Ronans Metamorphics   \n",
       "\n",
       "                                            geometry  \n",
       "0  POLYGON ((326229.775 7609626.349, 326380.588 7...  \n",
       "1  POLYGON ((324586.963 7595423.643, 324627.408 7...  \n",
       "2  POLYGON ((320249.839 7596142.473, 320219.042 7...  \n",
       "3  POLYGON ((320861.919 7595887.504, 320849.869 7...  \n",
       "4  POLYGON ((321126.122 7596252.115, 321295.455 7...  "
      ]
     },
     "metadata": {},
     "output_type": "display_data"
    },
    {
     "data": {
      "text/markdown": [
       "**Based on file: D:/Dropbox/1_Jupyter_notebooks/MISO_3DModel/3DModel/source_data/lithologies_age.shp**"
      ],
      "text/plain": [
       "<IPython.core.display.Markdown object>"
      ]
     },
     "metadata": {},
     "output_type": "display_data"
    },
    {
     "data": {
      "text/markdown": [
       "\n",
       "**Field that contains unique ID**"
      ],
      "text/plain": [
       "<IPython.core.display.Markdown object>"
      ]
     },
     "metadata": {},
     "output_type": "display_data"
    },
    {
     "data": {
      "application/vnd.jupyter.widget-view+json": {
       "model_id": "b65aefe6d9214b379a02e228f03070a3",
       "version_major": 2,
       "version_minor": 0
      },
      "text/plain": [
       "Dropdown(description='Unique ID', options=('No_col', 'id', 'basin', 'rock_type', 'comment', 'Group', 'Formatio…"
      ]
     },
     "metadata": {},
     "output_type": "display_data"
    },
    {
     "data": {
      "text/markdown": [
       "**Field that contains finer stratigraphic coding**"
      ],
      "text/plain": [
       "<IPython.core.display.Markdown object>"
      ]
     },
     "metadata": {},
     "output_type": "display_data"
    },
    {
     "data": {
      "application/vnd.jupyter.widget-view+json": {
       "model_id": "4f1487119e0042cb8fb640ffa7a98127",
       "version_major": 2,
       "version_minor": 0
      },
      "text/plain": [
       "Dropdown(description='Formation', options=('No_col', 'id', 'basin', 'rock_type', 'comment', 'Group', 'Formatio…"
      ]
     },
     "metadata": {},
     "output_type": "display_data"
    },
    {
     "data": {
      "text/markdown": [
       "\n",
       "**Field that contains coarser stratigraphic coding**"
      ],
      "text/plain": [
       "<IPython.core.display.Markdown object>"
      ]
     },
     "metadata": {},
     "output_type": "display_data"
    },
    {
     "data": {
      "application/vnd.jupyter.widget-view+json": {
       "model_id": "20b6ce99abc64435997d647cb575ec05",
       "version_major": 2,
       "version_minor": 0
      },
      "text/plain": [
       "Dropdown(description='Group', options=('No_col', 'id', 'basin', 'rock_type', 'comment', 'Group', 'Formation', …"
      ]
     },
     "metadata": {},
     "output_type": "display_data"
    },
    {
     "data": {
      "text/markdown": [
       "**Field that contains alternate coarser stratigraphic coding if Group is blank**"
      ],
      "text/plain": [
       "<IPython.core.display.Markdown object>"
      ]
     },
     "metadata": {},
     "output_type": "display_data"
    },
    {
     "data": {
      "application/vnd.jupyter.widget-view+json": {
       "model_id": "5f7728a947bc4a03adec9462bfbd4384",
       "version_major": 2,
       "version_minor": 0
      },
      "text/plain": [
       "Dropdown(description='Group alt', options=('No_col', 'id', 'basin', 'rock_type', 'comment', 'Group', 'Formatio…"
      ]
     },
     "metadata": {},
     "output_type": "display_data"
    },
    {
     "data": {
      "text/markdown": [
       "**Field that contains alternate stratigraphic coding (used to check for \"drift\" formations)**"
      ],
      "text/plain": [
       "<IPython.core.display.Markdown object>"
      ]
     },
     "metadata": {},
     "output_type": "display_data"
    },
    {
     "data": {
      "application/vnd.jupyter.widget-view+json": {
       "model_id": "abea2c1bb8804ef18d67c0559fc4c56c",
       "version_major": 2,
       "version_minor": 0
      },
      "text/plain": [
       "Dropdown(description='Strat alt', options=('No_col', 'id', 'basin', 'rock_type', 'comment', 'Group', 'Formatio…"
      ]
     },
     "metadata": {},
     "output_type": "display_data"
    },
    {
     "data": {
      "text/markdown": [
       "**Field that contains information about lithology**"
      ],
      "text/plain": [
       "<IPython.core.display.Markdown object>"
      ]
     },
     "metadata": {},
     "output_type": "display_data"
    },
    {
     "data": {
      "application/vnd.jupyter.widget-view+json": {
       "model_id": "9502dad7cf514f988780d0eca0609bf4",
       "version_major": 2,
       "version_minor": 0
      },
      "text/plain": [
       "Dropdown(description='Description:', options=('No_col', 'id', 'basin', 'rock_type', 'comment', 'Group', 'Forma…"
      ]
     },
     "metadata": {},
     "output_type": "display_data"
    },
    {
     "data": {
      "text/markdown": [
       "**Field that contains extra lithology information**"
      ],
      "text/plain": [
       "<IPython.core.display.Markdown object>"
      ]
     },
     "metadata": {},
     "output_type": "display_data"
    },
    {
     "data": {
      "application/vnd.jupyter.widget-view+json": {
       "model_id": "b76aed8fbfbc42d1bce5f55835c508c1",
       "version_major": 2,
       "version_minor": 0
      },
      "text/plain": [
       "Dropdown(description='Litho', options=('No_col', 'id', 'basin', 'rock_type', 'comment', 'Group', 'Formation', …"
      ]
     },
     "metadata": {},
     "output_type": "display_data"
    },
    {
     "data": {
      "text/markdown": [
       "**Field that contains even more lithology information**"
      ],
      "text/plain": [
       "<IPython.core.display.Markdown object>"
      ]
     },
     "metadata": {},
     "output_type": "display_data"
    },
    {
     "data": {
      "application/vnd.jupyter.widget-view+json": {
       "model_id": "1c774203048c4c03a2cc646f60c070d4",
       "version_major": 2,
       "version_minor": 0
      },
      "text/plain": [
       "Dropdown(description='Litho alt', options=('No_col', 'id', 'basin', 'rock_type', 'comment', 'Group', 'Formatio…"
      ]
     },
     "metadata": {},
     "output_type": "display_data"
    },
    {
     "data": {
      "text/markdown": [
       "**Text to search for in field defined by Description code to show that this is a sill**"
      ],
      "text/plain": [
       "<IPython.core.display.Markdown object>"
      ]
     },
     "metadata": {},
     "output_type": "display_data"
    },
    {
     "data": {
      "application/vnd.jupyter.widget-view+json": {
       "model_id": "40ef1d1372fc4f5f9388a18c8a5dbf31",
       "version_major": 2,
       "version_minor": 0
      },
      "text/plain": [
       "Text(value='sill', description='Sill text', placeholder='sill')"
      ]
     },
     "metadata": {},
     "output_type": "display_data"
    },
    {
     "data": {
      "text/markdown": [
       "**Text to search for in field defined by Litho code to show that this is an intrusion**"
      ],
      "text/plain": [
       "<IPython.core.display.Markdown object>"
      ]
     },
     "metadata": {},
     "output_type": "display_data"
    },
    {
     "data": {
      "application/vnd.jupyter.widget-view+json": {
       "model_id": "e411a96e1bf84069af59c19f942673a1",
       "version_major": 2,
       "version_minor": 0
      },
      "text/plain": [
       "Text(value='intrusive', description='Intrusive text', placeholder='intrusive')"
      ]
     },
     "metadata": {},
     "output_type": "display_data"
    },
    {
     "data": {
      "text/markdown": [
       "**Text to search for in field defined by Description code to show that this is an volcanic (not intrusion)**"
      ],
      "text/plain": [
       "<IPython.core.display.Markdown object>"
      ]
     },
     "metadata": {},
     "output_type": "display_data"
    },
    {
     "data": {
      "application/vnd.jupyter.widget-view+json": {
       "model_id": "0cf27c3ad19547e9bc24496c899d2255",
       "version_major": 2,
       "version_minor": 0
      },
      "text/plain": [
       "Text(value='volc', description='Volc text', placeholder='volc')"
      ]
     },
     "metadata": {},
     "output_type": "display_data"
    },
    {
     "data": {
      "text/markdown": [
       "**Field that contains minimum age of unit defined by Formation**"
      ],
      "text/plain": [
       "<IPython.core.display.Markdown object>"
      ]
     },
     "metadata": {},
     "output_type": "display_data"
    },
    {
     "data": {
      "application/vnd.jupyter.widget-view+json": {
       "model_id": "634cfe9949984586aa0c8bcb58e0feb0",
       "version_major": 2,
       "version_minor": 0
      },
      "text/plain": [
       "Dropdown(description='Min age', options=('No_col', 'id', 'basin', 'rock_type', 'comment', 'Group', 'Formation'…"
      ]
     },
     "metadata": {},
     "output_type": "display_data"
    },
    {
     "data": {
      "text/markdown": [
       "**Field that contains maximum age of unit defined by Formation**"
      ],
      "text/plain": [
       "<IPython.core.display.Markdown object>"
      ]
     },
     "metadata": {},
     "output_type": "display_data"
    },
    {
     "data": {
      "application/vnd.jupyter.widget-view+json": {
       "model_id": "31cee98da9a54a59b7fab68ae62b7664",
       "version_major": 2,
       "version_minor": 0
      },
      "text/plain": [
       "Dropdown(description='Max age', options=('No_col', 'id', 'basin', 'rock_type', 'comment', 'Group', 'Formation'…"
      ]
     },
     "metadata": {},
     "output_type": "display_data"
    }
   ],
   "source": [
    "c_l['ff']=ff_choice.value\n",
    "c_l['fold']=fold_choice.value\n",
    "c_l['t']=t_choice.value\n",
    "c_l['syn']=syn_choice.value\n",
    "\n",
    "if(not geology_file==''):\n",
    "    geology=gpd.read_file(geology_file)\n",
    "    display(geology.head())\n",
    "    cols=['No_col']\n",
    "    for sc in geology.columns:\n",
    "        cols.append(sc)\n",
    "    printmd('**Based on file:'+' '+geology_file+'**')\n",
    "\n",
    "    printmd('\\n**Field that contains unique ID**')\n",
    "\n",
    "    o_choice=widgets.Dropdown(\n",
    "        options=cols,\n",
    "        description='Unique ID',\n",
    "        disabled=False\n",
    "    )\n",
    "    display(o_choice)\n",
    "\n",
    "    printmd('**Field that contains finer stratigraphic coding**')\n",
    "\n",
    "    c_choice=widgets.Dropdown(\n",
    "        options=cols,\n",
    "        description='Formation',\n",
    "        disabled=False\n",
    "    )\n",
    "    display(c_choice)\n",
    "\n",
    "    printmd('\\n**Field that contains coarser stratigraphic coding**')\n",
    "\n",
    "    g_choice=widgets.Dropdown(\n",
    "        options=cols,\n",
    "        description='Group',\n",
    "        disabled=False\n",
    "    )\n",
    "    display(g_choice)\n",
    "\n",
    "    printmd('**Field that contains alternate coarser stratigraphic coding if Group is blank**')\n",
    "\n",
    "    g2_choice=widgets.Dropdown(\n",
    "        options=cols,\n",
    "        description='Group alt',\n",
    "        disabled=False\n",
    "    )\n",
    "    display(g2_choice)\n",
    "\n",
    "\n",
    "    printmd('**Field that contains alternate stratigraphic coding (used to check for \"drift\" formations'')**')\n",
    "\n",
    "    u_choice=widgets.Dropdown(\n",
    "        options=cols,\n",
    "        description='Strat alt',\n",
    "        disabled=False\n",
    "    )\n",
    "    display(u_choice)\n",
    "\n",
    "    printmd('**Field that contains information about lithology**')\n",
    "\n",
    "    ds_choice=widgets.Dropdown(\n",
    "        options=cols,\n",
    "        description='Description:',\n",
    "        disabled=False\n",
    "    )\n",
    "    display(ds_choice)\n",
    "\n",
    "    printmd('**Field that contains extra lithology information**')\n",
    "\n",
    "    r1_choice=widgets.Dropdown(\n",
    "        options=cols,\n",
    "        description='Litho',\n",
    "        disabled=False\n",
    "    )\n",
    "    display(r1_choice)\n",
    "\n",
    "    printmd('**Field that contains even more lithology information**')\n",
    "\n",
    "    r2_choice=widgets.Dropdown(\n",
    "        options=cols,\n",
    "        description='Litho alt',\n",
    "        disabled=False\n",
    "    )\n",
    "    display(r2_choice)\n",
    "\n",
    "    printmd('**Text to search for in field defined by Description code to show that this is a sill**')\n",
    "\n",
    "    sill_choice=widgets.Text(\n",
    "        placeholder='sill',\n",
    "        value='sill',\n",
    "        description='Sill text',\n",
    "        disabled=False\n",
    "    )\n",
    "    display(sill_choice)\n",
    "\n",
    "    printmd('**Text to search for in field defined by Litho code to show that this is an intrusion**')\n",
    "\n",
    "    intrusive_choice=widgets.Text(\n",
    "        placeholder='intrusive',\n",
    "        value='intrusive',\n",
    "        description='Intrusive text',\n",
    "        disabled=False\n",
    "    )\n",
    "    display(intrusive_choice)\n",
    "\n",
    "    printmd('**Text to search for in field defined by Description code to show that this is an volcanic (not intrusion)**')\n",
    "\n",
    "\n",
    "    volcanic_choice=widgets.Text(\n",
    "        placeholder='volc',\n",
    "        value='volc',\n",
    "        description='Volc text',\n",
    "        disabled=False\n",
    "    )\n",
    "    display(volcanic_choice)\n",
    "\n",
    "    printmd('**Field that contains minimum age of unit defined by Formation**')\n",
    "\n",
    "    min_choice=widgets.Dropdown(\n",
    "        options=cols,\n",
    "        description='Min age',\n",
    "        disabled=False\n",
    "    )\n",
    "    display(min_choice)\n",
    "\n",
    "    printmd('**Field that contains maximum age of unit defined by Formation**')\n",
    "\n",
    "    max_choice=widgets.Dropdown(\n",
    "        options=cols,\n",
    "        description='Max age',\n",
    "        disabled=False\n",
    "    )\n",
    "    display(max_choice)\n",
    "\n"
   ]
  },
  {
   "cell_type": "code",
   "execution_count": 13,
   "metadata": {},
   "outputs": [
    {
     "data": {
      "text/html": [
       "<div>\n",
       "<style scoped>\n",
       "    .dataframe tbody tr th:only-of-type {\n",
       "        vertical-align: middle;\n",
       "    }\n",
       "\n",
       "    .dataframe tbody tr th {\n",
       "        vertical-align: top;\n",
       "    }\n",
       "\n",
       "    .dataframe thead th {\n",
       "        text-align: right;\n",
       "    }\n",
       "</style>\n",
       "<table border=\"1\" class=\"dataframe\">\n",
       "  <thead>\n",
       "    <tr style=\"text-align: right;\">\n",
       "      <th></th>\n",
       "      <th>SITE_CODE</th>\n",
       "      <th>SITE_TITLE</th>\n",
       "      <th>SHORT_NAME</th>\n",
       "      <th>SITE_COMMO</th>\n",
       "      <th>SITE_TYPE_</th>\n",
       "      <th>SITE_SUB_T</th>\n",
       "      <th>SITE_STAGE</th>\n",
       "      <th>TARGET_COM</th>\n",
       "      <th>COMMODITY_</th>\n",
       "      <th>PROJ_CODE</th>\n",
       "      <th>PROJ_TITLE</th>\n",
       "      <th>WEB_LINK</th>\n",
       "      <th>EXTRACT_DA</th>\n",
       "      <th>geometry</th>\n",
       "    </tr>\n",
       "  </thead>\n",
       "  <tbody>\n",
       "    <tr>\n",
       "      <th>0</th>\n",
       "      <td>S0001482</td>\n",
       "      <td>Vivash Gorge</td>\n",
       "      <td>Vivash Gorge</td>\n",
       "      <td>Fe</td>\n",
       "      <td>Deposit</td>\n",
       "      <td>Unspecified</td>\n",
       "      <td>Undeveloped</td>\n",
       "      <td>IRON ORE</td>\n",
       "      <td>IRON</td>\n",
       "      <td>J03931</td>\n",
       "      <td>Brockman 4 Area / Rio Tinto</td>\n",
       "      <td>http://minedexext.dmp.wa.gov.au/minedex/extern...</td>\n",
       "      <td>2018-05-07</td>\n",
       "      <td>POINT (505671.537 7495706.968)</td>\n",
       "    </tr>\n",
       "    <tr>\n",
       "      <th>1</th>\n",
       "      <td>S0231563</td>\n",
       "      <td>Eliwana Exploration Camp</td>\n",
       "      <td>Exploration camp</td>\n",
       "      <td>Fe</td>\n",
       "      <td>Infrastructure</td>\n",
       "      <td>Town/Village/Camp</td>\n",
       "      <td>Operating</td>\n",
       "      <td>IRON ORE</td>\n",
       "      <td>IRON</td>\n",
       "      <td>J03436</td>\n",
       "      <td>Western Hub / FMG</td>\n",
       "      <td>http://minedexext.dmp.wa.gov.au/minedex/extern...</td>\n",
       "      <td>2018-05-07</td>\n",
       "      <td>POINT (503344.199 7511681.103)</td>\n",
       "    </tr>\n",
       "    <tr>\n",
       "      <th>2</th>\n",
       "      <td>S0233921</td>\n",
       "      <td>Eliwana Far East 2 Marra Mamba</td>\n",
       "      <td>Eliwana Far East 2 Marra Mamba</td>\n",
       "      <td>Fe</td>\n",
       "      <td>Deposit</td>\n",
       "      <td>Unspecified</td>\n",
       "      <td>Undeveloped</td>\n",
       "      <td>IRON ORE</td>\n",
       "      <td>IRON</td>\n",
       "      <td>J03436</td>\n",
       "      <td>Western Hub / FMG</td>\n",
       "      <td>http://minedexext.dmp.wa.gov.au/minedex/extern...</td>\n",
       "      <td>2018-05-07</td>\n",
       "      <td>POINT (505699.008 7509917.737)</td>\n",
       "    </tr>\n",
       "  </tbody>\n",
       "</table>\n",
       "</div>"
      ],
      "text/plain": [
       "  SITE_CODE                      SITE_TITLE                      SHORT_NAME  \\\n",
       "0  S0001482                    Vivash Gorge                    Vivash Gorge   \n",
       "1  S0231563        Eliwana Exploration Camp                Exploration camp   \n",
       "2  S0233921  Eliwana Far East 2 Marra Mamba  Eliwana Far East 2 Marra Mamba   \n",
       "\n",
       "  SITE_COMMO      SITE_TYPE_         SITE_SUB_T   SITE_STAGE TARGET_COM  \\\n",
       "0         Fe         Deposit        Unspecified  Undeveloped   IRON ORE   \n",
       "1         Fe  Infrastructure  Town/Village/Camp    Operating   IRON ORE   \n",
       "2         Fe         Deposit        Unspecified  Undeveloped   IRON ORE   \n",
       "\n",
       "  COMMODITY_ PROJ_CODE                   PROJ_TITLE  \\\n",
       "0       IRON    J03931  Brockman 4 Area / Rio Tinto   \n",
       "1       IRON    J03436            Western Hub / FMG   \n",
       "2       IRON    J03436            Western Hub / FMG   \n",
       "\n",
       "                                            WEB_LINK  EXTRACT_DA  \\\n",
       "0  http://minedexext.dmp.wa.gov.au/minedex/extern...  2018-05-07   \n",
       "1  http://minedexext.dmp.wa.gov.au/minedex/extern...  2018-05-07   \n",
       "2  http://minedexext.dmp.wa.gov.au/minedex/extern...  2018-05-07   \n",
       "\n",
       "                         geometry  \n",
       "0  POINT (505671.537 7495706.968)  \n",
       "1  POINT (503344.199 7511681.103)  \n",
       "2  POINT (505699.008 7509917.737)  "
      ]
     },
     "metadata": {},
     "output_type": "display_data"
    },
    {
     "data": {
      "text/markdown": [
       "**Based on file: D:/Dropbox/1_Jupyter_notebooks/map2loop2-notebooks/source_data/null_mindeps.shp**"
      ],
      "text/plain": [
       "<IPython.core.display.Markdown object>"
      ]
     },
     "metadata": {},
     "output_type": "display_data"
    },
    {
     "data": {
      "text/markdown": [
       "\n",
       "**Field that contains site code of deposit**"
      ],
      "text/plain": [
       "<IPython.core.display.Markdown object>"
      ]
     },
     "metadata": {},
     "output_type": "display_data"
    },
    {
     "data": {
      "application/vnd.jupyter.widget-view+json": {
       "model_id": "f188e6a33a8041aea1e32986ba190e8a",
       "version_major": 2,
       "version_minor": 0
      },
      "text/plain": [
       "Dropdown(description='Site code', index=1, options=('No_col', 'SITE_CODE', 'SITE_TITLE', 'SHORT_NAME', 'SITE_C…"
      ]
     },
     "metadata": {},
     "output_type": "display_data"
    },
    {
     "data": {
      "text/markdown": [
       "**Field that contains short name of deposit (e.g. Jones deposit)**"
      ],
      "text/plain": [
       "<IPython.core.display.Markdown object>"
      ]
     },
     "metadata": {},
     "output_type": "display_data"
    },
    {
     "data": {
      "application/vnd.jupyter.widget-view+json": {
       "model_id": "138e4e3d9d324bc4b8c0bba3a19c52c4",
       "version_major": 2,
       "version_minor": 0
      },
      "text/plain": [
       "Dropdown(description='Short Name', index=3, options=('No_col', 'SITE_CODE', 'SITE_TITLE', 'SHORT_NAME', 'SITE_…"
      ]
     },
     "metadata": {},
     "output_type": "display_data"
    },
    {
     "data": {
      "text/markdown": [
       "**Field that contains site type of deposit (Mine, occurrence etc.)**"
      ],
      "text/plain": [
       "<IPython.core.display.Markdown object>"
      ]
     },
     "metadata": {},
     "output_type": "display_data"
    },
    {
     "data": {
      "application/vnd.jupyter.widget-view+json": {
       "model_id": "0690cb84853a400d8cb7485a2acb6220",
       "version_major": 2,
       "version_minor": 0
      },
      "text/plain": [
       "Dropdown(description='Site type', index=5, options=('No_col', 'SITE_CODE', 'SITE_TITLE', 'SHORT_NAME', 'SITE_C…"
      ]
     },
     "metadata": {},
     "output_type": "display_data"
    },
    {
     "data": {
      "text/markdown": [
       "**Field that contains target commodity of deposit (Commodity)**"
      ],
      "text/plain": [
       "<IPython.core.display.Markdown object>"
      ]
     },
     "metadata": {},
     "output_type": "display_data"
    },
    {
     "data": {
      "application/vnd.jupyter.widget-view+json": {
       "model_id": "09055e4902974294a9dff13c036830c2",
       "version_major": 2,
       "version_minor": 0
      },
      "text/plain": [
       "Dropdown(description='Target Comm', index=8, options=('No_col', 'SITE_CODE', 'SITE_TITLE', 'SHORT_NAME', 'SITE…"
      ]
     },
     "metadata": {},
     "output_type": "display_data"
    },
    {
     "data": {
      "text/markdown": [
       "**Field that contains site commodity of deposit (ore Mineral)**"
      ],
      "text/plain": [
       "<IPython.core.display.Markdown object>"
      ]
     },
     "metadata": {},
     "output_type": "display_data"
    },
    {
     "data": {
      "application/vnd.jupyter.widget-view+json": {
       "model_id": "d7555633fc2a4bea9ded89dacb796869",
       "version_major": 2,
       "version_minor": 0
      },
      "text/plain": [
       "Dropdown(description='Site Commodity', index=4, options=('No_col', 'SITE_CODE', 'SITE_TITLE', 'SHORT_NAME', 'S…"
      ]
     },
     "metadata": {},
     "output_type": "display_data"
    },
    {
     "data": {
      "text/markdown": [
       "**Field that contains commodity group of deposit (e.g. Metal)**"
      ],
      "text/plain": [
       "<IPython.core.display.Markdown object>"
      ]
     },
     "metadata": {},
     "output_type": "display_data"
    },
    {
     "data": {
      "application/vnd.jupyter.widget-view+json": {
       "model_id": "8bbb43b009864d8c944f1b24361ffc3f",
       "version_major": 2,
       "version_minor": 0
      },
      "text/plain": [
       "Dropdown(description='Commodity', index=9, options=('No_col', 'SITE_CODE', 'SITE_TITLE', 'SHORT_NAME', 'SITE_C…"
      ]
     },
     "metadata": {},
     "output_type": "display_data"
    },
    {
     "data": {
      "text/markdown": [
       "**Text to search for in field defined by Site type code that shows site to ignore**"
      ],
      "text/plain": [
       "<IPython.core.display.Markdown object>"
      ]
     },
     "metadata": {},
     "output_type": "display_data"
    },
    {
     "data": {
      "application/vnd.jupyter.widget-view+json": {
       "model_id": "2a142edc5d04497aa923156d4d954284",
       "version_major": 2,
       "version_minor": 0
      },
      "text/plain": [
       "Text(value='Cons', description='Not mine text', placeholder='Cons')"
      ]
     },
     "metadata": {},
     "output_type": "display_data"
    }
   ],
   "source": [
    "c_l['o']=o_choice.value\n",
    "c_l['g']=g_choice.value\n",
    "c_l['g2']=g2_choice.value\n",
    "c_l['c']=c_choice.value\n",
    "c_l['ds']=ds_choice.value\n",
    "c_l['u']=u_choice.value\n",
    "c_l['r1']=r1_choice.value\n",
    "c_l['r2']=r2_choice.value\n",
    "c_l['sill']=sill_choice.value\n",
    "c_l['intrusive']=intrusive_choice.value\n",
    "c_l['volcanic']=volcanic_choice.value\n",
    "c_l['min']=min_choice.value\n",
    "c_l['max']=max_choice.value\n",
    "\n",
    "mindep=gpd.read_file(mindep_file)\n",
    "display(mindep.head())\n",
    "cols=['No_col']\n",
    "for sc in mindep.columns:\n",
    "    cols.append(sc)\n",
    "\n",
    "printmd('**Based on file:'+' '+mindep_file+'**')\n",
    "\n",
    "printmd('\\n**Field that contains site code of deposit**')\n",
    "\n",
    "msc_choice=widgets.Dropdown(\n",
    "    options=cols,\n",
    "    value='SITE_CODE',\n",
    "    description='Site code',\n",
    "    disabled=False\n",
    ")\n",
    "display(msc_choice)\n",
    "\n",
    "printmd('**Field that contains short name of deposit (e.g. Jones deposit)**')\n",
    "\n",
    "msn_choice=widgets.Dropdown(\n",
    "    options=cols,\n",
    "    value='SHORT_NAME',\n",
    "    description='Short Name',\n",
    "    disabled=False\n",
    ")\n",
    "display(msn_choice)\n",
    "\n",
    "printmd('**Field that contains site type of deposit (Mine, occurrence etc.)**')\n",
    "\n",
    "mst_choice=widgets.Dropdown(\n",
    "    options=cols,\n",
    "    value='SITE_TYPE_',\n",
    "    description='Site type',\n",
    "    disabled=False\n",
    ")\n",
    "display(mst_choice)\n",
    "\n",
    "\n",
    "printmd('**Field that contains target commodity of deposit (Commodity)**')\n",
    "\n",
    "mtc_choice=widgets.Dropdown(\n",
    "    options=cols,\n",
    "    value='TARGET_COM',\n",
    "    description='Target Comm',\n",
    "    disabled=False\n",
    ")\n",
    "display(mtc_choice)\n",
    "\n",
    "printmd('**Field that contains site commodity of deposit (ore Mineral)**')\n",
    "\n",
    "mscm_choice=widgets.Dropdown(\n",
    "    options=cols,\n",
    "    value='SITE_COMMO',\n",
    "    description='Site Commodity',\n",
    "    disabled=False\n",
    ")\n",
    "display(mscm_choice)\n",
    "\n",
    "printmd('**Field that contains commodity group of deposit (e.g. Metal)**')\n",
    "\n",
    "mcom_choice=widgets.Dropdown(\n",
    "    options=cols,\n",
    "    value='COMMODITY_',\n",
    "    description='Commodity',\n",
    "    disabled=False,\n",
    "    style=style\n",
    ")\n",
    "display(mcom_choice)\n",
    "\n",
    "printmd('**Text to search for in field defined by Site type code that shows site to ignore**')\n",
    "\n",
    "minf_choice=widgets.Text(\n",
    "    placeholder='Cons',\n",
    "    value='Cons',\n",
    "    description='Not mine text',\n",
    "    disabled=False\n",
    ")\n",
    "display(minf_choice)\n"
   ]
  },
  {
   "cell_type": "code",
   "execution_count": 14,
   "metadata": {},
   "outputs": [],
   "source": [
    "c_l['msc']=msc_choice.value\n",
    "c_l['msn']=msn_choice.value\n",
    "c_l['mst']=mst_choice.value\n",
    "c_l['mtc']=mtc_choice.value\n",
    "c_l['mscm']=mscm_choice.value\n",
    "c_l['mcom']=mcom_choice.value\n",
    "c_l['minf']=minf_choice.value\n",
    "\n",
    "if(not os.path.isdir(test_data_name)):\n",
    "    os.mkdir(test_data_name)\n",
    "f=open(test_data_name+'/'+test_data_name+'_config.hjson',\"w\")\n",
    "f.write(str(c_l).replace('\\n',''))\n",
    "f.write(\"\\n\")\n",
    "\n",
    "f.close()"
   ]
  },
  {
   "cell_type": "code",
   "execution_count": 15,
   "metadata": {
    "scrolled": true
   },
   "outputs": [
    {
     "data": {
      "text/plain": [
       "{'d': 'D_Tdip',\n",
       " 'dd': 'TDD',\n",
       " 'sf': 'TYPE',\n",
       " 'bedding': 'Bed',\n",
       " 'otype': 'dip direction',\n",
       " 'bo': 'younging',\n",
       " 'btype': 'Blah',\n",
       " 'g': 'Group',\n",
       " 'g2': 'Gp_Form',\n",
       " 'c': 'Litho_no_m',\n",
       " 'ds': 'Litho_Simp',\n",
       " 'u': 'drift',\n",
       " 'r1': 'Litho_Geom',\n",
       " 'r2': 'Formation',\n",
       " 'sill': 'sill',\n",
       " 'intrusive': 'Intrusion',\n",
       " 'volcanic': 'volc',\n",
       " 'msc': 'SITE_CODE',\n",
       " 'msn': 'SHORT_NAME',\n",
       " 'mst': 'SITE_TYPE_',\n",
       " 'mtc': 'TARGET_COM',\n",
       " 'mscm': 'SITE_COMMO',\n",
       " 'mcom': 'COMMODITY_',\n",
       " 'minf': 'Cons',\n",
       " 'min': 'min_age',\n",
       " 'max': 'max_age',\n",
       " 'f': 'structure',\n",
       " 'fault': 'fault',\n",
       " 'ff': 'structure',\n",
       " 'fold': 'Fold',\n",
       " 'fdip': 'D_Tdip_n',\n",
       " 'fdipnull': '999',\n",
       " 'fdipdir': 'TDD_n',\n",
       " 'fdipdir_flag': 'num',\n",
       " 'fdipest': 'No_col',\n",
       " 'fdipest_vals': 'No_col',\n",
       " 'n': 'No_col',\n",
       " 't': 'type',\n",
       " 'syn': 'syn',\n",
       " 'o': 'id',\n",
       " 'gi': 'ID',\n",
       " 'deposit_dist': 500}"
      ]
     },
     "execution_count": 15,
     "metadata": {},
     "output_type": "execute_result"
    }
   ],
   "source": [
    "c_l"
   ]
  },
  {
   "cell_type": "code",
   "execution_count": 17,
   "metadata": {},
   "outputs": [
    {
     "data": {
      "text/markdown": [
       "**aus: Indicates if area is in Australia for using ASUD. Defaults to True.**"
      ],
      "text/plain": [
       "<IPython.core.display.Markdown object>"
      ]
     },
     "metadata": {},
     "output_type": "display_data"
    },
    {
     "data": {
      "application/vnd.jupyter.widget-view+json": {
       "model_id": "853b7ac6ad6e414ebb310cf564ecdca8",
       "version_major": 2,
       "version_minor": 0
      },
      "text/plain": [
       "Text(value='True', description='aus')"
      ]
     },
     "metadata": {},
     "output_type": "display_data"
    },
    {
     "data": {
      "text/markdown": [
       "**deposits: Mineral deposit names for focused topology extraction. Defaults to \"Fe,Cu,Au,NONE\".**"
      ],
      "text/plain": [
       "<IPython.core.display.Markdown object>"
      ]
     },
     "metadata": {},
     "output_type": "display_data"
    },
    {
     "data": {
      "application/vnd.jupyter.widget-view+json": {
       "model_id": "74e369440bfd4496871b0489afb48564",
       "version_major": 2,
       "version_minor": 0
      },
      "text/plain": [
       "Text(value='\"Fe,Cu,Au,NONE\"', description='deposits')"
      ]
     },
     "metadata": {},
     "output_type": "display_data"
    },
    {
     "data": {
      "text/markdown": [
       "**dtb: Path to depth to basement grid. Defaults to .**"
      ],
      "text/plain": [
       "<IPython.core.display.Markdown object>"
      ]
     },
     "metadata": {},
     "output_type": "display_data"
    },
    {
     "data": {
      "application/vnd.jupyter.widget-view+json": {
       "model_id": "0508c3d37649446b8dd4cfcf157c3cfa",
       "version_major": 2,
       "version_minor": 0
      },
      "text/plain": [
       "Text(value='', description='dtb')"
      ]
     },
     "metadata": {},
     "output_type": "display_data"
    },
    {
     "data": {
      "text/markdown": [
       "**orientation_decimate: Save every nth orientation data point. Defaults to 0.**"
      ],
      "text/plain": [
       "<IPython.core.display.Markdown object>"
      ]
     },
     "metadata": {},
     "output_type": "display_data"
    },
    {
     "data": {
      "application/vnd.jupyter.widget-view+json": {
       "model_id": "abbdaac6605a4f99a7bf391a748f3c9e",
       "version_major": 2,
       "version_minor": 0
      },
      "text/plain": [
       "Text(value='0', description='orientation_decimate')"
      ]
     },
     "metadata": {},
     "output_type": "display_data"
    },
    {
     "data": {
      "text/markdown": [
       "**contact_decimate: Save every nth contact data point. Defaults to 5.**"
      ],
      "text/plain": [
       "<IPython.core.display.Markdown object>"
      ]
     },
     "metadata": {},
     "output_type": "display_data"
    },
    {
     "data": {
      "application/vnd.jupyter.widget-view+json": {
       "model_id": "20c5bad2e84a4f85a315b9fbf800d908",
       "version_major": 2,
       "version_minor": 0
      },
      "text/plain": [
       "Text(value='5', description='contact_decimate')"
      ]
     },
     "metadata": {},
     "output_type": "display_data"
    },
    {
     "data": {
      "text/markdown": [
       "**intrusion_mode: 1 to exclude all intrusions from basal contacts, 0 to only exclude sills. Defaults to 0.**"
      ],
      "text/plain": [
       "<IPython.core.display.Markdown object>"
      ]
     },
     "metadata": {},
     "output_type": "display_data"
    },
    {
     "data": {
      "application/vnd.jupyter.widget-view+json": {
       "model_id": "28ac4aa97fd74792bc51a24052c3cbac",
       "version_major": 2,
       "version_minor": 0
      },
      "text/plain": [
       "Text(value='0', description='intrusion_mode')"
      ]
     },
     "metadata": {},
     "output_type": "display_data"
    },
    {
     "data": {
      "text/markdown": [
       "**interpolation_spacing: Interpolation grid spacing in meters. Defaults to 500.**"
      ],
      "text/plain": [
       "<IPython.core.display.Markdown object>"
      ]
     },
     "metadata": {},
     "output_type": "display_data"
    },
    {
     "data": {
      "application/vnd.jupyter.widget-view+json": {
       "model_id": "f4d25a2c745d4d9d87e2b1b49a29f68d",
       "version_major": 2,
       "version_minor": 0
      },
      "text/plain": [
       "Text(value='500', description='interpolation_spacing')"
      ]
     },
     "metadata": {},
     "output_type": "display_data"
    },
    {
     "data": {
      "text/markdown": [
       "**misorientation: maximimum misorientation between poles to bedding girdles to allow to be part of same supergroup. Defaults to 30.**"
      ],
      "text/plain": [
       "<IPython.core.display.Markdown object>"
      ]
     },
     "metadata": {},
     "output_type": "display_data"
    },
    {
     "data": {
      "application/vnd.jupyter.widget-view+json": {
       "model_id": "5bf1b6eef39e499c88b8cac325bdeb0f",
       "version_major": 2,
       "version_minor": 0
      },
      "text/plain": [
       "Text(value='30', description='misorientation')"
      ]
     },
     "metadata": {},
     "output_type": "display_data"
    },
    {
     "data": {
      "text/markdown": [
       "**interpolation_scheme: What interpolation function to use of scipy_rbf (radial basis) or scipy_idw (inverse distance weighted). Defaults to 'scipy_rbf'.**"
      ],
      "text/plain": [
       "<IPython.core.display.Markdown object>"
      ]
     },
     "metadata": {},
     "output_type": "display_data"
    },
    {
     "data": {
      "application/vnd.jupyter.widget-view+json": {
       "model_id": "ddbb5a46f31d4e58b1ee54131eddbab5",
       "version_major": 2,
       "version_minor": 0
      },
      "text/plain": [
       "Text(value='scipy_rbf', description='interpolation_scheme')"
      ]
     },
     "metadata": {},
     "output_type": "display_data"
    },
    {
     "data": {
      "text/markdown": [
       "**fault_decimate: Save every nth fault data point. Defaults to 5.**"
      ],
      "text/plain": [
       "<IPython.core.display.Markdown object>"
      ]
     },
     "metadata": {},
     "output_type": "display_data"
    },
    {
     "data": {
      "application/vnd.jupyter.widget-view+json": {
       "model_id": "c2cb861ae81c4c7190f6ebabb4473524",
       "version_major": 2,
       "version_minor": 0
      },
      "text/plain": [
       "Text(value='5', description='fault_decimate')"
      ]
     },
     "metadata": {},
     "output_type": "display_data"
    },
    {
     "data": {
      "text/markdown": [
       "**min_fault_length: Min fault length to be considered. Defaults to 5000.**"
      ],
      "text/plain": [
       "<IPython.core.display.Markdown object>"
      ]
     },
     "metadata": {},
     "output_type": "display_data"
    },
    {
     "data": {
      "application/vnd.jupyter.widget-view+json": {
       "model_id": "9330d373f4db41bf83f603be9329b2fb",
       "version_major": 2,
       "version_minor": 0
      },
      "text/plain": [
       "Text(value='5000', description='min_fault_length')"
      ]
     },
     "metadata": {},
     "output_type": "display_data"
    },
    {
     "data": {
      "text/markdown": [
       "**fault_dip: Defaults to 90.**"
      ],
      "text/plain": [
       "<IPython.core.display.Markdown object>"
      ]
     },
     "metadata": {},
     "output_type": "display_data"
    },
    {
     "data": {
      "application/vnd.jupyter.widget-view+json": {
       "model_id": "fb0e362f0b5b470fba32512d6ec82c87",
       "version_major": 2,
       "version_minor": 0
      },
      "text/plain": [
       "Text(value='90', description='fault_dip')"
      ]
     },
     "metadata": {},
     "output_type": "display_data"
    },
    {
     "data": {
      "text/markdown": [
       "**pluton_dip: Dip of contacts. Defaults to 45.**"
      ],
      "text/plain": [
       "<IPython.core.display.Markdown object>"
      ]
     },
     "metadata": {},
     "output_type": "display_data"
    },
    {
     "data": {
      "application/vnd.jupyter.widget-view+json": {
       "model_id": "bfd03d989b934a28af77761e3fc1ee05",
       "version_major": 2,
       "version_minor": 0
      },
      "text/plain": [
       "Text(value='45', description='pluton_dip')"
      ]
     },
     "metadata": {},
     "output_type": "display_data"
    },
    {
     "data": {
      "text/markdown": [
       "**pluton_form: Possible forms from domes, saucers or pendant. Defaults to 'domes'.**"
      ],
      "text/plain": [
       "<IPython.core.display.Markdown object>"
      ]
     },
     "metadata": {},
     "output_type": "display_data"
    },
    {
     "data": {
      "application/vnd.jupyter.widget-view+json": {
       "model_id": "554cfc18328a46bfa54cdb424e9366c5",
       "version_major": 2,
       "version_minor": 0
      },
      "text/plain": [
       "Text(value='domes', description='pluton_form')"
      ]
     },
     "metadata": {},
     "output_type": "display_data"
    },
    {
     "data": {
      "text/markdown": [
       "**dist_buffer: Buffer for processing plutons for faults that do not quite touch pluton. Defaults to 10.**"
      ],
      "text/plain": [
       "<IPython.core.display.Markdown object>"
      ]
     },
     "metadata": {},
     "output_type": "display_data"
    },
    {
     "data": {
      "application/vnd.jupyter.widget-view+json": {
       "model_id": "fdee9cddd4ed4d7bb3c674acadb36f71",
       "version_major": 2,
       "version_minor": 0
      },
      "text/plain": [
       "Text(value='10', description='dist_buffer')"
      ]
     },
     "metadata": {},
     "output_type": "display_data"
    },
    {
     "data": {
      "text/markdown": [
       "**contact_dip: Assign fixed dip to all contacts, -99 means interpolated local orientaiton field is used. Defaults to -999.**"
      ],
      "text/plain": [
       "<IPython.core.display.Markdown object>"
      ]
     },
     "metadata": {},
     "output_type": "display_data"
    },
    {
     "data": {
      "application/vnd.jupyter.widget-view+json": {
       "model_id": "6cf8c49ebd5542cfbba32d674ceaba05",
       "version_major": 2,
       "version_minor": 0
      },
      "text/plain": [
       "Text(value='-999', description='contact_dip')"
      ]
     },
     "metadata": {},
     "output_type": "display_data"
    },
    {
     "data": {
      "text/markdown": [
       "**contact_orientation_decimate: Save every nth contact orientation point. Defaults to 5.**"
      ],
      "text/plain": [
       "<IPython.core.display.Markdown object>"
      ]
     },
     "metadata": {},
     "output_type": "display_data"
    },
    {
     "data": {
      "application/vnd.jupyter.widget-view+json": {
       "model_id": "52c5537e75a5423ead14f8f1a6c84803",
       "version_major": 2,
       "version_minor": 0
      },
      "text/plain": [
       "Text(value='5', description='contact_orientation_decimate')"
      ]
     },
     "metadata": {},
     "output_type": "display_data"
    },
    {
     "data": {
      "text/markdown": [
       "**null_scheme: How null values present in the dtb. Defaults to 'null'.**"
      ],
      "text/plain": [
       "<IPython.core.display.Markdown object>"
      ]
     },
     "metadata": {},
     "output_type": "display_data"
    },
    {
     "data": {
      "application/vnd.jupyter.widget-view+json": {
       "model_id": "0115a410b04641eabfb5330878ac0852",
       "version_major": 2,
       "version_minor": 0
      },
      "text/plain": [
       "Text(value='null', description='null_scheme')"
      ]
     },
     "metadata": {},
     "output_type": "display_data"
    },
    {
     "data": {
      "text/markdown": [
       "**thickness_buffer: Maximum distance to search for next contact when calculating formation thickness. Defaults to 5000.**"
      ],
      "text/plain": [
       "<IPython.core.display.Markdown object>"
      ]
     },
     "metadata": {},
     "output_type": "display_data"
    },
    {
     "data": {
      "application/vnd.jupyter.widget-view+json": {
       "model_id": "a37c5d3a4b5b40b5b6a173173795de88",
       "version_major": 2,
       "version_minor": 0
      },
      "text/plain": [
       "Text(value='5000', description='thickness_buffer')"
      ]
     },
     "metadata": {},
     "output_type": "display_data"
    },
    {
     "data": {
      "text/markdown": [
       "**max_thickness_allowed: Maximum formation thickness allowed for calculation. Defaults to 10000.**"
      ],
      "text/plain": [
       "<IPython.core.display.Markdown object>"
      ]
     },
     "metadata": {},
     "output_type": "display_data"
    },
    {
     "data": {
      "application/vnd.jupyter.widget-view+json": {
       "model_id": "a41e1ee454c94446877fd9777c2fdd7e",
       "version_major": 2,
       "version_minor": 0
      },
      "text/plain": [
       "Text(value='10000', description='max_thickness_allowed')"
      ]
     },
     "metadata": {},
     "output_type": "display_data"
    },
    {
     "data": {
      "text/markdown": [
       "**fold_decimate: Save every nth fold data point. Defaults to 5.**"
      ],
      "text/plain": [
       "<IPython.core.display.Markdown object>"
      ]
     },
     "metadata": {},
     "output_type": "display_data"
    },
    {
     "data": {
      "application/vnd.jupyter.widget-view+json": {
       "model_id": "abaac28c958644be9f489bb216235c0f",
       "version_major": 2,
       "version_minor": 0
      },
      "text/plain": [
       "Text(value='5', description='fold_decimate')"
      ]
     },
     "metadata": {},
     "output_type": "display_data"
    },
    {
     "data": {
      "text/markdown": [
       "**fat_step: How much to step out normal to the fold axial trace for limb orientations. Defaults to 750.**"
      ],
      "text/plain": [
       "<IPython.core.display.Markdown object>"
      ]
     },
     "metadata": {},
     "output_type": "display_data"
    },
    {
     "data": {
      "application/vnd.jupyter.widget-view+json": {
       "model_id": "64f410253b6b47968b99b5afc0f91965",
       "version_major": 2,
       "version_minor": 0
      },
      "text/plain": [
       "Text(value='750', description='fat_step')"
      ]
     },
     "metadata": {},
     "output_type": "display_data"
    },
    {
     "data": {
      "text/markdown": [
       "**close_dip: Dip to assign to all new orientations. Defaults to -999.**"
      ],
      "text/plain": [
       "<IPython.core.display.Markdown object>"
      ]
     },
     "metadata": {},
     "output_type": "display_data"
    },
    {
     "data": {
      "application/vnd.jupyter.widget-view+json": {
       "model_id": "498be664253d4f7295a853042f15a3b8",
       "version_major": 2,
       "version_minor": 0
      },
      "text/plain": [
       "Text(value='-999', description='close_dip')"
      ]
     },
     "metadata": {},
     "output_type": "display_data"
    },
    {
     "data": {
      "text/markdown": [
       "**use_interpolations: Defaults to False.**"
      ],
      "text/plain": [
       "<IPython.core.display.Markdown object>"
      ]
     },
     "metadata": {},
     "output_type": "display_data"
    },
    {
     "data": {
      "application/vnd.jupyter.widget-view+json": {
       "model_id": "576a2b25e3034917a2ce82ef6632886a",
       "version_major": 2,
       "version_minor": 0
      },
      "text/plain": [
       "Text(value='False', description='use_interpolations')"
      ]
     },
     "metadata": {},
     "output_type": "display_data"
    },
    {
     "data": {
      "text/markdown": [
       "**use_fat: Use fake limb orientaiton data around fold hinges Defaults to False.**"
      ],
      "text/plain": [
       "<IPython.core.display.Markdown object>"
      ]
     },
     "metadata": {},
     "output_type": "display_data"
    },
    {
     "data": {
      "application/vnd.jupyter.widget-view+json": {
       "model_id": "5df1d0e6b1144a439adda4179299a509",
       "version_major": 2,
       "version_minor": 0
      },
      "text/plain": [
       "Text(value='False', description='use_fat')"
      ]
     },
     "metadata": {},
     "output_type": "display_data"
    }
   ],
   "source": [
    "printmd('**aus: Indicates if area is in Australia for using ASUD. Defaults to True.**')\n",
    "\n",
    "aus=widgets.Text(\n",
    "    options=cols,\n",
    "    value='True',\n",
    "    description='aus',\n",
    "    disabled=False\n",
    ")\n",
    "display(aus)\n",
    "\n",
    "printmd('**deposits: Mineral deposit names for focused topology extraction. Defaults to \"Fe,Cu,Au,NONE\".**')\n",
    "\n",
    "deposits=widgets.Text(\n",
    "    options=cols,\n",
    "    value='\"Fe,Cu,Au,NONE\"',\n",
    "    description='deposits',\n",
    "    disabled=False\n",
    ")\n",
    "display(deposits)\n",
    "\n",
    "printmd('**dtb: Path to depth to basement grid. Defaults to ''.**')\n",
    "\n",
    "dtb=widgets.Text(\n",
    "    options=cols,\n",
    "    value='',\n",
    "    description='dtb',\n",
    "    disabled=False\n",
    ")\n",
    "display(dtb)\n",
    "\n",
    "printmd('**orientation_decimate: Save every nth orientation data point. Defaults to 0.**')\n",
    "\n",
    "orientation_decimate=widgets.Text(\n",
    "    options=cols,\n",
    "    value='0',\n",
    "    description='orientation_decimate',\n",
    "    disabled=False\n",
    ")\n",
    "display(orientation_decimate)\n",
    "\n",
    "printmd('**contact_decimate: Save every nth contact data point. Defaults to 5.**')\n",
    "\n",
    "contact_decimate=widgets.Text(\n",
    "    options=cols,\n",
    "    value='5',\n",
    "    description='contact_decimate',\n",
    "    disabled=False\n",
    ")\n",
    "display(contact_decimate)\n",
    "\n",
    "printmd('**intrusion_mode: 1 to exclude all intrusions from basal contacts, 0 to only exclude sills. Defaults to 0.**')\n",
    "\n",
    "intrusion_mode=widgets.Text(\n",
    "    options=cols,\n",
    "    value='0',\n",
    "    description='intrusion_mode',\n",
    "    disabled=False\n",
    ")\n",
    "display(intrusion_mode)\n",
    "\n",
    "printmd('**interpolation_spacing: Interpolation grid spacing in meters. Defaults to 500.**')\n",
    "interpolation_spacing=widgets.Text(\n",
    "    options=cols,\n",
    "    value= '500',\n",
    "    description='interpolation_spacing',\n",
    "    disabled=False\n",
    ")\n",
    "display(interpolation_spacing)\n",
    "\n",
    "printmd('**misorientation: maximimum misorientation between poles to bedding girdles to allow to be part of same supergroup. Defaults to 30.**')\n",
    "\n",
    "misorientation=widgets.Text(\n",
    "    options=cols,\n",
    "    value='30',\n",
    "    description='misorientation',\n",
    "    disabled=False\n",
    ")\n",
    "display(misorientation)\n",
    "\n",
    "printmd('**interpolation_scheme: What interpolation function to use of scipy_rbf (radial basis) or scipy_idw (inverse distance weighted). Defaults to \\'scipy_rbf\\'.**')\n",
    "\n",
    "interpolation_scheme=widgets.Text(\n",
    "    options=cols,\n",
    "    value='scipy_rbf',\n",
    "    description='interpolation_scheme',\n",
    "    disabled=False\n",
    ")\n",
    "display(interpolation_scheme)\n",
    "\n",
    "printmd('**fault_decimate: Save every nth fault data point. Defaults to 5.**')\n",
    "\n",
    "fault_decimate=widgets.Text(\n",
    "    options=cols,\n",
    "    value='5',\n",
    "    description='fault_decimate',\n",
    "    disabled=False\n",
    ")\n",
    "display(fault_decimate)\n",
    "\n",
    "printmd('**min_fault_length: Min fault length to be considered. Defaults to 5000.**')\n",
    "\n",
    "min_fault_length=widgets.Text(\n",
    "    options=cols,\n",
    "    value='5000',\n",
    "    description='min_fault_length',\n",
    "    disabled=False\n",
    ")\n",
    "display(min_fault_length)\n",
    "\n",
    "printmd('**fault_dip: Defaults to 90.**')\n",
    "\n",
    "fault_dip=widgets.Text(\n",
    "    options=cols,\n",
    "    value='90',\n",
    "    description='fault_dip',\n",
    "    disabled=False\n",
    ")\n",
    "display(fault_dip)\n",
    "\n",
    "printmd('**pluton_dip: Dip of contacts. Defaults to 45.**')\n",
    "\n",
    "pluton_dip=widgets.Text(\n",
    "    options=cols,\n",
    "    value='45',\n",
    "    description='pluton_dip',\n",
    "    disabled=False\n",
    ")\n",
    "display(pluton_dip)\n",
    "\n",
    "printmd('**pluton_form: Possible forms from domes, saucers or pendant. Defaults to \\'domes\\'.**')\n",
    "\n",
    "pluton_form=widgets.Text(\n",
    "    options=cols,\n",
    "    value='domes',\n",
    "    description='pluton_form',\n",
    "    disabled=False\n",
    ")\n",
    "display(pluton_form)\n",
    "\n",
    "printmd('**dist_buffer: Buffer for processing plutons for faults that do not quite touch pluton. Defaults to 10.**')\n",
    "\n",
    "dist_buffer=widgets.Text(\n",
    "    options=cols,\n",
    "    value='10',\n",
    "    description='dist_buffer',\n",
    "    disabled=False\n",
    ")\n",
    "display(dist_buffer)\n",
    "\n",
    "printmd('**contact_dip: Assign fixed dip to all contacts, -99 means interpolated local orientaiton field is used. Defaults to -999.**')\n",
    "\n",
    "contact_dip=widgets.Text(\n",
    "    options=cols,\n",
    "    value='-999',\n",
    "    description='contact_dip',\n",
    "    disabled=False\n",
    ")\n",
    "display(contact_dip)\n",
    "\n",
    "printmd('**contact_orientation_decimate: Save every nth contact orientation point. Defaults to 5.**')\n",
    "\n",
    "contact_orientation_decimate=widgets.Text(\n",
    "    options=cols,\n",
    "    value='5',\n",
    "    description='contact_orientation_decimate',\n",
    "    disabled=False\n",
    ")\n",
    "display(contact_orientation_decimate)\n",
    "\n",
    "printmd('**null_scheme: How null values present in the dtb. Defaults to \\'null\\'.**')\n",
    "\n",
    "null_scheme=widgets.Text(\n",
    "    options=cols,\n",
    "    value='null',\n",
    "    description='null_scheme',\n",
    "    disabled=False\n",
    ")\n",
    "display(null_scheme)\n",
    "\n",
    "printmd('**thickness_buffer: Maximum distance to search for next contact when calculating formation thickness. Defaults to 5000.**')\n",
    "\n",
    "thickness_buffer=widgets.Text(\n",
    "    options=cols,\n",
    "    value='5000',\n",
    "    description='thickness_buffer',\n",
    "    disabled=False\n",
    ")\n",
    "display(thickness_buffer)\n",
    "\n",
    "printmd('**max_thickness_allowed: Maximum formation thickness allowed for calculation. Defaults to 10000.**')\n",
    "\n",
    "max_thickness_allowed=widgets.Text(\n",
    "    options=cols,\n",
    "    value='10000',\n",
    "    description='max_thickness_allowed',\n",
    "    disabled=False\n",
    ")\n",
    "display(max_thickness_allowed)\n",
    "\n",
    "printmd('**fold_decimate: Save every nth fold data point. Defaults to 5.**')\n",
    "\n",
    "fold_decimate=widgets.Text(\n",
    "    options=cols,\n",
    "    value='5',\n",
    "    description='fold_decimate',\n",
    "    disabled=False\n",
    ")\n",
    "display(fold_decimate)\n",
    "\n",
    "printmd('**fat_step: How much to step out normal to the fold axial trace for limb orientations. Defaults to 750.**')\n",
    "\n",
    "fat_step=widgets.Text(\n",
    "    options=cols,\n",
    "    value='750',\n",
    "    description='fat_step',\n",
    "    disabled=False\n",
    ")\n",
    "display(fat_step)\n",
    "\n",
    "printmd('**close_dip: Dip to assign to all new orientations. Defaults to -999.**')\n",
    "\n",
    "close_dip=widgets.Text(\n",
    "    options=cols,\n",
    "    value='-999',\n",
    "    description='close_dip',\n",
    "    disabled=False\n",
    ")\n",
    "display(close_dip)\n",
    "\n",
    "printmd('**use_interpolations: Defaults to False.**')\n",
    "\n",
    "use_interpolations=widgets.Text(\n",
    "    options=cols,\n",
    "    value='False',\n",
    "    description='use_interpolations',\n",
    "    disabled=False\n",
    ")\n",
    "display(use_interpolations)\n",
    "\n",
    "printmd('**use_fat: Use fake limb orientaiton data around fold hinges Defaults to False.**')\n",
    "\n",
    "use_fat=widgets.Text(\n",
    "    options=cols,\n",
    "    value='False',\n",
    "    description='use_fat',\n",
    "    disabled=False\n",
    ")\n",
    "display(use_fat)\n",
    "\n",
    "\n",
    "\n"
   ]
  },
  {
   "cell_type": "code",
   "execution_count": 16,
   "metadata": {},
   "outputs": [],
   "source": [
    "f=open(test_data_name+'/run_m2l.py',\"w\")\n",
    "f.write(\"\\\n",
    "\\\n",
    "import os\\n\\\n",
    "from map2loop.project import Project\\n\\\n",
    "\\n\\\n",
    "proj = Project(\\n\\\n",
    "                  geology_file='\"+geology_file+\"',\\n\\\n",
    "                  fault_file='\"+fault_file+\"',\\n\\\n",
    "                  fold_file='\"+fold_file+\"',\\n\\\n",
    "                  structure_file='\"+structure_file+\"',\\n\\\n",
    "                  mindep_file='\"+mindep_file+\"',\\n\\\n",
    "                  metadata='\"+\"./\"+test_data_name+\"_config.hjson'\\n\\\n",
    "                )\\n\\\n",
    "\\n\\\n",
    "proj.update_config(\\n\\\n",
    "                    out_dir='\"+test_data_name+\"',\\n\\\n",
    "                    overwrite='true',\\n\\\n",
    "                    bbox_3d={\\n\\\n",
    "                        'minx': \"+minx+\" ,\\n\\\n",
    "                        'miny': \"+miny+\" ,\\n\\\n",
    "                        'maxx': \"+maxx+\" ,\\n\\\n",
    "                        'maxy': \"+maxy+\" ,\\n\\\n",
    "                        'base': \"+minz+\",\\n\\\n",
    "                        'top':  \"+maxz+\",\\n\\\n",
    "                        'local' : True,\\n\\\n",
    "                        'aus': \"+aus+\",\\n\\\n",
    "                        'close_dip': \"+close_dip+\",\\n\\\n",
    "                        'contact_decimate': \"+contact_decimate+\",\\n\\\n",
    "                        'contact_dip': \"+contact_dip+\",\\n\\\n",
    "                        'contact_orientation_decimate': \"+contact_orientation_decimate+\",\\n\\\n",
    "                        'deposits': \"+deposits+\",\\n\\\n",
    "                        'dist_buffer': \"+dist_buffer+\",\\n\\\n",
    "                        'dtb': \"+dtb+\",\\n\\\n",
    "                        'fat_step': \"+fat_step+\",\\n\\\n",
    "                        'fault_decimate': \"+fault_decimate+\",\\n\\\n",
    "                        'fault_dip': \"+fault_dip+\",\\n\\\n",
    "                        'fold_decimate': \"+fold_decimate+\",\\n\\\n",
    "                        'interpolation_scheme': \"+interpolation_scheme+\",\\n\\\n",
    "                        'interpolation_spacing': \"+interpolation_spacing+\",\\n\\\n",
    "                        'intrusion_mode': \"+intrusion_mode+\",\\n\\\n",
    "                        'max_thickness_allowed': \"+max_thickness_allowed+\",\\n\\\n",
    "                        'min_fault_length': \"+min_fault_length+\",\\n\\\n",
    "                        'misorientation': \"+misorientation+\",\\n\\\n",
    "                        'null_scheme': \"+null_scheme+\",\\n\\\n",
    "                        'orientation_decimate': \"+orientation_decimate+\",\\n\\\n",
    "                        'pluton_dip': \"+pluton_dip+\",\\n\\\n",
    "                        'pluton_form': \"+pluton_form+\",\\n\\\n",
    "                        'thickness_buffer': \"+thickness_buffer+\",\\n\\\n",
    "                        'use_fat': \"+use_fat+\",\\n\\\n",
    "                        'use_interpolations': \"+use_interpolations+\",\\n\\\n",
    "                     },\\n\\\n",
    "                    proj_crs={'init': '\"+dst_crs+\"'},\\n\\\n",
    "                    quiet=True\\n\\\n",
    "                  )\\n\\\n",
    "\\nproj.run(aus=False)\\n\"   \n",
    "        \n",
    ")\n",
    "f.write(\"\\n\")\n",
    "f.close()"
   ]
  },
  {
   "cell_type": "code",
   "execution_count": null,
   "metadata": {},
   "outputs": [],
   "source": []
  }
 ],
 "metadata": {
  "kernelspec": {
   "display_name": "Python 3",
   "language": "python",
   "name": "python3"
  },
  "language_info": {
   "codemirror_mode": {
    "name": "ipython",
    "version": 3
   },
   "file_extension": ".py",
   "mimetype": "text/x-python",
   "name": "python",
   "nbconvert_exporter": "python",
   "pygments_lexer": "ipython3",
   "version": "3.7.10"
  }
 },
 "nbformat": 4,
 "nbformat_minor": 4
}
