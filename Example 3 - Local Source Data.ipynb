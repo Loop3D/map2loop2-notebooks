{
 "cells": [
  {
   "cell_type": "markdown",
   "metadata": {},
   "source": [
    "# Loop Workflow Example 3"
   ]
  },
  {
   "cell_type": "markdown",
   "metadata": {},
   "source": [
    "* High level approach to making a 3D model from just a bounding box and source files as input. (In Australia only for now. Documentation to come)\n",
    "* This notebook uses example data provided by the Geological Survey of Western Australia.\n",
    "* To run with your own data you will need to run the Utility 1 notebook to create an hjson config file and supply your own dtm model (service or geotif file in local coordinate system)"
   ]
  },
  {
   "cell_type": "code",
   "execution_count": null,
   "metadata": {},
   "outputs": [],
   "source": [
    "import time\n",
    "t0 = time.time()"
   ]
  },
  {
   "cell_type": "markdown",
   "metadata": {},
   "source": [
    "## Map2Loop"
   ]
  },
  {
   "cell_type": "code",
   "execution_count": null,
   "metadata": {
    "scrolled": true
   },
   "outputs": [],
   "source": [
    "import os\n",
    "from map2loop.project import Project\n",
    "\n",
    "proj = Project( \n",
    "                  geology_file=\"./source_data/geol_clip.shp\",\n",
    "                  fault_file=\"./source_data/faults_clip.shp\",\n",
    "                  fold_file=\"./source_data/folds_clip.shp\",\n",
    "                  structure_file=\"./source_data/structure_clip.shp\",\n",
    "                  mindep_file=\"./source_data/mindeps_clip.shp\",\n",
    "                  #loopdata_state = \"WA\",\n",
    "                  dtm_file='./source_data/dtm_rp.tif',\n",
    "                  metadata='./source_data/example.hjson'\n",
    "                )\n",
    "\n",
    "proj.update_config(\n",
    "                    out_dir='./Example3',\n",
    "                    overwrite='in-place',\n",
    "                    bbox_3d={\n",
    "                         \"minx\": 520000,\n",
    "                         \"miny\": 7490000,\n",
    "                         \"maxx\": 550000,\n",
    "                         \"maxy\": 7510000,\n",
    "                         \"base\": -3200,\n",
    "                         \"top\": 1200,\n",
    "                     },\n",
    "                     run_flags={                        \n",
    "                        'local' : True,\n",
    "                        'aus': True,\n",
    "                        'close_dip': -999,\n",
    "                        'contact_decimate': 5,\n",
    "                        'contact_dip': -999,\n",
    "                        'contact_orientation_decimate': 5,\n",
    "                        'deposits': \"Fe,Cu,Au,NONE\",\n",
    "                        'dist_buffer': 10,\n",
    "                        'dtb': '',\n",
    "                        'fat_step': 750,\n",
    "                        'fault_decimate': 5,\n",
    "                        'fault_dip': 90,\n",
    "                        'fold_decimate': 5,\n",
    "                        'interpolation_scheme': 'scipy_rbf',\n",
    "                        'interpolation_spacing': 500,\n",
    "                        'intrusion_mode': 0,\n",
    "                        'max_thickness_allowed': 10000,\n",
    "                        'min_fault_length': 5000,\n",
    "                        'misorientation': 30,\n",
    "                        'null_scheme': 'null',\n",
    "                        'orientation_decimate': 0,\n",
    "                        'pluton_dip': 45,\n",
    "                        'pluton_form': 'saucers',\n",
    "                        'thickness_buffer': 5000,\n",
    "                        'use_fat': False,\n",
    "                        'use_interpolations': False,\n",
    "                        'fault_orientation_clusters':2,\n",
    "                        'fault_length_clusters':2\n",
    "                    },\n",
    "                    proj_crs={'init': 'EPSG:28350'},\n",
    "                    clut_path='./source_data/500kibg_colours.csv',\n",
    "                    quiet='all' # change this to 'None' (with quotes) to see intermediate output\n",
    "                  )\n",
    "proj.config.c_l['intrusive']='mafic intrusive'\n",
    "proj.run()"
   ]
  },
  {
   "cell_type": "markdown",
   "metadata": {},
   "source": [
    "## Loop Structural"
   ]
  },
  {
   "cell_type": "code",
   "execution_count": null,
   "metadata": {},
   "outputs": [],
   "source": [
    "# Define project pathing from m2l\n",
    "proj_path = proj.config.project_path\n",
    "graph_path = proj.config.graph_path\n",
    "tmp_path = proj.config.tmp_path\n",
    "data_path = proj.config.data_path\n",
    "dtm_path = proj.config.dtm_path\n",
    "output_path = proj.config.output_path\n",
    "vtk_path = proj.config.vtk_path\n",
    "\n",
    "# Define project bounds\n",
    "minx,miny,maxx,maxy = proj.config.bbox\n",
    "model_base = proj.config.bbox_3d['base']\n",
    "model_top = proj.config.bbox_3d['top']\n",
    "\n",
    "fault_file = proj.config.fault_file_csv"
   ]
  },
  {
   "cell_type": "code",
   "execution_count": null,
   "metadata": {
    "scrolled": false
   },
   "outputs": [],
   "source": [
    "from LoopStructural import GeologicalModel\n",
    "from LoopStructural.visualisation import LavaVuModelViewer\n",
    "from datetime import datetime\n",
    "import os\n",
    "import time\n",
    "from datetime import datetime\n",
    "import shutil\n",
    "import logging\n",
    "logging.getLogger().setLevel(logging.ERROR)\n",
    "import lavavu\n",
    "import numpy as np\n",
    "from map2loop.m2l_utils import save_dtm_mesh\n",
    "\n",
    "t1 = time.time()\n",
    "\n",
    "nowtime=datetime.now().isoformat(timespec='minutes')   \n",
    "model_name='leaflet'+'_'+nowtime.replace(\":\",\"-\").replace(\"T\",\"-\")\n",
    "if (os.path.exists(vtk_path+model_name)):\n",
    "    shutil.rmtree(vtk_path+model_name)\n",
    "os.mkdir(vtk_path+model_name)\n",
    "filename=vtk_path+model_name+'/'+'surface_name_{}.vtk'\n",
    "\n",
    "save_dtm_mesh(dtm_path,vtk_path+model_name+'/')\n",
    "\n",
    "f=open(tmp_path+'/bbox.csv','w')\n",
    "f.write('minx,miny,maxx,maxy,lower,upper\\n')\n",
    "ostr='{},{},{},{},{},{}\\n'.format(minx,miny,maxx,maxy,model_base,model_top)\n",
    "f.write(ostr)\n",
    "f.close()\n",
    "\n",
    "\n",
    "fault_params = {'interpolatortype':'FDI',\n",
    "                 'nelements':1e5,\n",
    "                'step':10,\n",
    "                'fault_buffer':0.3,\n",
    "                'solver':'cg',\n",
    "                'cpw':10,\n",
    "                'npw':10}\n",
    "foliation_params = {'interpolatortype':'FDI' , # 'interpolatortype':'PLI',\n",
    "                    'nelements':1e5,  # how many tetras/voxels\n",
    "                    'buffer':1.8,  # how much to extend nterpolation around box\n",
    "                    'solver':'cg',\n",
    "                    'cpw':10,\n",
    "                    'npw':10}\n",
    "model, m2l_data = GeologicalModel.from_map2loop_directory(proj_path,\n",
    "                                                          #    evaluate=False,\n",
    "                                                          fault_params=fault_params,\n",
    "                                                          rescale=False,\n",
    "                                                          foliation_params=foliation_params,\n",
    "                                                         skip_features=['Fault_16245'])\n",
    "#model.to_file(output_path + \"/model.pickle\")    \n",
    "\n",
    "view = LavaVuModelViewer(model,vertical_exaggeration=1) \n",
    "#view.nsteps = np.array([200,200,200])\n",
    "view.nsteps=np.array([50,50,50])\n",
    "for sg in model.feature_name_index:\n",
    "    if( 'super' in sg):\n",
    "        view.add_data(model.features[model.feature_name_index[sg]])\n",
    "view.nelements = 1e5\n",
    "view.add_model_surfaces(filename=filename,faults=False)\n",
    "view.nelements=1e6\n",
    "view.add_model_surfaces(filename=filename,strati=False,displacement_cmap = 'rainbow')\n",
    "view.lv.webgl(vtk_path+model_name)\n",
    "view.nsteps = np.array([200,200,200])\n",
    "\n",
    "view.add_model()\n",
    "\n",
    "view.lv.control.Range('alpha', label=\"Global Opacity\")\n",
    "view.lv.control.DualRange(['xmin', 'xmax'], label=\"x clip\", step=0.01, values=[0.0,1.0])\n",
    "view.lv.control.DualRange(['ymin', 'ymax'], label=\"y clip\", step=0.01, values=[0.0,1.0])\n",
    "view.lv.control.DualRange(['zmin', 'zmax'], label=\"z clip\", step=0.01, values=[0.0,1.0])\n",
    "view.lv.control.Range(command='background', range=(0,1), step=0.1, value=0.8)\n",
    "view.lv.control.show() #Show the control panel, including the viewer window\n",
    "view.interactive()  \n",
    "\n",
    "t2 = time.time()\n",
    "print(\"m2l\",(t1-t0)/60.0,\"LoopStructural\",(t2-t1)/60.0,\"Total\",(t2-t0)/60.0,\"minutes\")"
   ]
  },
  {
   "cell_type": "code",
   "execution_count": null,
   "metadata": {},
   "outputs": [],
   "source": []
  }
 ],
 "metadata": {
  "kernelspec": {
   "display_name": "Python 3",
   "language": "python",
   "name": "python3"
  },
  "language_info": {
   "codemirror_mode": {
    "name": "ipython",
    "version": 3
   },
   "file_extension": ".py",
   "mimetype": "text/x-python",
   "name": "python",
   "nbconvert_exporter": "python",
   "pygments_lexer": "ipython3",
   "version": "3.7.10"
  }
 },
 "nbformat": 4,
 "nbformat_minor": 4
}
