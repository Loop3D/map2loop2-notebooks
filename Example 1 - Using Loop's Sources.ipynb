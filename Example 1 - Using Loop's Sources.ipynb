{
 "cells": [
  {
   "cell_type": "markdown",
   "metadata": {},
   "source": [
    "# Loop Workflow Example 1"
   ]
  },
  {
   "cell_type": "markdown",
   "metadata": {},
   "source": [
    "> * High level approach to making a 3D model from just a bounding box (in Australia only for now)."
   ]
  },
  {
   "cell_type": "code",
   "execution_count": null,
   "metadata": {},
   "outputs": [],
   "source": [
    "import time\n",
    "t0 = time.time()"
   ]
  },
  {
   "cell_type": "markdown",
   "metadata": {},
   "source": [
    "## Map2Loop"
   ]
  },
  {
   "cell_type": "code",
   "execution_count": null,
   "metadata": {
    "scrolled": false
   },
   "outputs": [],
   "source": [
    "import os\n",
    "from map2loop.project import Project\n",
    "\n",
    "proj = Project( \n",
    "    loopdata_state=\"WA\",\n",
    ")\n",
    "\n",
    "proj.update_config(\n",
    "                    out_dir='./gmd-model',\n",
    "                    overwrite='in-place',\n",
    "                    bbox_3d={\n",
    "                         \"minx\": 515687.31005864, # region of interest for GMD paper\n",
    "                         \"miny\": 7473446.76593407,\n",
    "                         \"maxx\": 562666.860106543,\n",
    "                         \"maxy\": 7521273.57407786,\n",
    "                         \"base\": -3200,\n",
    "                         \"top\": 1200,\n",
    "                     },\n",
    "                    proj_crs={'init': 'EPSG:28350'},\n",
    "                    quiet='all',\n",
    "                  )\n",
    "proj.config.c_l['intrusive']='granite'\n",
    "proj.run()"
   ]
  },
  {
   "cell_type": "markdown",
   "metadata": {},
   "source": [
    "## Loop Structural"
   ]
  },
  {
   "cell_type": "code",
   "execution_count": null,
   "metadata": {},
   "outputs": [],
   "source": [
    "# Define project pathing from m2l\n",
    "proj_path = proj.config.project_path\n",
    "graph_path = proj.config.graph_path\n",
    "tmp_path = proj.config.tmp_path\n",
    "data_path = proj.config.data_path\n",
    "dtm_path = proj.config.dtm_path\n",
    "output_path = proj.config.output_path\n",
    "vtk_path = proj.config.vtk_path\n",
    "\n",
    "# Define project bounds\n",
    "minx,miny,maxx,maxy = proj.config.bbox\n",
    "model_base = proj.config.bbox_3d['base']\n",
    "model_top = proj.config.bbox_3d['top']\n",
    "\n",
    "fault_file = proj.config.fault_file_csv"
   ]
  },
  {
   "cell_type": "code",
   "execution_count": null,
   "metadata": {
    "scrolled": false
   },
   "outputs": [],
   "source": [
    "from LoopStructural import GeologicalModel\n",
    "from LoopStructural.visualisation import LavaVuModelViewer\n",
    "from datetime import datetime\n",
    "import os\n",
    "import time\n",
    "from datetime import datetime\n",
    "import shutil\n",
    "import logging\n",
    "logging.getLogger().setLevel(logging.ERROR)\n",
    "import lavavu\n",
    "import numpy as np\n",
    "\n",
    "t1a = time.time()\n",
    "\n",
    "nowtime=datetime.now().isoformat(timespec='minutes')   \n",
    "model_name='leaflet'+'_'+nowtime.replace(\":\",\"-\").replace(\"T\",\"-\")\n",
    "if (os.path.exists(vtk_path+model_name)):\n",
    "    shutil.rmtree(vtk_path+model_name)\n",
    "os.mkdir(vtk_path+model_name)\n",
    "filename=vtk_path+model_name+'/'+'surface_name_{}.vtk'\n",
    "\n",
    "\n",
    "f=open(tmp_path+'/bbox.csv','w')\n",
    "f.write('minx,miny,maxx,maxy,lower,upper\\n')\n",
    "ostr='{},{},{},{},{},{}\\n'.format(minx,miny,maxx,maxy,model_base,model_top)\n",
    "f.write(ostr)\n",
    "f.close()\n",
    "\n",
    "\n",
    "fault_params = {'interpolatortype':'FDI',\n",
    "                 'nelements':1e5,\n",
    "                'step':10,\n",
    "                'fault_buffer':0.3,\n",
    "                'solver':'cg',\n",
    "                'cpw':10,\n",
    "                'npw':10}\n",
    "foliation_params = {'interpolatortype':'FDI' , # 'interpolatortype':'PLI',\n",
    "                    'nelements':1e5,  # how many tetras/voxels\n",
    "                    'buffer':1.8,  # how much to extend nterpolation around box\n",
    "                    'solver':'cg',\n",
    "                    'cpw':10,\n",
    "                    'npw':10}\n",
    "model, m2l_data = GeologicalModel.from_map2loop_directory(proj_path,\n",
    "                                                          #    evaluate=False,\n",
    "                                                          fault_params=fault_params,\n",
    "                                                          rescale=False,\n",
    "                                                          foliation_params=foliation_params,\n",
    "                                                         skip_features=['Fault_16245'])\n",
    "#model.to_file(output_path + \"/model.pickle\")    \n",
    "\n",
    "view = LavaVuModelViewer(model,vertical_exaggeration=1) \n",
    "view.nsteps = np.array([200,200,200])\n",
    "view.nsteps=np.array([50,50,50])\n",
    "for sg in model.feature_name_index:\n",
    "    if( 'super' in sg):\n",
    "        view.add_data(model.features[model.feature_name_index[sg]])\n",
    "view.nelements = 1e5\n",
    "view.add_model_surfaces(filename=filename,faults=False)\n",
    "view.nelements=1e6\n",
    "view.add_model_surfaces(filename=filename,strati=False,displacement_cmap = 'rainbow')\n",
    "view.lv.webgl(vtk_path+model_name)\n",
    "view.nsteps = np.array([200,200,200])\n",
    "view.add_model()\n",
    "\n",
    "view.lv.control.Range('alpha', label=\"Global Opacity\")\n",
    "view.lv.control.DualRange(['xmin', 'xmax'], label=\"x clip\", step=0.01, values=[0.0,1.0])\n",
    "view.lv.control.DualRange(['ymin', 'ymax'], label=\"y clip\", step=0.01, values=[0.0,1.0])\n",
    "view.lv.control.DualRange(['zmin', 'zmax'], label=\"z clip\", step=0.01, values=[0.0,1.0])\n",
    "view.lv.control.Range(command='background', range=(0,1), step=0.1, value=0.8)\n",
    "view.lv.control.show() #Show the control panel, including the viewer window\n",
    "view.interactive()  \n",
    "\n",
    "t2 = time.time()\n",
    "print(\"m2l\",(t1a-t0)/60.0,\"LoopStructural\",(t2-t1a)/60.0,\"Total\",(t2-t0)/60.0,\"minutes\")"
   ]
  }
 ],
 "metadata": {
  "kernelspec": {
   "display_name": "Python 3",
   "language": "python",
   "name": "python3"
  },
  "language_info": {
   "codemirror_mode": {
    "name": "ipython",
    "version": 3
   },
   "file_extension": ".py",
   "mimetype": "text/x-python",
   "name": "python",
   "nbconvert_exporter": "python",
   "pygments_lexer": "ipython3",
   "version": "3.7.10"
  }
 },
 "nbformat": 4,
 "nbformat_minor": 4
}
